{
 "cells": [
  {
   "cell_type": "markdown",
   "metadata": {},
   "source": [
    "# Introduction to Python \n",
    "This is a Jupyter Notebook: the blocks you see are called cells, and in our labs we will only need cells containing code (it is possible to run independently each single cell) or cells containing good looking text (you can even use $\\LaTeX$ expressions e.g. $\\hat{f}(\\epsilon) = \\int_{-\\infty}^{+\\infty} f(x) e^{-2 \\pi i x \\epsilon} dx$, double click this cell to see how).\n",
    "\n",
    "You can run each single code cell independently from the others simply by pressing ctrl-enter in the current cell (be careful with the order you do so and recall that each time you run the cell in this way you are not deleting any variable from the memory!). Otherwise it is possible to run the entire notebook pressing the forward botton on the top (this will restart the kernel, i.e. all the variables you have defined will be lost and the entire notebook will be started from the beginning to the end).  \n",
    "\n",
    "See https://jupyter-notebook.readthedocs.io/en/stable/notebook.html for more info on notebooks"
   ]
  },
  {
   "cell_type": "markdown",
   "metadata": {},
   "source": [
    "## Python generalities"
   ]
  },
  {
   "cell_type": "markdown",
   "metadata": {},
   "source": [
    "### Indentation:"
   ]
  },
  {
   "cell_type": "code",
   "execution_count": 249,
   "metadata": {},
   "outputs": [
    {
     "name": "stdout",
     "output_type": "stream",
     "text": [
      "Surprisingly 0 is an even number.\n",
      "Surprisingly 1 is an odd number.\n",
      "Surprisingly 2 is an even number.\n",
      "Surprisingly 3 is an odd number.\n",
      "Surprisingly 4 is an even number.\n",
      "Surprisingly 5 is an odd number.\n",
      "Surprisingly 6 is an even number.\n",
      "Surprisingly 7 is an odd number.\n",
      "Surprisingly 8 is an even number.\n",
      "Surprisingly 9 is an odd number.\n",
      "Now you know even and odd numbers up to 9.\n"
     ]
    }
   ],
   "source": [
    "for item in range(10):\n",
    "    print('Surprisingly ' + str(item) + ' is an ', end='')\n",
    "    if item % 2 == 0:\n",
    "        print('even',  end='')  # this is a comment in Python\n",
    "    else:\n",
    "        print('odd',  end='')   # this is another comment in Python\n",
    "    print(' number.')\n",
    "print('Now you know even and odd numbers up to 9.')"
   ]
  },
  {
   "cell_type": "markdown",
   "metadata": {},
   "source": [
    "Additional notes:\n",
    "- no semicolon needed at the end of each statement.\n",
    "- use # to add a comment.\n",
    "- the end argument in print() replaces the default \\n, i.e. the new line character."
   ]
  },
  {
   "cell_type": "markdown",
   "metadata": {},
   "source": [
    "### Python Types:"
   ]
  },
  {
   "cell_type": "code",
   "execution_count": 250,
   "metadata": {},
   "outputs": [
    {
     "name": "stdout",
     "output_type": "stream",
     "text": [
      "<class 'int'>\n",
      "<class 'float'>\n",
      "<class 'complex'>\n",
      "<class 'bool'>\n",
      "<class 'str'>\n",
      "<class 'NoneType'>\n"
     ]
    }
   ],
   "source": [
    "print(type(10))\n",
    "print(type(7.3))\n",
    "print(type(1+2j))\n",
    "a = True\n",
    "print(type(a))\n",
    "print(type('Machine Learning'))\n",
    "print(type(None))"
   ]
  },
  {
   "cell_type": "markdown",
   "metadata": {},
   "source": [
    "### Scalar operations:"
   ]
  },
  {
   "cell_type": "code",
   "execution_count": 251,
   "metadata": {},
   "outputs": [
    {
     "name": "stdout",
     "output_type": "stream",
     "text": [
      "5.666666666666667\n",
      "5.666666666666667\n",
      "5\n",
      "2\n"
     ]
    }
   ],
   "source": [
    "print(17/3)     # in python >= 3 the result will be the 5.666666666666667\n",
    "print(17. / 3)  # (or 17/3.) classic division returns a float\n",
    "print(17 // 3)  # floor division discards the fractional part\n",
    "print(17 % 3)   # the % operator returns the remainder of the division"
   ]
  },
  {
   "cell_type": "code",
   "execution_count": 252,
   "metadata": {},
   "outputs": [
    {
     "name": "stdout",
     "output_type": "stream",
     "text": [
      "False\n",
      "True\n",
      "False\n"
     ]
    }
   ],
   "source": [
    "a = True\n",
    "b = False\n",
    "print(a and b)\n",
    "print(a or b)\n",
    "print(not a)"
   ]
  },
  {
   "cell_type": "code",
   "execution_count": 253,
   "metadata": {},
   "outputs": [
    {
     "name": "stdout",
     "output_type": "stream",
     "text": [
      "Mario Rossi\n",
      "MarioMarioMario\n",
      "False\n"
     ]
    }
   ],
   "source": [
    "name = \"Mario\"\n",
    "surname = \"Rossi\"\n",
    "print(name + \" \" + surname)\n",
    "print(name*3)\n",
    "print(name == surname)"
   ]
  },
  {
   "cell_type": "markdown",
   "metadata": {},
   "source": [
    "### String indexing:"
   ]
  },
  {
   "cell_type": "raw",
   "metadata": {},
   "source": [
    "+---+---+---+---+---+---+\n",
    "| P | y | t | h | o | n |\n",
    "+---+---+---+---+---+---+\n",
    "  0   1   2   3   4   5\n",
    " -6  -5  -4  -3  -2  -1   "
   ]
  },
  {
   "cell_type": "code",
   "execution_count": 254,
   "metadata": {},
   "outputs": [
    {
     "name": "stdout",
     "output_type": "stream",
     "text": [
      "P\n",
      "n\n",
      "o\n",
      "tho\n",
      "Py\n",
      "on\n",
      "on\n"
     ]
    }
   ],
   "source": [
    "word = 'Python'   # you can define a string using both single and double quotes\n",
    "print(word[0])    # character in position 0\n",
    "print(word[-1])   # last character \n",
    "print(word[-2])   # second-last character\n",
    "print(word[2:5])  # characters from position 2 (included) to 5 (excluded)\n",
    "print(word[:2])   # characters from the beginning to position 2 (excluded)\n",
    "print(word[4:])   # characters from position 4 (included) to the end\n",
    "print(word[-2:])  # characters from the second-last (included) to the end"
   ]
  },
  {
   "cell_type": "markdown",
   "metadata": {},
   "source": [
    "#### Remark\n",
    "The start index is always included while the end is always excluded. Therefore we can write any string *s* as *s[:i] + s[i:]*"
   ]
  },
  {
   "cell_type": "markdown",
   "metadata": {},
   "source": [
    "## TODO 1"
   ]
  },
  {
   "cell_type": "code",
   "execution_count": 255,
   "metadata": {},
   "outputs": [
    {
     "name": "stdout",
     "output_type": "stream",
     "text": [
      "ML\n"
     ]
    }
   ],
   "source": [
    "our_course = \"Machine Learning\"\n",
    "\n",
    "# Print 'ML' using characters from the variable our_course (exploiting concatenation: the plus operator)\n",
    "# YOUR CODE HERE\n",
    "print(our_course.split()[0][0] + our_course.split()[1][0])"
   ]
  },
  {
   "cell_type": "code",
   "execution_count": 256,
   "metadata": {},
   "outputs": [
    {
     "name": "stdout",
     "output_type": "stream",
     "text": [
      "Machine\n"
     ]
    }
   ],
   "source": [
    "# Print only the first word in the variable our_course (i.e. 'Machine')\n",
    "# YOUR CODE HERE\n",
    "print(our_course.split()[0])"
   ]
  },
  {
   "cell_type": "code",
   "execution_count": 257,
   "metadata": {},
   "outputs": [
    {
     "name": "stdout",
     "output_type": "stream",
     "text": [
      "h Lear\n"
     ]
    }
   ],
   "source": [
    "# Concatenate (with a space in between) the 4-th character in our_course variable ('h') and the first 4 characters from the second word ('Lear')\n",
    "# YOUR CODE HERE\n",
    "print(our_course.split()[0][3] + \" \" +our_course.split()[1][0:4])"
   ]
  },
  {
   "cell_type": "code",
   "execution_count": 258,
   "metadata": {},
   "outputs": [
    {
     "name": "stdout",
     "output_type": "stream",
     "text": [
      "ML\n",
      "Machine\n",
      "h Lear\n"
     ]
    }
   ],
   "source": [
    "# Try the same 3 points using the reverse indexing\n",
    "# YOUR CODE HERE\n",
    "print(our_course.split()[-2][0] + our_course.split()[-1][0])\n",
    "print(our_course.split()[-2])\n",
    "print(our_course.split()[-2][-4] + \" \" + our_course.split()[-1][-8:-4])"
   ]
  },
  {
   "cell_type": "markdown",
   "metadata": {},
   "source": [
    "## Containers"
   ]
  },
  {
   "cell_type": "markdown",
   "metadata": {},
   "source": [
    "### Lists:\n",
    "A **list** represents an ordered, mutable collection of objects (any type of Python object)\n",
    "#### Remark:\n",
    "You can mix and match any type of object in a list, add to it and remove from it at will"
   ]
  },
  {
   "cell_type": "code",
   "execution_count": 259,
   "metadata": {},
   "outputs": [
    {
     "name": "stdout",
     "output_type": "stream",
     "text": [
      "[['a', 'b', 'c'], [1, 2, 3]]\n"
     ]
    }
   ],
   "source": [
    "empty_list = []\n",
    "empty_list = list() # alternative syntax\n",
    "\n",
    "char_list = list(('a', 'b', 'c', 'd')) # conversion to list\n",
    "num_list = [1, 2, 3, 4]\n",
    "string_list = ['I','will','pass','ML']\n",
    "\n",
    "# concatenation\n",
    "a = ['a', 'b', 'c']\n",
    "n = [1, 2, 3]\n",
    "x = [a, n]\n",
    "print(x) # how to index in this case?"
   ]
  },
  {
   "cell_type": "markdown",
   "metadata": {},
   "source": [
    "## TODO 2\n",
    "Please note the difference between `our_course` (that is a `string`) and `our_course_list` (that is a `list`)"
   ]
  },
  {
   "cell_type": "code",
   "execution_count": 260,
   "metadata": {},
   "outputs": [
    {
     "name": "stdout",
     "output_type": "stream",
     "text": [
      "['M', 'a', 'c', 'h', 'i', 'n', 'e', ' ', 'L', 'e', 'a', 'r', 'n', 'i', 'n', 'g']\n"
     ]
    }
   ],
   "source": [
    "our_course_list = list(our_course)\n",
    "print(our_course_list)"
   ]
  },
  {
   "cell_type": "code",
   "execution_count": 261,
   "metadata": {},
   "outputs": [
    {
     "name": "stdout",
     "output_type": "stream",
     "text": [
      "ML\n",
      "['M', 'a', 'c', 'h', 'i', 'n', 'e']\n",
      "['h', ' ', 'L', 'e', 'a']\n"
     ]
    }
   ],
   "source": [
    "# Perform the same indexing as before, you can choose if normal or reverse indexing\n",
    "# YOUR CODE HERE\n",
    "print(our_course_list[0] + our_course_list[8])\n",
    "print(our_course_list[0:7])\n",
    "print(list(our_course_list[3]) + list(our_course_list[7]) + list(our_course_list[8:11]))"
   ]
  },
  {
   "cell_type": "code",
   "execution_count": 262,
   "metadata": {},
   "outputs": [
    {
     "name": "stdout",
     "output_type": "stream",
     "text": [
      "ml\n"
     ]
    }
   ],
   "source": [
    "# Modify the characters \"M\" and \"L\" in our_course_list to their lowercase version\n",
    "# YOUR CODE HERE\n",
    "print(our_course_list[0].lower() + our_course_list[8].lower())\n"
   ]
  },
  {
   "cell_type": "code",
   "execution_count": 263,
   "metadata": {},
   "outputs": [
    {
     "name": "stdout",
     "output_type": "stream",
     "text": [
      "m\n"
     ]
    }
   ],
   "source": [
    "# Do the same with the string our_course (why do you get an error?)\n",
    "# YOUR CODE HERE\n",
    "print(our_course[0].lower())"
   ]
  },
  {
   "cell_type": "code",
   "execution_count": 264,
   "metadata": {},
   "outputs": [
    {
     "name": "stdout",
     "output_type": "stream",
     "text": [
      "b\n",
      "3\n"
     ]
    }
   ],
   "source": [
    "# Try to access the item 'b' and the item 3 in variable x\n",
    "# YOUR CODE HERE\n",
    "print(x[0][1])\n",
    "print(x[1][2])"
   ]
  },
  {
   "cell_type": "markdown",
   "metadata": {},
   "source": [
    "### Lists (part 2):"
   ]
  },
  {
   "cell_type": "code",
   "execution_count": 265,
   "metadata": {},
   "outputs": [
    {
     "name": "stdout",
     "output_type": "stream",
     "text": [
      "[10, 8, 7, 6, 5, 4, 3, 2, 1, 9]\n"
     ]
    }
   ],
   "source": [
    "int_list = [10, 9, 8, 7, 6, 5, 4, 3, 2, 1]               \n",
    "int_list.append(9)  \n",
    "int_list.remove(9)                  # remove the first occurrence of 9\n",
    "print(int_list)"
   ]
  },
  {
   "cell_type": "code",
   "execution_count": 266,
   "metadata": {},
   "outputs": [
    {
     "name": "stdout",
     "output_type": "stream",
     "text": [
      "9\n",
      "[10, 8, 7, 6, 5, 4, 3, 2, 1]\n"
     ]
    }
   ],
   "source": [
    "removed_number = int_list.pop()     # return and remove the last item\n",
    "print(removed_number)\n",
    "print(int_list)"
   ]
  },
  {
   "cell_type": "code",
   "execution_count": 267,
   "metadata": {},
   "outputs": [
    {
     "name": "stdout",
     "output_type": "stream",
     "text": [
      "[10, 8, 7, 6, 5, 4, 3, 2, 1]\n",
      "[1, 2, 3, 4, 5, 6, 7, 8, 10]\n",
      "[10, 7, 5, 3, 1]\n"
     ]
    }
   ],
   "source": [
    "print(int_list[::])                 # all elements, equal to print(int_list)\n",
    "print(int_list[::-1])               # all elements in reverse order\n",
    "print(int_list[0:9:2])              # elements in even positions from 0 to 9"
   ]
  },
  {
   "cell_type": "code",
   "execution_count": 268,
   "metadata": {},
   "outputs": [
    {
     "name": "stdout",
     "output_type": "stream",
     "text": [
      "True\n",
      "True\n"
     ]
    }
   ],
   "source": [
    "print(5 in int_list)                # check membership\n",
    "print('hello' in 'hello world')     # membership works also for strings"
   ]
  },
  {
   "cell_type": "markdown",
   "metadata": {},
   "source": [
    "### Mutability:"
   ]
  },
  {
   "cell_type": "code",
   "execution_count": 269,
   "metadata": {},
   "outputs": [],
   "source": [
    "x = 5\n",
    "y = x        # This means that y = x = 5\n",
    "x = 9        # Now we have the x = 9 and y = 5 (y does not change!)"
   ]
  },
  {
   "cell_type": "code",
   "execution_count": 270,
   "metadata": {},
   "outputs": [],
   "source": [
    "x = [1, 2, 3]\n",
    "y = x        # This means that y = x = [1,2,3]\n",
    "x.append(4)  # Now we have the x = [1,2,3,4] and y = [1,2,3,4] (y does change!)\n",
    "y.pop()      # Now we have the x = [1,2,3] and y = [1,2,3] (x does change!)\n",
    "x[1] = 123   # Now we have both x and y equal to [1, 123, 3]    "
   ]
  },
  {
   "cell_type": "markdown",
   "metadata": {},
   "source": [
    "Mutable means that x now has a reference to the value of y (both of them 'point' to the same memory). Immutable means that x now has a copy of the value of y"
   ]
  },
  {
   "cell_type": "markdown",
   "metadata": {},
   "source": [
    "## TODO 3"
   ]
  },
  {
   "cell_type": "code",
   "execution_count": 271,
   "metadata": {},
   "outputs": [
    {
     "name": "stdout",
     "output_type": "stream",
     "text": [
      "[1, 2, 3]\n",
      "[1, 2, 3]\n",
      "[1, 2, 3, 4]\n",
      "[1, 2, 3]\n",
      "[1, 123, 3]\n"
     ]
    }
   ],
   "source": [
    "# Print every intermediate step of the previous cell (just copy-paste it and add a print statement for x and y after each line)\n",
    "# YOUR CODE HERE\n",
    "x = [1, 2, 3]\n",
    "print(x)\n",
    "y = x        # This means that y = x = [1,2,3]\n",
    "print(y)\n",
    "x.append(4)  # Now we have the x = [1,2,3,4] and y = [1,2,3,4] (y does change!)\n",
    "print(x)\n",
    "y.pop()      # Now we have the x = [1,2,3] and y = [1,2,3] (x does change!)\n",
    "print(y)\n",
    "x[1] = 123   # Now we have both x and y equal to [1, 123, 3]    \n",
    "print(x)"
   ]
  },
  {
   "cell_type": "code",
   "execution_count": 272,
   "metadata": {},
   "outputs": [
    {
     "name": "stdout",
     "output_type": "stream",
     "text": [
      "[4, 3, 2, 1]\n"
     ]
    }
   ],
   "source": [
    "int_list = [1,2,3,4]\n",
    "# Use only the methods `.append()` and `.remove()` to reverse `int_list`\n",
    "# YOUR CODE HERE\n",
    "int_list.append(4)\n",
    "int_list.append(3)\n",
    "int_list.append(2)\n",
    "int_list.append(1)\n",
    "\n",
    "int_list.remove(1)\n",
    "int_list.remove(2)\n",
    "int_list.remove(3)\n",
    "int_list.remove(4)\n",
    "\n",
    "print(int_list)"
   ]
  },
  {
   "cell_type": "markdown",
   "metadata": {},
   "source": [
    "### Tuples\n",
    "Tuples are ordered immutable collections\n",
    "\n",
    "**Indexing:** Same as string and lists indexing\n",
    "\n",
    "**Membership:** Same as list membership\n",
    "\n",
    "**Other operations:** '+' Concatenation"
   ]
  },
  {
   "cell_type": "code",
   "execution_count": 273,
   "metadata": {},
   "outputs": [
    {
     "name": "stdout",
     "output_type": "stream",
     "text": [
      "2\n"
     ]
    }
   ],
   "source": [
    "num_tuple = (1, 6) # tuple definition, using () instead of []\n",
    "print(len(num_tuple))"
   ]
  },
  {
   "cell_type": "markdown",
   "metadata": {},
   "source": [
    "#### Remark\n",
    "Tuples are just like lists but they are immutable: their values cannot be changed!\n",
    "\n",
    "**Question:** why do we need tuples if lists do more?\n",
    "- Tuples are lighter and more memory efficient\n",
    "- Tuples can be used as keys in a dictionary"
   ]
  },
  {
   "cell_type": "markdown",
   "metadata": {},
   "source": [
    "### Dictionaries:\n",
    "A dictionary (a.k.a. associative array) consists of a collection of key-value pairs. Each key-value pair maps the key to its associated value"
   ]
  },
  {
   "cell_type": "code",
   "execution_count": 274,
   "metadata": {},
   "outputs": [
    {
     "name": "stdout",
     "output_type": "stream",
     "text": [
      "{'Fabio': 18}\n",
      "{'Fabio': 18, 'Leonardo': 31}\n",
      "{'Fabio': 18, 'Leonardo': 31, 'Alessandro': 30}\n"
     ]
    }
   ],
   "source": [
    "name2grade = dict() # Creating an empty dictionary\n",
    "name2grade = {}\n",
    "name2grade['Fabio'] = 18\n",
    "print(name2grade)\n",
    "name2grade['Leonardo'] = 31    \n",
    "print(name2grade)\n",
    "name2grade['Alessandro'] = 30 \n",
    "print(name2grade)"
   ]
  },
  {
   "cell_type": "code",
   "execution_count": 275,
   "metadata": {},
   "outputs": [
    {
     "name": "stdout",
     "output_type": "stream",
     "text": [
      "30\n",
      "dict_keys(['Fabio', 'Leonardo', 'Alessandro'])\n",
      "dict_values([18, 31, 30])\n",
      "dict_items([('Leonardo', 31), ('Alessandro', 30)])\n"
     ]
    }
   ],
   "source": [
    "print(name2grade['Alessandro']) \n",
    "print(name2grade.keys())  \n",
    "print(name2grade.values()) \n",
    "del name2grade['Fabio']   \n",
    "print(name2grade.items())  "
   ]
  },
  {
   "cell_type": "markdown",
   "metadata": {},
   "source": [
    "## Control flow"
   ]
  },
  {
   "cell_type": "markdown",
   "metadata": {},
   "source": [
    "### if-elif-else\n",
    "Remember to put colon (:) after the conditions (and else)"
   ]
  },
  {
   "cell_type": "code",
   "execution_count": 276,
   "metadata": {},
   "outputs": [
    {
     "name": "stdout",
     "output_type": "stream",
     "text": [
      "x < 2\n",
      "The value of x is: 1\n"
     ]
    }
   ],
   "source": [
    "x = 1\n",
    "if x > 2:\n",
    "    print('x > 2')\n",
    "elif x == 2:\n",
    "    print('x = 2')\n",
    "else:\n",
    "    print('x < 2')\n",
    "print(\"The value of x is: \" + str(x))"
   ]
  },
  {
   "cell_type": "code",
   "execution_count": 277,
   "metadata": {},
   "outputs": [
    {
     "name": "stdout",
     "output_type": "stream",
     "text": [
      "Need to study for ML!\n"
     ]
    }
   ],
   "source": [
    "grade = 27.2\n",
    "course = \"Calculus\"\n",
    "if (grade > 26) and (not (course != \"ML\")):\n",
    "    print(\"Everything is good\")\n",
    "else:\n",
    "    print(\"Need to study for ML!\")"
   ]
  },
  {
   "cell_type": "markdown",
   "metadata": {},
   "source": [
    "### for"
   ]
  },
  {
   "cell_type": "code",
   "execution_count": 278,
   "metadata": {},
   "outputs": [
    {
     "name": "stdout",
     "output_type": "stream",
     "text": [
      "1\n",
      "10\n",
      "42\n"
     ]
    }
   ],
   "source": [
    "num_list = [1, 10, 42]\n",
    "\n",
    "# These five loops print the same!\n",
    "for x in num_list:\n",
    "    print(x)"
   ]
  },
  {
   "cell_type": "code",
   "execution_count": 279,
   "metadata": {},
   "outputs": [
    {
     "name": "stdout",
     "output_type": "stream",
     "text": [
      "1\n",
      "10\n",
      "42\n"
     ]
    }
   ],
   "source": [
    "for x in range(3):\n",
    "    print(num_list[x])"
   ]
  },
  {
   "cell_type": "code",
   "execution_count": 280,
   "metadata": {},
   "outputs": [
    {
     "name": "stdout",
     "output_type": "stream",
     "text": [
      "1\n",
      "10\n",
      "42\n"
     ]
    }
   ],
   "source": [
    "for index in range(len(num_list)):\n",
    "    print(num_list[index])"
   ]
  },
  {
   "cell_type": "code",
   "execution_count": 281,
   "metadata": {},
   "outputs": [
    {
     "name": "stdout",
     "output_type": "stream",
     "text": [
      "1\n",
      "10\n",
      "42\n"
     ]
    }
   ],
   "source": [
    "for index in range(0, len(num_list), 1):    # Argument of range is: start, stop, step\n",
    "    print(num_list[index])"
   ]
  },
  {
   "cell_type": "code",
   "execution_count": 282,
   "metadata": {},
   "outputs": [
    {
     "name": "stdout",
     "output_type": "stream",
     "text": [
      "Index is: 0\n",
      "Value is: 1\n",
      "That is equivalent to 1\n",
      "Index is: 1\n",
      "Value is: 10\n",
      "That is equivalent to 10\n",
      "Index is: 2\n",
      "Value is: 42\n",
      "That is equivalent to 42\n"
     ]
    }
   ],
   "source": [
    "for index, element in enumerate(num_list):  # tuple unpacking\n",
    "    print('Index is: ' + str(index))\n",
    "    print('Value is: ' + str(element))\n",
    "    print('That is equivalent to ' + str(num_list[index]))"
   ]
  },
  {
   "cell_type": "markdown",
   "metadata": {},
   "source": [
    "The same can be done with any list (regardless of its content), tuple or string"
   ]
  },
  {
   "cell_type": "markdown",
   "metadata": {},
   "source": [
    "## TODO 4"
   ]
  },
  {
   "cell_type": "code",
   "execution_count": 283,
   "metadata": {},
   "outputs": [
    {
     "name": "stdout",
     "output_type": "stream",
     "text": [
      "I\n",
      "will\n",
      "pass\n",
      "ML\n"
     ]
    }
   ],
   "source": [
    "# Modify the previous code (the 5 code cells about the `for` loop) using the following `string_list` in place of `num_list`.\n",
    "string_list = list(['I','will','pass','ML'])\n",
    "# YOUR CODE HERE\n",
    "for index in range(0, len(string_list), 1):    # Argument of range is: start, stop, step\n",
    "    print(string_list[index])"
   ]
  },
  {
   "cell_type": "code",
   "execution_count": 284,
   "metadata": {},
   "outputs": [
    {
     "name": "stdout",
     "output_type": "stream",
     "text": [
      "I will pass ML "
     ]
    }
   ],
   "source": [
    "# Print the elements of `string_list` separated by spaces.\n",
    "# YOUR CODE HERE\n",
    "for index in range(0, len(string_list), 1):    # Argument of range is: start, stop, step\n",
    "    print(string_list[index], end=' ')"
   ]
  },
  {
   "cell_type": "markdown",
   "metadata": {},
   "source": [
    "#### Iterating over dictionaries\n",
    "The for statement can be exploited to iterate through dictionaries too"
   ]
  },
  {
   "cell_type": "code",
   "execution_count": 285,
   "metadata": {},
   "outputs": [
    {
     "name": "stdout",
     "output_type": "stream",
     "text": [
      "Students with grade = 30\n",
      "Leonardo\n",
      "Alessandro\n",
      "Students with grade = 26\n",
      "Fabio\n",
      "Luca\n"
     ]
    }
   ],
   "source": [
    "grades = {30: ['Leonardo', 'Alessandro']}      # grades is a dictionary\n",
    "grades[26] = ['Fabio', 'Luca']                 # adding a new key\n",
    "\n",
    "for key in grades.keys():         \n",
    "    print(\"Students with grade = \" + str(key))\n",
    "    for elem in grades[key]:\n",
    "        print(elem)"
   ]
  },
  {
   "cell_type": "code",
   "execution_count": 286,
   "metadata": {},
   "outputs": [
    {
     "name": "stdout",
     "output_type": "stream",
     "text": [
      "Key = 30\n",
      "Key = 26\n",
      "Value = ['Leonardo', 'Alessandro']\n",
      "Value = ['Fabio', 'Luca']\n",
      "Key: 30\n",
      "Value: ['Leonardo', 'Alessandro']\n",
      "Key: 26\n",
      "Value: ['Fabio', 'Luca']\n"
     ]
    }
   ],
   "source": [
    "grades = {30: ['Leonardo', 'Alessandro'], 26: ['Fabio', 'Luca']}  \n",
    "\n",
    "for key in grades.keys():        # iterate over the keys of a dict\n",
    "    print(\"Key = \" + str(key))\n",
    "    \n",
    "for val in grades.values():      # iterate over the values of a dict\n",
    "    print(\"Value = \" + str(val))\n",
    "    \n",
    "for key, val in grades.items():  # iterate over both keys and values of a dict\n",
    "    print(\"Key: \" + str(key) + \"\\nValue: \" + str(val))    "
   ]
  },
  {
   "cell_type": "markdown",
   "metadata": {},
   "source": [
    "## TODO 5"
   ]
  },
  {
   "cell_type": "code",
   "execution_count": 290,
   "metadata": {},
   "outputs": [
    {
     "name": "stdout",
     "output_type": "stream",
     "text": [
      "{30: ['Bjorn Magnus'], 26: ['Fabio', 'Luca'], 31: ['Maxmillan', 'Adolf'], -7: ['Bjorn Magnus'], 18: ['Nihal']}\n",
      "22.142857142857142\n"
     ]
    }
   ],
   "source": [
    "# Add to the dictionary grades your own (and possibly those of some of your friends) with an unbiased estimate of your grade\n",
    "# YOUR CODE HERE\n",
    "grades[31] = ['Maxmillan', 'Adolf']\n",
    "grades[30] = ['Bjorn Magnus']\n",
    "grades[18] = ['Nihal']\n",
    "\n",
    "print(grades)\n",
    "sum = 0\n",
    "total_len = 0\n",
    "for key, val in grades.items(): \n",
    "    sum += len(val)*key\n",
    "    total_len += len(val)\n",
    "\n",
    "print(sum/total_len)"
   ]
  },
  {
   "cell_type": "code",
   "execution_count": 41,
   "metadata": {},
   "outputs": [],
   "source": [
    "# Write a for loop to get the average of the grades in the ML course\n",
    "# YOUR CODE HERE"
   ]
  },
  {
   "cell_type": "markdown",
   "metadata": {},
   "source": [
    "### while\n",
    "Flow controllers:\n",
    "- break: exit the loop\n",
    "- continue: go to the next iteration"
   ]
  },
  {
   "cell_type": "code",
   "execution_count": 42,
   "metadata": {},
   "outputs": [
    {
     "name": "stdout",
     "output_type": "stream",
     "text": [
      "1\n",
      "2\n",
      "3\n",
      "4\n"
     ]
    }
   ],
   "source": [
    "counter = 1\n",
    "while (counter < 10):\n",
    "    print(counter)\n",
    "    counter = counter + 1\n",
    "    if counter == 5:\n",
    "        break"
   ]
  },
  {
   "cell_type": "code",
   "execution_count": 43,
   "metadata": {},
   "outputs": [
    {
     "name": "stdout",
     "output_type": "stream",
     "text": [
      "2\n",
      "3\n",
      "4\n",
      "7\n",
      "8\n",
      "10\n"
     ]
    }
   ],
   "source": [
    "counter = 1\n",
    "while (counter < 10):\n",
    "    counter = counter + 1\n",
    "    if counter in [5, 6, 9]:\n",
    "        continue\n",
    "    print(counter)"
   ]
  },
  {
   "cell_type": "markdown",
   "metadata": {},
   "source": [
    "## Functions"
   ]
  },
  {
   "cell_type": "markdown",
   "metadata": {},
   "source": [
    "### Syntax\n",
    "In Python you can:\n",
    "- construct new functions during the execution of a program (using *def*)\n",
    "- store functions in data structures\n",
    "- pass functions as arguments to other functions\n",
    "- return functions as the values of other functions\n",
    "\n",
    "Important facts:\n",
    "- all functions return a value (if no return statement is specified then None is returned)\n",
    "- tuples are used to return multiple values\n",
    "- functions can take positional and keyword arguments\n",
    "- functions can take variable number of arguments (also no arguments)\n",
    "- you can specify default arguments"
   ]
  },
  {
   "cell_type": "code",
   "execution_count": 44,
   "metadata": {},
   "outputs": [],
   "source": [
    "def my_add(a, b=2):  # b is a default argument, it must follow the positional arguments \n",
    "    return a + b\n",
    "\n",
    "def my_div(a, b):\n",
    "    if b == 0:\n",
    "        return 'Division by zero'\n",
    "    else:\n",
    "        return a / b"
   ]
  },
  {
   "cell_type": "code",
   "execution_count": 45,
   "metadata": {},
   "outputs": [],
   "source": [
    "def say_hello():\n",
    "    print('Hello')"
   ]
  },
  {
   "cell_type": "code",
   "execution_count": 46,
   "metadata": {},
   "outputs": [
    {
     "name": "stdout",
     "output_type": "stream",
     "text": [
      "7\n"
     ]
    }
   ],
   "source": [
    "print(my_add(1, 6))                  # positional order"
   ]
  },
  {
   "cell_type": "code",
   "execution_count": 47,
   "metadata": {},
   "outputs": [
    {
     "name": "stdout",
     "output_type": "stream",
     "text": [
      "7\n"
     ]
    }
   ],
   "source": [
    "print(my_add(5))                     # default values"
   ]
  },
  {
   "cell_type": "code",
   "execution_count": 48,
   "metadata": {},
   "outputs": [
    {
     "name": "stdout",
     "output_type": "stream",
     "text": [
      "7\n",
      "7\n"
     ]
    }
   ],
   "source": [
    "print(my_add(a=3, b=4))              # keyword arguments\n",
    "print(my_add(b=4, a=3))          "
   ]
  },
  {
   "cell_type": "code",
   "execution_count": 49,
   "metadata": {},
   "outputs": [
    {
     "data": {
      "text/plain": [
       "2"
      ]
     },
     "execution_count": 49,
     "metadata": {},
     "output_type": "execute_result"
    }
   ],
   "source": [
    "functions_list = [my_add, my_div]    # storing functions\n",
    "inputs = [0, 1, 2, 3, 4]\n",
    "\n",
    "functions_list[0](inputs[0])"
   ]
  },
  {
   "cell_type": "code",
   "execution_count": 50,
   "metadata": {},
   "outputs": [
    {
     "name": "stdout",
     "output_type": "stream",
     "text": [
      "10\n",
      "11\n",
      "12\n",
      "13\n",
      "14\n",
      "Division by zero\n",
      "10.0\n",
      "5.0\n",
      "3.3333333333333335\n",
      "2.5\n"
     ]
    }
   ],
   "source": [
    "for f in functions_list:\n",
    "    for i in inputs:\n",
    "        print(f(10, i))"
   ]
  },
  {
   "cell_type": "markdown",
   "metadata": {},
   "source": [
    "## TODO 6 "
   ]
  },
  {
   "cell_type": "code",
   "execution_count": 51,
   "metadata": {},
   "outputs": [],
   "source": [
    "# Write the function: my_repeater(n) that calls say_hello() n times\n",
    "# YOUR CODE HERE"
   ]
  },
  {
   "cell_type": "code",
   "execution_count": 52,
   "metadata": {},
   "outputs": [],
   "source": [
    "# Create a dictionary with 2 keys: 'my_arithmetics' and 'my_print'.\n",
    "# Insert in the first key a list containing both my_add and my_div.\n",
    "# Insert in the second key a list containing the functions say_hello and my_repeater.\n",
    "# YOUR CODE HERE"
   ]
  },
  {
   "cell_type": "code",
   "execution_count": 53,
   "metadata": {},
   "outputs": [],
   "source": [
    "# Now call one time each function you stored in the dictionary of lists\n",
    "# YOUR CODE HERE"
   ]
  },
  {
   "cell_type": "markdown",
   "metadata": {},
   "source": [
    "## Importing Modules\n",
    "A module is a file containing Python definitions and statements\n",
    "\n",
    "This means that we can import in our script functions written by others in order to improve our code. In this course we will need:\n",
    "- numpy: https://numpy.org/\n",
    "- scipy: https://docs.scipy.org/doc/scipy/reference/\n",
    "- sklearn: https://scikit-learn.org/stable/\n",
    "\n",
    "### NumPy\n",
    "NumPy is a very optimized array-processing package. Moreover it presents a sintax very similar to MATLAB (it will be very intuitive for you).\n",
    "\n",
    "Let's introduce the main object in NumPy: **ndarray** object\n",
    "- Table of elements (usually numbers) of the same type\n",
    "- The dimensions are called axes\n",
    "- The number of axes is called rank"
   ]
  },
  {
   "cell_type": "code",
   "execution_count": 54,
   "metadata": {},
   "outputs": [
    {
     "name": "stdout",
     "output_type": "stream",
     "text": [
      "[[0. 0. 0. 0.]\n",
      " [0. 0. 0. 0.]\n",
      " [0. 0. 0. 0.]]\n"
     ]
    }
   ],
   "source": [
    "import numpy as np       # imports numpy with alias np, therefore to call a function you will write np.function_you_want()\n",
    "\n",
    "arr = np.zeros((3, 4))   # this creates an array of zeros of 3 rows and 4 columns\n",
    "print(arr)"
   ]
  },
  {
   "cell_type": "code",
   "execution_count": 55,
   "metadata": {},
   "outputs": [
    {
     "name": "stdout",
     "output_type": "stream",
     "text": [
      "[[1. 1. 1. 1.]\n",
      " [1. 1. 1. 1.]\n",
      " [1. 1. 1. 1.]]\n"
     ]
    }
   ],
   "source": [
    "from numpy import ones   # this import only the function you want (no reference to numpy is necessary anymore)\n",
    "\n",
    "arr = ones((3, 4))       # this creates an array of ones 3 times 4\n",
    "print(arr)"
   ]
  },
  {
   "cell_type": "code",
   "execution_count": 56,
   "metadata": {},
   "outputs": [
    {
     "name": "stdout",
     "output_type": "stream",
     "text": [
      "[1 2 3]\n",
      "[[1 2 3]\n",
      " [4 5 6]]\n",
      "[[1. 0. 0. 0.]\n",
      " [0. 1. 0. 0.]\n",
      " [0. 0. 1. 0.]\n",
      " [0. 0. 0. 1.]]\n",
      "[[0.90650048 0.05129041 0.21773436 0.8067637 ]\n",
      " [0.9468113  0.57292582 0.70324958 0.55180824]]\n"
     ]
    }
   ],
   "source": [
    "a = np.array([1, 2, 3])                 # single row vector\n",
    "b = np.array([[1, 2, 3], [4, 5, 6]])    # 2 times 3 ndarray (i.e. matrix)\n",
    "c = np.eye(4)                           # 4 times 4 identity matrix\n",
    "d = np.random.random((2, 4))            # 2 times 4 random matrix of floats in the interval [0, 1)\n",
    "\n",
    "print(a)\n",
    "print(b)\n",
    "print(c)\n",
    "print(d)"
   ]
  },
  {
   "cell_type": "markdown",
   "metadata": {},
   "source": [
    "#### Indexing in NumPy (the same of before)"
   ]
  },
  {
   "cell_type": "code",
   "execution_count": 57,
   "metadata": {},
   "outputs": [
    {
     "name": "stdout",
     "output_type": "stream",
     "text": [
      "[[0.90650048 0.05129041 0.21773436 0.8067637 ]\n",
      " [0.9468113  0.57292582 0.70324958 0.55180824]]\n",
      "0.5729258240562443\n",
      "[[0.90650048 0.05129041]\n",
      " [0.9468113  0.57292582]]\n",
      "[]\n",
      "[[0.05129041 0.21773436]\n",
      " [0.57292582 0.70324958]]\n",
      "[0.05129041 0.21773436 0.8067637 ]\n"
     ]
    }
   ],
   "source": [
    "print(d[:, :])      # whole ndarray, equal to print(d)\n",
    "print(d[1, 1])      # element in the second row and second column\n",
    "print(d[:, 0:2])    # the first 2 columns\n",
    "print(d[:, 1:1])    # doesn't print anything since the slice is on the same index\n",
    "print(d[:, 1:-1])   # second and third column\n",
    "print(d[0, 1:])     # from second to last elements of the first row "
   ]
  },
  {
   "cell_type": "markdown",
   "metadata": {},
   "source": [
    "#### Access properties of ndarrays"
   ]
  },
  {
   "cell_type": "code",
   "execution_count": 58,
   "metadata": {},
   "outputs": [
    {
     "name": "stdout",
     "output_type": "stream",
     "text": [
      "2\n",
      "(2, 4)\n",
      "8\n"
     ]
    }
   ],
   "source": [
    "d = np.random.random((2,4)) \n",
    "print(d.ndim)  # array dimensions (axes)\n",
    "print(d.shape) # shape of the array (note it is a tuple)\n",
    "print(d.size)  # total number of elements of the array"
   ]
  },
  {
   "cell_type": "markdown",
   "metadata": {},
   "source": [
    "#### Creating ndarrays and reshaping"
   ]
  },
  {
   "cell_type": "code",
   "execution_count": 59,
   "metadata": {},
   "outputs": [
    {
     "name": "stdout",
     "output_type": "stream",
     "text": [
      "[ 0  5 10 15 20 25]\n"
     ]
    }
   ],
   "source": [
    "f = np.arange(0, 30, 5)            # sequence of integers from 0 (included) to 30 (excluded) with step 5\n",
    "print(f)"
   ]
  },
  {
   "cell_type": "code",
   "execution_count": 60,
   "metadata": {},
   "outputs": [
    {
     "name": "stdout",
     "output_type": "stream",
     "text": [
      "[0.         0.55555556 1.11111111 1.66666667 2.22222222 2.77777778\n",
      " 3.33333333 3.88888889 4.44444444 5.        ]\n"
     ]
    }
   ],
   "source": [
    "g = np.linspace(0, 5, 10)          # sequence of 10 values evenly spaced in the interval [0, 5]\n",
    "print(g)"
   ]
  },
  {
   "cell_type": "code",
   "execution_count": 61,
   "metadata": {},
   "outputs": [
    {
     "name": "stdout",
     "output_type": "stream",
     "text": [
      "<class 'numpy.ndarray'>\n"
     ]
    }
   ],
   "source": [
    "listarr = np.array([1, 2, 3])      # converts the list into an array\n",
    "print(type(listarr))"
   ]
  },
  {
   "cell_type": "code",
   "execution_count": 62,
   "metadata": {},
   "outputs": [
    {
     "name": "stdout",
     "output_type": "stream",
     "text": [
      "[[[0.66937747 0.48563808 0.16468917]\n",
      "  [0.57570159 0.933029   0.85778907]]\n",
      "\n",
      " [[0.33554617 0.46807992 0.9991358 ]\n",
      "  [0.3349397  0.60565624 0.15654121]]]\n"
     ]
    }
   ],
   "source": [
    "arr = np.random.random((3, 4))\n",
    "newarr = arr.reshape(2, 2, 3)      # reshape array from 3x4 to 2x2x3\n",
    "print(newarr)"
   ]
  },
  {
   "cell_type": "code",
   "execution_count": 63,
   "metadata": {},
   "outputs": [
    {
     "name": "stdout",
     "output_type": "stream",
     "text": [
      "[0.66937747 0.48563808 0.16468917 0.57570159 0.933029   0.85778907\n",
      " 0.33554617 0.46807992 0.9991358  0.3349397  0.60565624 0.15654121]\n"
     ]
    }
   ],
   "source": [
    "fltarr = arr.flatten()             # collapse to 1 dimension\n",
    "print(fltarr)"
   ]
  },
  {
   "cell_type": "markdown",
   "metadata": {},
   "source": [
    "#### Stacking and splitting ndarrays"
   ]
  },
  {
   "cell_type": "code",
   "execution_count": 64,
   "metadata": {},
   "outputs": [
    {
     "name": "stdout",
     "output_type": "stream",
     "text": [
      "[[0. 0.]\n",
      " [0. 0.]]\n",
      "[[1. 1.]\n",
      " [1. 1.]]\n",
      "[5, 6]\n"
     ]
    }
   ],
   "source": [
    "a, b = np.zeros((2, 2)), np.ones((2, 2))  # note the double assignment\n",
    "c = [5, 6]\n",
    "print(a)\n",
    "print(b)\n",
    "print(c)"
   ]
  },
  {
   "cell_type": "code",
   "execution_count": 65,
   "metadata": {},
   "outputs": [
    {
     "name": "stdout",
     "output_type": "stream",
     "text": [
      "[[0. 0.]\n",
      " [0. 0.]\n",
      " [1. 1.]\n",
      " [1. 1.]]\n"
     ]
    }
   ],
   "source": [
    "print(np.vstack((a, b)))          # Vertical stacking"
   ]
  },
  {
   "cell_type": "code",
   "execution_count": 66,
   "metadata": {},
   "outputs": [
    {
     "name": "stdout",
     "output_type": "stream",
     "text": [
      "[[0. 0. 1. 1.]\n",
      " [0. 0. 1. 1.]]\n"
     ]
    }
   ],
   "source": [
    "print(np.hstack((a, b)))          # Horizontal stacking"
   ]
  },
  {
   "cell_type": "code",
   "execution_count": 67,
   "metadata": {},
   "outputs": [
    {
     "name": "stdout",
     "output_type": "stream",
     "text": [
      "[[0. 0. 5.]\n",
      " [0. 0. 6.]]\n"
     ]
    }
   ],
   "source": [
    "print(np.column_stack((a, c)))    # Stacking columns"
   ]
  },
  {
   "cell_type": "code",
   "execution_count": 68,
   "metadata": {},
   "outputs": [
    {
     "name": "stdout",
     "output_type": "stream",
     "text": [
      "[[0. 0. 1. 1.]\n",
      " [0. 0. 1. 1.]]\n"
     ]
    }
   ],
   "source": [
    "print(np.concatenate((a, b), 1))  # Concatenate along axis 1 (same as column_stack)"
   ]
  },
  {
   "cell_type": "code",
   "execution_count": 69,
   "metadata": {},
   "outputs": [
    {
     "name": "stdout",
     "output_type": "stream",
     "text": [
      "[array([[0.],\n",
      "       [0.]]), array([[0.],\n",
      "       [0.]])]\n"
     ]
    }
   ],
   "source": [
    "print(np.hsplit(a, 2))            # Horizontal splitting"
   ]
  },
  {
   "cell_type": "code",
   "execution_count": 70,
   "metadata": {},
   "outputs": [
    {
     "name": "stdout",
     "output_type": "stream",
     "text": [
      "[array([[0., 0.]]), array([[0., 0.]])]\n"
     ]
    }
   ],
   "source": [
    "print(np.vsplit(a, 2))            # Vertical splitting"
   ]
  },
  {
   "cell_type": "markdown",
   "metadata": {},
   "source": [
    "## TODO 7"
   ]
  },
  {
   "cell_type": "code",
   "execution_count": 71,
   "metadata": {},
   "outputs": [],
   "source": [
    "# Write a function my_random(a, b, c) with three arguments, which outputs a one-dimensional array of length c, where each entry is uniformly distributed between a and b\n",
    "# YOUR CODE HERE"
   ]
  },
  {
   "cell_type": "code",
   "execution_count": 72,
   "metadata": {},
   "outputs": [],
   "source": [
    "# Assume you pass the exam (i.e. 18<=grade<=30). By making use of my_random, draw two samples of possible grades, take the better one, convert it into an integer and print it\n",
    "# YOUR CODE HERE"
   ]
  }
 ],
 "metadata": {
  "kernelspec": {
   "display_name": "venv",
   "language": "python",
   "name": "python3"
  },
  "language_info": {
   "codemirror_mode": {
    "name": "ipython",
    "version": 3
   },
   "file_extension": ".py",
   "mimetype": "text/x-python",
   "name": "python",
   "nbconvert_exporter": "python",
   "pygments_lexer": "ipython3",
   "version": "3.7.6"
  },
  "panel-cell-order": [
   "9800675c",
   "6e71411f",
   "33b96370",
   "5234ead5",
   "b1a65519",
   "4f277b2f",
   "a31f49c4",
   "9a060d97",
   "bccecd10",
   "dbb4fa11",
   "d224e9b5",
   "17d2bb7e",
   "9b7c3e96",
   "f0e457f6",
   "1afdb2e9",
   "ec065137",
   "0f87520b",
   "7ac21823",
   "8cfd451a",
   "ab613812",
   "1971aab7",
   "df0a42d3",
   "5467e709",
   "b977be6e",
   "aa0ba202",
   "31dbcf82",
   "abbdc9cc",
   "1b7c2038",
   "64b3468c",
   "a28d9da5",
   "57b10e4d",
   "368569e4",
   "4e166e03",
   "9d477daa",
   "afc497fc",
   "7cfc4a4b",
   "0e552c3c",
   "4ad58494",
   "eda754bc",
   "903a2038",
   "be9973f5",
   "077c2c67",
   "29bff01e",
   "26de3893",
   "d922abed",
   "64cf9609",
   "5295e0a8",
   "e9771388",
   "d5027960",
   "0e815d15",
   "d559e706",
   "34e2bd10",
   "99c58dc3",
   "b2df417c",
   "cb0d2fce",
   "0ebd9117",
   "0299980e",
   "3b3df7ee",
   "857acfaa",
   "07e034da",
   "6f66333e",
   "a46d4658",
   "75b63523",
   "b9bbaab5",
   "85e1401a",
   "48987be2",
   "842968c0",
   "20275596",
   "05773733",
   "a29d53c8"
  ]
 },
 "nbformat": 4,
 "nbformat_minor": 4
}
