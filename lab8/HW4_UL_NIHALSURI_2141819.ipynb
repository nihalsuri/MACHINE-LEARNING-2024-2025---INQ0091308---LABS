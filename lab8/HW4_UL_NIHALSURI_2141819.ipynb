{
 "cells": [
  {
   "cell_type": "markdown",
   "metadata": {},
   "source": [
    "Before you turn this problem in, make sure everything runs as expected. First, **restart the kernel** (in the menubar, select Kernel$\\rightarrow$Restart) and then **run all cells** (in the menubar, select Cell$\\rightarrow$Run All).\n",
    "\n",
    "Make sure you fill in any place that says `YOUR CODE HERE` or \"YOUR ANSWER HERE\" and remove every line containing the expression: \"raise ...\" (if you leave such a line your code will not run).\n",
    "\n",
    "Do not remove any cell from the notebook you downloaded. You can add any number of cells (and remove them if not more necessary).\n",
    "\n",
    "Do not leave any variable initialized to None.\n",
    "\n",
    "## IMPORTANT: make sure to rerun all the code from the beginning to obtain the results for the final version of your notebook, since this is the way we will do it before evaluating your notebook!!!\n",
    "\n",
    "## Make sure to name your notebook file (.ipynb) correctly:\n",
    "### - HW4_UL_NAMESURNAME_ID (E.g. : HW4_UL_MARIOROSSI_2204567)\n",
    "\n",
    "## Fill in your name, surname and id number (numero matricola) below:"
   ]
  },
  {
   "cell_type": "code",
   "execution_count": 1,
   "metadata": {},
   "outputs": [],
   "source": [
    "NAME = \"NIHAL SURI\"\n",
    "ID_number = int(\"2141819\")\n",
    "\n",
    "import IPython\n",
    "assert IPython.version_info[0] >= 3, \"Your version of IPython is too old, please update it.\""
   ]
  },
  {
   "cell_type": "markdown",
   "metadata": {},
   "source": [
    "---"
   ]
  },
  {
   "cell_type": "markdown",
   "metadata": {
    "deletable": false,
    "editable": false,
    "nbgrader": {
     "cell_type": "markdown",
     "checksum": "62a1844281a8f2ba3333d4e32ba78a46",
     "grade": false,
     "grade_id": "cell-0584f59660d49a89",
     "locked": true,
     "schema_version": 3,
     "solution": false,
     "task": false
    }
   },
   "source": [
    "# HOMEWORK #4\n",
    "\n",
    "## Unsupervised learning\n",
    "\n",
    "In this notebook we are going to explore the use of unsupervised clustering methods."
   ]
  },
  {
   "cell_type": "code",
   "execution_count": 2,
   "metadata": {
    "deletable": false,
    "editable": false,
    "nbgrader": {
     "cell_type": "code",
     "checksum": "71f03c7147d9131d0806972554439435",
     "grade": true,
     "grade_id": "cell-5921a1e94ae9ccb8",
     "locked": true,
     "points": 0,
     "schema_version": 3,
     "solution": false,
     "task": false
    }
   },
   "outputs": [],
   "source": [
    "import numpy as np\n",
    "import pandas as pd \n",
    "import matplotlib.pyplot as plt\n",
    "\n",
    "from scipy.stats import multivariate_normal\n",
    "from sklearn.datasets import make_blobs\n"
   ]
  },
  {
   "cell_type": "code",
   "execution_count": 3,
   "metadata": {
    "deletable": false,
    "nbgrader": {
     "cell_type": "code",
     "checksum": "52e007eef2fb9192cb2bded5120aeaba",
     "grade": false,
     "grade_id": "cell-6b34ea4412efb0ef",
     "locked": false,
     "schema_version": 3,
     "solution": true,
     "task": false
    }
   },
   "outputs": [],
   "source": [
    "# TODO 1: Write a function to compute the probability density function (pdf) of a gaussian random vector:\n",
    "# you just need to apply its definition.\n",
    "\n",
    "def gv_normalizing_const(sigma : np.ndarray) -> np.float64:\n",
    "    '''\n",
    "    Function to compute the normalization coefficient of a vector valued Gaussian distribution.\n",
    "    :param sigma: Covariance of the Gaussian random vector (d x d Positive Definite matrix). \n",
    "    '''\n",
    "    # YOUR CODE HERE\n",
    "    # Normalizing constant for a multivariate gaussian distribution = 1/sqrt(det(2*pi*sigma))\n",
    "    normalizing_const = 1 / np.sqrt(np.linalg.det(2*np.pi*sigma))\n",
    "    return normalizing_const\n",
    "\n",
    "def gaussian_pdf(x : np.ndarray, mu : np.ndarray, sigma : np.ndarray) -> np.ndarray:\n",
    "    '''\n",
    "    Function to compute the pdf of a vector valued gaussian distribution on the location x given its parameters, \n",
    "    mu and sigma. We are assuming sigma is invertible (you do not need to check its invertibility). For simplicity\n",
    "    return the pdf with shape (1,1), this should be the shape you get after the quadratic form computation. \n",
    "    '''\n",
    "    # YOUR CODE HERE\n",
    "    # Formula for multivariable unnormalized pdf = exp(-0.5 * (x - mu).T * sigma^-1 * (x - mu))\n",
    "    unnomrmalized_pdf = np.exp(-0.5 * (x - mu).T @ np.linalg.inv(sigma) @ (x - mu))\n",
    "    return gv_normalizing_const(sigma) * unnomrmalized_pdf"
   ]
  },
  {
   "cell_type": "code",
   "execution_count": 4,
   "metadata": {
    "deletable": false,
    "editable": false,
    "nbgrader": {
     "cell_type": "code",
     "checksum": "5aaaf0cc95460d0bc03cbf7fa63aa545",
     "grade": true,
     "grade_id": "cell-c400f7ea004e6349",
     "locked": true,
     "points": 3,
     "schema_version": 3,
     "solution": false,
     "task": false
    }
   },
   "outputs": [],
   "source": [
    "assert type(gv_normalizing_const(np.array([[2.]]))) == np.float64\n",
    "# Test on scalar case\n",
    "x = np.array([[1.]])\n",
    "mean, cov = np.array([[2.5]]), np.array([[0.5]])\n",
    "assert np.isclose(multivariate_normal.pdf(1, mean=mean, cov=cov), gaussian_pdf(x, mean, cov), atol=1e-3)\n",
    "\n",
    "# Test on vector valued case\n",
    "mean, temp = np.random.normal(2, 3, 2).reshape(-1,1), np.random.normal(2, 3, 4).reshape(2,2)\n",
    "x = np.random.normal(2, 3, 2).reshape(-1,1)\n",
    "cov = temp @ temp.T\n",
    "hand_pdf = gaussian_pdf(x, mean, cov)\n",
    "scipy_pdf = multivariate_normal.pdf(x.reshape(1,-1)[0], mean.reshape(1,-1)[0], cov)\n",
    "assert np.isclose(hand_pdf, scipy_pdf, atol=1e-4)\n"
   ]
  },
  {
   "cell_type": "markdown",
   "metadata": {
    "deletable": false,
    "editable": false,
    "nbgrader": {
     "cell_type": "markdown",
     "checksum": "88a1a695e91c9ad9d38a78145b5a04fb",
     "grade": false,
     "grade_id": "cell-49821c6539a8bbe6",
     "locked": true,
     "schema_version": 3,
     "solution": false,
     "task": false
    }
   },
   "source": [
    "Let's load a 1-D dataset which does not contain any label. It has been generated using K clusters.\n",
    "\n",
    "Can you tell how many clusters have been used by looking at the scatter plot?"
   ]
  },
  {
   "cell_type": "code",
   "execution_count": 5,
   "metadata": {
    "deletable": false,
    "editable": false,
    "nbgrader": {
     "cell_type": "code",
     "checksum": "f5a8df56f255919d067f6cb4ea4075d5",
     "grade": false,
     "grade_id": "cell-0bd3b2f7103728dc",
     "locked": true,
     "schema_version": 3,
     "solution": false,
     "task": false
    }
   },
   "outputs": [
    {
     "data": {
      "image/png": "[encoded data removed]",
      "text/plain": [
       "<Figure size 1500x500 with 1 Axes>"
      ]
     },
     "metadata": {},
     "output_type": "display_data"
    }
   ],
   "source": [
    "url = 'https://raw.githubusercontent.com/LucaZancato/ML2020-2021/main/HW_4/1_D_dataset.csv'\n",
    "data = np.array(pd.read_csv(url, sep=';'))\n",
    "\n",
    "plt.figure(figsize=(15,5))\n",
    "for i, x in enumerate(data):\n",
    "    plt.scatter(x, 0.1, color='k')"
   ]
  },
  {
   "cell_type": "markdown",
   "metadata": {
    "deletable": false,
    "editable": false,
    "nbgrader": {
     "cell_type": "markdown",
     "checksum": "9537c00f9f209af7746f183b657d776a",
     "grade": false,
     "grade_id": "cell-d2838829aac5b50c",
     "locked": true,
     "schema_version": 3,
     "solution": false,
     "task": false
    }
   },
   "source": [
    "It's not trivial to understand how many clusters are present. Such an issue is present also in the case of Expectation-Maximization (EM) on Gaussian Mixture Models (GMM) (the one we are going to implement) and K-means: for both of these algorithms the number of clusters is fixed a priori, it is a parameter (hyper-parameter) we must decide before processing any data.\n",
    "\n",
    "Usually, in order to achieve satisfactory clustering, one needs to try with different number of classes and validate which is the best number. \n",
    "\n",
    "For now let's make it simple and let's consider the dataset has 3 clusters.\n",
    "\n",
    "In the following cell we shall parametrize 3 Gaussian random variables specifiying both means, covariances and mixing probabilities. Take a moment to understand the way these parameters are stored, since the EM implementation is built on this notation. For now, means, cov and mixing probabilities are chosen without any specific criteria: we will see how EM applied to GMM will provide us a suboptimal set of means, covariances and mixing probabilities."
   ]
  },
  {
   "cell_type": "code",
   "execution_count": 6,
   "metadata": {
    "deletable": false,
    "editable": false,
    "nbgrader": {
     "cell_type": "code",
     "checksum": "157194668c2f327c7a0c7c8b21fe4ea6",
     "grade": false,
     "grade_id": "cell-4875527d3e69de99",
     "locked": true,
     "schema_version": 3,
     "solution": false,
     "task": false
    }
   },
   "outputs": [
    {
     "data": {
      "text/plain": [
       "[<matplotlib.lines.Line2D at 0x2218b9ded88>]"
      ]
     },
     "execution_count": 6,
     "metadata": {},
     "output_type": "execute_result"
    },
    {
     "data": {
      "image/png": "[encoded data removed]",
      "text/plain": [
       "<Figure size 1500x700 with 1 Axes>"
      ]
     },
     "metadata": {},
     "output_type": "display_data"
    }
   ],
   "source": [
    "means = np.array([[-1],[2.5],[15]])      # shape (K,d)\n",
    "covs  = np.array([[[5]],[[0.1]],[[10]]]) # shape (K,d,d) \n",
    "pi    = np.array([1/2, 1/4, 1/4])        # shape (K,)\n",
    "\n",
    "X = np.linspace(-30, 30, 1000, endpoint=False).reshape(-1,1)\n",
    "\n",
    "plt.figure(figsize=(15,7))\n",
    "for i, x in enumerate(data):\n",
    "    plt.scatter(x, 0.1, color='k')\n",
    "plt.plot(X, [gaussian_pdf(x, means[0], covs[0]) for x in X], color='r')\n",
    "plt.plot(X, [gaussian_pdf(x, means[1], covs[1]) for x in X], color='g')\n",
    "plt.plot(X, [gaussian_pdf(x, means[2], covs[2]) for x in X], color='b')"
   ]
  },
  {
   "cell_type": "code",
   "execution_count": 7,
   "metadata": {},
   "outputs": [
    {
     "name": "stdout",
     "output_type": "stream",
     "text": [
      "(3, 1) (3, 1, 1) (3,)\n"
     ]
    }
   ],
   "source": [
    "print(means.shape, covs.shape, pi.shape)"
   ]
  },
  {
   "cell_type": "code",
   "execution_count": 8,
   "metadata": {
    "deletable": false,
    "nbgrader": {
     "cell_type": "code",
     "checksum": "702d7d10af11d6a94de636185d6274c9",
     "grade": false,
     "grade_id": "cell-0c009b473ab47946",
     "locked": false,
     "schema_version": 3,
     "solution": true,
     "task": false
    }
   },
   "outputs": [],
   "source": [
    "# TODO 2: Write a function M_step which computes the M-step of the EM algorithm under a GMM. Refer \n",
    "# to the slides you can find on moodle (in which ALL the necessary steps and expressions are present).\n",
    "# Start by looking at the function \"M_step\" and then build all the helper functions.\n",
    "\n",
    "def update_pi(W : np.ndarray) -> np.ndarray:\n",
    "    '''\n",
    "    See M_step docs.\n",
    "    '''\n",
    "    # YOUR CODE HERE\n",
    "    new_pi = W.mean(axis=0, dtype=np.float64)\n",
    "    return new_pi\n",
    "\n",
    "def update_means(data : np.ndarray, W : np.ndarray) -> np.ndarray:\n",
    "    '''\n",
    "    See M_step docs.\n",
    "    '''\n",
    "    # YOUR CODE HERE\n",
    "    # double check before submission\n",
    "    new_means = W.T @ data / W.sum(axis=0).reshape(-1, 1) # vector notation of formula in slides\n",
    "    return new_means\n",
    "\n",
    "def update_covs(data : np.ndarray, W : np.ndarray, new_means : np.ndarray) -> np.ndarray:\n",
    "    '''\n",
    "    See M_step docs.\n",
    "    '''\n",
    "    # YOUR CODE HERE\n",
    "    # calculate covariance matrix for each cluster\n",
    "    covariances = np.zeros((W.shape[1], data.shape[1], data.shape[1]))\n",
    "    for l in range(W.shape[1]):\n",
    "        diff = data - new_means[l] # (N X D)\n",
    "        weighted = W[:, l][:, np.newaxis] * diff # (N X D)\n",
    "        covariances[l] = (weighted.T @ diff) / W[: , l].sum() # (D x D)\n",
    "\n",
    "    new_covs = covariances\n",
    "    return new_covs\n",
    "\n",
    "def M_step(data : np.ndarray, W : np.ndarray) -> tuple:\n",
    "    '''\n",
    "    Function to compute the Maximization step on a GMM (use the expressions derived on the slides).\n",
    "    :param data: Dataset N x d (d := number of features)\n",
    "    :param W: Weight matrix N x K (K :=number of classes). Element in position (i,j) represents the probability of\n",
    "              i-th datum to belong to class j (j-th cluster) given the current parameters: pi, means, covs\n",
    "    :returns: (new_pi, new_mu, new_cov)\n",
    "        WHERE:\n",
    "        new_pi: Contains the mixing probabilities. Its shape is (K,)\n",
    "        new_mu: Contains the new means of the GMM model. Its shape is (K, d)\n",
    "        new_cov: Contains the new covariances of the GMM model. Its shape is (K, d, d)\n",
    "    '''\n",
    "    new_pi    = update_pi(W)\n",
    "    new_means = update_means(data, W)\n",
    "    new_covs  = update_covs(data, W, new_means)\n",
    "    \n",
    "    return new_pi, new_means, new_covs "
   ]
  },
  {
   "cell_type": "code",
   "execution_count": 9,
   "metadata": {
    "deletable": false,
    "editable": false,
    "nbgrader": {
     "cell_type": "code",
     "checksum": "460256d54ea1d905ef6cc953b8003f27",
     "grade": true,
     "grade_id": "cell-d3bd0c6f27283628",
     "locked": true,
     "points": 3,
     "schema_version": 3,
     "solution": false,
     "task": false
    }
   },
   "outputs": [],
   "source": [
    "W = np.array([[0.5, 0.5, 0],[0.5, 0, 0.5]])\n",
    "assert np.isclose(update_pi(W), [0.5 , 0.25, 0.25], atol=1e-4).all()\n",
    "W = np.random.normal(0,1, 1000).reshape(-1, 25) # Note this W is not normalized properly, we do not care not since we are testing only the output shape is correct\n",
    "assert update_pi(W).shape == (25,)\n",
    "# Test on the means update function\n",
    "a = np.random.normal(0,1, 80).reshape(-1, 2)\n",
    "b = update_means(a, W)\n",
    "assert b.shape  == (25, 2)\n",
    "# Test on the covs update function\n",
    "assert update_covs(a, W, b).shape == (25, 2, 2)\n"
   ]
  },
  {
   "cell_type": "code",
   "execution_count": 10,
   "metadata": {
    "deletable": false,
    "nbgrader": {
     "cell_type": "code",
     "checksum": "613765cd3acaf6280d7e9b88f7bb8d1f",
     "grade": false,
     "grade_id": "cell-511422d843fc242a",
     "locked": false,
     "schema_version": 3,
     "solution": true,
     "task": false
    }
   },
   "outputs": [],
   "source": [
    "# TODO 3: Write a function E_step which computes the E-step of the EM algorithm in case of a GMM. Refer \n",
    "# to the slides you can find on the moodle (in which ALL the necessary steps and expressions are present).\n",
    "def E_step(data : np.ndarray, pi : np.ndarray, means : np.ndarray, covs : np.ndarray):\n",
    "    '''\n",
    "    Function to compute the Expectation step on a GMM model (use the expressions derived on the slides) given \n",
    "    the current values of the GMM parameters: pi, means, covs.\n",
    "    :param data:  Same as M_step function.\n",
    "    :param pi:    Same as M_step function.\n",
    "    :param means: Same as M_step function.\n",
    "    :param covs:  Same as M_step function.\n",
    "    :returns: W, which is updated using the parameters of the GMM: pi, means, covs. W must be normalized (see \n",
    "              slides)\n",
    "    '''\n",
    "    # YOUR CODE HERE\n",
    "\n",
    "    # calculation of W \n",
    "\n",
    "    N = data.shape[0] # nr of datapoints\n",
    "    K = pi.shape[0] # nr of clusters\n",
    "\n",
    "    # initialize W\n",
    "    W = np.zeros((N, K))\n",
    "    \n",
    "    # loop over all clusters \n",
    "    for k in range(K): \n",
    "        for i in range(N):\n",
    "            # pdf multiplied by the mixing probability for each datapoint\n",
    "            W[i, k] = pi[k] * gaussian_pdf(data[i], means[k], covs[k])\n",
    "\n",
    "\n",
    "    # normalization of W \n",
    "    W = W/np.sum(W, axis=1, keepdims=True)\n",
    "\n",
    "    return W"
   ]
  },
  {
   "cell_type": "code",
   "execution_count": 11,
   "metadata": {
    "deletable": false,
    "editable": false,
    "nbgrader": {
     "cell_type": "code",
     "checksum": "6197f4329d12260f2bce51101aff986e",
     "grade": true,
     "grade_id": "cell-2be7cdb585464b9f",
     "locked": true,
     "points": 3,
     "schema_version": 3,
     "solution": false,
     "task": false
    }
   },
   "outputs": [],
   "source": [
    "assert E_step(data, pi, means, covs).shape == (119, 3)\n",
    "assert np.isclose(np.sum(E_step(data, pi, means, covs).sum(1) - 1), 0, atol=1e-4)"
   ]
  },
  {
   "cell_type": "code",
   "execution_count": 12,
   "metadata": {
    "deletable": false,
    "nbgrader": {
     "cell_type": "code",
     "checksum": "f49bd8a46eac133f883c18a04b89ae28",
     "grade": false,
     "grade_id": "cell-921a3f4905683e0a",
     "locked": false,
     "schema_version": 3,
     "solution": true,
     "task": false
    }
   },
   "outputs": [],
   "source": [
    "# TODO 4: Write a function to randomly initialize the parameters of a GMM. This is necessary to start with the \n",
    "# EM iterations. \n",
    "\n",
    "def randomly_initialize_W(data : np.ndarray, num_classes : int) -> np.ndarray:\n",
    "    '''\n",
    "    See random_init function docs.\n",
    "    '''\n",
    "    # YOUR CODE HERE\n",
    "\n",
    "    N = data.shape[0]\n",
    "    W = np.zeros((N, num_classes))\n",
    "\n",
    "    \n",
    "    return W\n",
    "\n",
    "def random_init(data : np.ndarray, num_classes : int) -> np.ndarray:\n",
    "    '''\n",
    "    Function to initialize W and GMM parameters. W is generated assigning randomly each datapoint only to one \n",
    "    cluster. We require to assign the same number of points for each cluster (even this is not striclty necessary\n",
    "    to run the EM algorithm on GMM). If the number of data is not exactly divisible by the number of clusters \n",
    "    assign the exceeding data to one single class (it does not matter which one). \n",
    "    See M_step docs for details on W, interpretation and required shape.\n",
    "    '''\n",
    "    # Initialize W\n",
    "    W = randomly_initialize_W(data, num_classes)\n",
    "    # Use M_step to get GMM parameters\n",
    "    pi, means, covs = M_step(data, W)\n",
    "    return W, pi, means, covs"
   ]
  },
  {
   "cell_type": "code",
   "execution_count": 13,
   "metadata": {
    "deletable": false,
    "editable": false,
    "nbgrader": {
     "cell_type": "code",
     "checksum": "4f960739161092207929681b424a839e",
     "grade": true,
     "grade_id": "cell-13e188cb42144a0c",
     "locked": true,
     "points": 2,
     "schema_version": 3,
     "solution": false,
     "task": false
    }
   },
   "outputs": [
    {
     "ename": "NotImplementedError",
     "evalue": "",
     "output_type": "error",
     "traceback": [
      "\u001b[1;31m---------------------------------------------------------------------------\u001b[0m",
      "\u001b[1;31mNotImplementedError\u001b[0m                       Traceback (most recent call last)",
      "\u001b[1;32m~\\AppData\\Local\\Temp\\ipykernel_2744\\133125501.py\u001b[0m in \u001b[0;36m<module>\u001b[1;34m\u001b[0m\n\u001b[1;32m----> 1\u001b[1;33m \u001b[1;32massert\u001b[0m \u001b[1;33m(\u001b[0m\u001b[0mrandomly_initialize_W\u001b[0m\u001b[1;33m(\u001b[0m\u001b[0mnp\u001b[0m\u001b[1;33m.\u001b[0m\u001b[0mrandom\u001b[0m\u001b[1;33m.\u001b[0m\u001b[0mnormal\u001b[0m\u001b[1;33m(\u001b[0m\u001b[1;36m0\u001b[0m\u001b[1;33m,\u001b[0m\u001b[1;36m1\u001b[0m\u001b[1;33m,\u001b[0m \u001b[1;36m100\u001b[0m\u001b[1;33m)\u001b[0m\u001b[1;33m.\u001b[0m\u001b[0mreshape\u001b[0m\u001b[1;33m(\u001b[0m\u001b[1;33m-\u001b[0m\u001b[1;36m1\u001b[0m\u001b[1;33m,\u001b[0m\u001b[1;36m10\u001b[0m\u001b[1;33m)\u001b[0m\u001b[1;33m,\u001b[0m \u001b[1;36m5\u001b[0m\u001b[1;33m)\u001b[0m\u001b[1;33m.\u001b[0m\u001b[0msum\u001b[0m\u001b[1;33m(\u001b[0m\u001b[1;36m0\u001b[0m\u001b[1;33m)\u001b[0m \u001b[1;33m==\u001b[0m \u001b[1;36m2\u001b[0m\u001b[1;33m)\u001b[0m\u001b[1;33m.\u001b[0m\u001b[0mall\u001b[0m\u001b[1;33m(\u001b[0m\u001b[1;33m)\u001b[0m\u001b[1;33m\u001b[0m\u001b[1;33m\u001b[0m\u001b[0m\n\u001b[0m\u001b[0;32m      2\u001b[0m \u001b[1;32massert\u001b[0m \u001b[1;33m(\u001b[0m\u001b[0mrandomly_initialize_W\u001b[0m\u001b[1;33m(\u001b[0m\u001b[0mnp\u001b[0m\u001b[1;33m.\u001b[0m\u001b[0mrandom\u001b[0m\u001b[1;33m.\u001b[0m\u001b[0mnormal\u001b[0m\u001b[1;33m(\u001b[0m\u001b[1;36m0\u001b[0m\u001b[1;33m,\u001b[0m\u001b[1;36m1\u001b[0m\u001b[1;33m,\u001b[0m \u001b[1;36m100\u001b[0m\u001b[1;33m)\u001b[0m\u001b[1;33m.\u001b[0m\u001b[0mreshape\u001b[0m\u001b[1;33m(\u001b[0m\u001b[1;33m-\u001b[0m\u001b[1;36m1\u001b[0m\u001b[1;33m,\u001b[0m\u001b[1;36m5\u001b[0m\u001b[1;33m)\u001b[0m\u001b[1;33m,\u001b[0m \u001b[1;36m2\u001b[0m\u001b[1;33m)\u001b[0m\u001b[1;33m.\u001b[0m\u001b[0msum\u001b[0m\u001b[1;33m(\u001b[0m\u001b[1;36m0\u001b[0m\u001b[1;33m)\u001b[0m \u001b[1;33m==\u001b[0m \u001b[1;36m10\u001b[0m\u001b[1;33m)\u001b[0m\u001b[1;33m.\u001b[0m\u001b[0mall\u001b[0m\u001b[1;33m(\u001b[0m\u001b[1;33m)\u001b[0m\u001b[1;33m\u001b[0m\u001b[1;33m\u001b[0m\u001b[0m\n\u001b[0;32m      3\u001b[0m \u001b[1;32massert\u001b[0m \u001b[1;33m(\u001b[0m\u001b[0mrandomly_initialize_W\u001b[0m\u001b[1;33m(\u001b[0m\u001b[0mnp\u001b[0m\u001b[1;33m.\u001b[0m\u001b[0mrandom\u001b[0m\u001b[1;33m.\u001b[0m\u001b[0mnormal\u001b[0m\u001b[1;33m(\u001b[0m\u001b[1;36m0\u001b[0m\u001b[1;33m,\u001b[0m\u001b[1;36m1\u001b[0m\u001b[1;33m,\u001b[0m \u001b[1;36m100\u001b[0m\u001b[1;33m)\u001b[0m\u001b[1;33m.\u001b[0m\u001b[0mreshape\u001b[0m\u001b[1;33m(\u001b[0m\u001b[1;33m-\u001b[0m\u001b[1;36m1\u001b[0m\u001b[1;33m,\u001b[0m\u001b[1;36m5\u001b[0m\u001b[1;33m)\u001b[0m\u001b[1;33m,\u001b[0m \u001b[1;36m3\u001b[0m\u001b[1;33m)\u001b[0m\u001b[1;33m.\u001b[0m\u001b[0msum\u001b[0m\u001b[1;33m(\u001b[0m\u001b[1;36m0\u001b[0m\u001b[1;33m)\u001b[0m \u001b[1;33m-\u001b[0m\u001b[1;36m6\u001b[0m \u001b[1;33m==\u001b[0m \u001b[1;36m2\u001b[0m\u001b[1;33m)\u001b[0m\u001b[1;33m.\u001b[0m\u001b[0many\u001b[0m\u001b[1;33m(\u001b[0m\u001b[1;33m)\u001b[0m\u001b[1;33m\u001b[0m\u001b[1;33m\u001b[0m\u001b[0m\n",
      "\u001b[1;32m~\\AppData\\Local\\Temp\\ipykernel_2744\\1658779931.py\u001b[0m in \u001b[0;36mrandomly_initialize_W\u001b[1;34m(data, num_classes)\u001b[0m\n\u001b[0;32m      7\u001b[0m     '''\n\u001b[0;32m      8\u001b[0m     \u001b[1;31m# YOUR CODE HERE\u001b[0m\u001b[1;33m\u001b[0m\u001b[1;33m\u001b[0m\u001b[1;33m\u001b[0m\u001b[0m\n\u001b[1;32m----> 9\u001b[1;33m     \u001b[1;32mraise\u001b[0m \u001b[0mNotImplementedError\u001b[0m\u001b[1;33m(\u001b[0m\u001b[1;33m)\u001b[0m \u001b[1;31m# Remove this line\u001b[0m\u001b[1;33m\u001b[0m\u001b[1;33m\u001b[0m\u001b[0m\n\u001b[0m\u001b[0;32m     10\u001b[0m     \u001b[1;32mreturn\u001b[0m \u001b[0mW\u001b[0m\u001b[1;33m\u001b[0m\u001b[1;33m\u001b[0m\u001b[0m\n\u001b[0;32m     11\u001b[0m \u001b[1;33m\u001b[0m\u001b[0m\n",
      "\u001b[1;31mNotImplementedError\u001b[0m: "
     ]
    }
   ],
   "source": [
    "assert (randomly_initialize_W(np.random.normal(0,1, 100).reshape(-1,10), 5).sum(0) == 2).all()\n",
    "assert (randomly_initialize_W(np.random.normal(0,1, 100).reshape(-1,5), 2).sum(0) == 10).all()\n",
    "assert (randomly_initialize_W(np.random.normal(0,1, 100).reshape(-1,5), 3).sum(0) -6 == 2).any()"
   ]
  },
  {
   "cell_type": "code",
   "execution_count": null,
   "metadata": {
    "deletable": false,
    "editable": false,
    "nbgrader": {
     "cell_type": "code",
     "checksum": "093412dda6279c18b61b5e69a916916f",
     "grade": false,
     "grade_id": "cell-70a815ded42c881c",
     "locked": true,
     "schema_version": 3,
     "solution": false,
     "task": false
    }
   },
   "outputs": [],
   "source": [
    "# Let's evaluate the class probability of each datum given current pi, means and covs. \n",
    "# Since we have 3 clusters we shall colour-code (rgb) each datum according to the class probabilities. Note that \n",
    "# it is not very likely to have a datum coming from the central (very peaked) distribution. \n",
    "W = E_step(data, pi, means, covs)\n",
    "\n",
    "plt.figure(figsize=(15,7))\n",
    "for i, x in enumerate(data):\n",
    "    plt.scatter(x, 0.1, color=np.array([W[i][0], W[i][1], W[i][2]]))\n",
    "plt.plot(X, [gaussian_pdf(x, means[0], covs[0]) for x in X], color='r')\n",
    "plt.plot(X, [gaussian_pdf(x, means[1], covs[1]) for x in X], color='g')\n",
    "plt.plot(X, [gaussian_pdf(x, means[2], covs[2]) for x in X], color='b')"
   ]
  },
  {
   "cell_type": "code",
   "execution_count": null,
   "metadata": {
    "deletable": false,
    "nbgrader": {
     "cell_type": "code",
     "checksum": "de5926f0a2ebaeae8fadc47069bedd2a",
     "grade": false,
     "grade_id": "cell-777448647a9d0c78",
     "locked": false,
     "schema_version": 3,
     "solution": true,
     "task": false
    }
   },
   "outputs": [],
   "source": [
    "# TODO 5: compute the log likelihood of an iid dataset under a GMM model.\n",
    "def log_likelihood_GMM(data : np.ndarray, pi : np.ndarray, means : np.ndarray, covs : np.ndarray) -> float:\n",
    "    '''\n",
    "    Function to compute the log likelihood for a set of iid observations under a GMM. Use the function you built\n",
    "    before \"gaussian_pdf\" to compute the likelihood. \n",
    "    :param data: N x d matrix containing a set of N iid data of dimension d\n",
    "    :param pi:    Same as M_step function.\n",
    "    :param means: Same as M_step function.\n",
    "    :param covs:  Same as M_step function.\n",
    "    '''\n",
    "    # YOUR CODE HERE\n",
    "    raise NotImplementedError() # Remove this line\n",
    "    return log_likelihood"
   ]
  },
  {
   "cell_type": "code",
   "execution_count": null,
   "metadata": {
    "deletable": false,
    "editable": false,
    "nbgrader": {
     "cell_type": "code",
     "checksum": "8873ea44e96709152c3b013e6f14b0fe",
     "grade": true,
     "grade_id": "cell-0cc16d6c3ddb55f4",
     "locked": true,
     "points": 2,
     "schema_version": 3,
     "solution": false,
     "task": false
    }
   },
   "outputs": [],
   "source": [
    "assert type(log_likelihood_GMM(data, pi, means, covs)) == np.float64"
   ]
  },
  {
   "cell_type": "code",
   "execution_count": null,
   "metadata": {
    "deletable": false,
    "nbgrader": {
     "cell_type": "code",
     "checksum": "da05e34310fb7c0c369029ad9e38ac46",
     "grade": false,
     "grade_id": "cell-5673218cd7a1a50a",
     "locked": false,
     "schema_version": 3,
     "solution": true,
     "task": false
    }
   },
   "outputs": [],
   "source": [
    "# TODO 6: Write a function to run the EM on GMM using the building blocks we created so far. Then test it on the \n",
    "# data we used so far (choose a meaningful max_iter, you do not need to exaggerate). \n",
    "def run_EM_on_GMM(data : np.ndarray, number_clusters : int, max_iter : int, epsilon : float = 1e-3,\n",
    "                  plot_intermediate : bool = False) -> tuple:\n",
    "    '''\n",
    "    Function to run GMM on a given dataset and a given number of clusters. The termination conditions of the \n",
    "    iterative algorithm take into account either a specified max number of iterations or the improvement of the \n",
    "    log likelihood (if the log likelihood does not improve more than epsilon in two successive iterations we stop).\n",
    "    :param data: N x d matrix containing a set of N iid data of dimension d\n",
    "    :param number_clusters: # of clusters (information we have a priori, before starting the EM)\n",
    "    :param max_iter: Maximum number of iterations allowed to the EM.\n",
    "    :param epsilon: Threshold on the improvement of the log likelihood\n",
    "    :param plot_intermediate: Boolean used to plot intermediate GMM for 2-d datasets (you do not need to implement\n",
    "                              anything).\n",
    "    :returns: (W, pi, means, covs, log_likelihood_train)\n",
    "        WHERE:\n",
    "        W:     Optimal W     after EM reaches termination condition (same shape as M_step function).\n",
    "        pi:    Optimal pi    after EM reaches termination condition (same shape as M_step function).\n",
    "        means: Optimal means after EM reaches termination condition (same shape as M_step function).\n",
    "        covs:  Optimal covs  after EM reaches termination condition (same shape as M_step function).\n",
    "        log_likelihood_train: log likelihoods obtained during training (saved using a list). \n",
    "    '''\n",
    "    W, pi, means, covs = random_init(data, number_clusters)\n",
    "    log_likelihood_train = [log_likelihood_GMM(data, pi, means, covs)]\n",
    "    num_iter = 0\n",
    "    # Used to plot 2-d data\n",
    "    if plot_intermediate:\n",
    "        x_max = np.max(np.abs(X))\n",
    "        x, y = np.mgrid[-x_max:x_max:.05, -x_max:x_max:.05]\n",
    "        pos = np.dstack((x, y))\n",
    "    \n",
    "    while (True): \n",
    "        # Iterate with E-Step and M-step\n",
    "        # YOUR CODE HERE\n",
    "        raise NotImplementedError() # Remove this line\n",
    "        \n",
    "        # Save log likelihood given current GMM parameters\n",
    "        log_likelihood_train.append(log_likelihood_GMM(data, pi, means, covs)) \n",
    "\n",
    "        if plot_intermediate:\n",
    "            # Plot scatter plot of training data and corresponding clusters    \n",
    "            fig = plt.figure(figsize=(15,7))\n",
    "            for k in range(0, number_clusters):\n",
    "                plt.contour(x, y, multivariate_normal(means[k], covs[k]).pdf(pos))\n",
    "            plt.scatter(data[0:,0], data[0:,1])\n",
    "            plt.title(f'Iteration {num_iter}')\n",
    "            \n",
    "        print(f'Iteration {num_iter}, log likelihood {log_likelihood_train[-1]:.4f}, ' \n",
    "              f' delta log likelihood {(log_likelihood_train[-1] - log_likelihood_train[-2]):.4f}')\n",
    "        num_iter += 1 \n",
    "        \n",
    "        # Use proper termination conditions, on: number of iteration or threshold on log likelihood improvement \n",
    "        # (use the break statement to stop while cycle)\n",
    "        # YOUR CODE HERE\n",
    "        raise NotImplementedError() # Remove this line\n",
    "        \n",
    "    return W, pi, means, covs, log_likelihood_train\n",
    "\n",
    "# Let's try our implementation of the EM algorithm\n",
    "max_iter = None  # to be overwritten\n",
    "# YOUR CODE HERE\n",
    "raise NotImplementedError() # Remove this line\n",
    "W, pi, means, covs, log_likelihood_train = run_EM_on_GMM(data, 3, max_iter, plot_intermediate=False)\n",
    "\n",
    "plt.figure(figsize=(15,7))\n",
    "for i, x in enumerate(data):\n",
    "    plt.scatter(x, 0.1, color=np.array([W[i][0], W[i][1], W[i][2]]))\n",
    "plt.plot(X, [gaussian_pdf(x, means[0], covs[0]) for x in X], color='r')\n",
    "plt.plot(X, [gaussian_pdf(x, means[1], covs[1]) for x in X], color='g')\n",
    "plt.plot(X, [gaussian_pdf(x, means[2], covs[2]) for x in X], color='b')\n",
    "\n",
    "plt.figure(figsize=(15,7))\n",
    "plt.plot(log_likelihood_train)\n",
    "plt.xlabel('Iterations')\n",
    "plt.ylabel('Log likelihood')"
   ]
  },
  {
   "cell_type": "code",
   "execution_count": null,
   "metadata": {
    "deletable": false,
    "editable": false,
    "nbgrader": {
     "cell_type": "code",
     "checksum": "1db8547f94627cad6c7e2fe969f810d1",
     "grade": true,
     "grade_id": "cell-9f0fa4fbcc7ab408",
     "locked": true,
     "points": 2,
     "schema_version": 3,
     "solution": false,
     "task": false
    }
   },
   "outputs": [],
   "source": [
    "a, b, c, d, e = run_EM_on_GMM(data, 3, 10, plot_intermediate=False)\n",
    "assert a.shape == (119, 3)\n",
    "assert b.shape == (3,)\n",
    "assert c.shape == (3, 1)\n",
    "assert d.shape == (3, 1, 1)"
   ]
  },
  {
   "cell_type": "markdown",
   "metadata": {
    "deletable": false,
    "editable": false,
    "nbgrader": {
     "cell_type": "markdown",
     "checksum": "e8eb6defd0defcc29d9e12056dd2cbed",
     "grade": false,
     "grade_id": "cell-ceb0369070f9449c",
     "locked": true,
     "schema_version": 3,
     "solution": false,
     "task": false
    }
   },
   "source": [
    "We shall now try the same procedure with a 2-dimensional dataset.\n",
    "\n",
    "Everything is the same as before but we can appreciate a better visualization."
   ]
  },
  {
   "cell_type": "code",
   "execution_count": null,
   "metadata": {
    "deletable": false,
    "editable": false,
    "nbgrader": {
     "cell_type": "code",
     "checksum": "04fcaadaef275d5b38da9aff9f8249ed",
     "grade": false,
     "grade_id": "cell-005406871400dc9d",
     "locked": true,
     "schema_version": 3,
     "solution": false,
     "task": false
    }
   },
   "outputs": [],
   "source": [
    "# Build the 2-D dataset.\n",
    "K = 3\n",
    "clusters_cov = [[1,2], [2,3], [0.1,10]]\n",
    "centers = [[-5, 0], [0, 10.5], [5, -1]]\n",
    "X, Y = make_blobs(cluster_std=clusters_cov, centers=centers, random_state=ID_number, n_samples=150, shuffle=True)\n",
    "\n",
    "colormap = np.array(['red', 'lime', 'blue'])\n",
    "\n",
    "plt.figure(figsize=(15,7))\n",
    "plt.scatter(X[:,0], X[:,1], c = colormap[Y])"
   ]
  },
  {
   "cell_type": "code",
   "execution_count": null,
   "metadata": {
    "deletable": false,
    "editable": false,
    "nbgrader": {
     "cell_type": "code",
     "checksum": "f48783e7c4213f4706b8a0d669110a24",
     "grade": false,
     "grade_id": "cell-c896e8dad1f25c61",
     "locked": true,
     "schema_version": 3,
     "solution": false,
     "task": false
    }
   },
   "outputs": [],
   "source": [
    "# Depending on your implementation this cell might take a while to run... (this is mainly due to the plots)\n",
    "W, pi, means, covs, log_likelihood_train = run_EM_on_GMM(X, K, 150, plot_intermediate=True)"
   ]
  },
  {
   "cell_type": "code",
   "execution_count": null,
   "metadata": {
    "deletable": false,
    "editable": false,
    "nbgrader": {
     "cell_type": "code",
     "checksum": "c31848270aa99342645c4f5816d24d39",
     "grade": false,
     "grade_id": "cell-c3922c12ac5e9826",
     "locked": true,
     "schema_version": 3,
     "solution": false,
     "task": false
    }
   },
   "outputs": [],
   "source": [
    "plt.figure(figsize=(15,7))\n",
    "plt.plot(log_likelihood_train)\n",
    "plt.xlabel('Iterations')\n",
    "plt.ylabel('Log likelihood')"
   ]
  },
  {
   "cell_type": "markdown",
   "metadata": {
    "deletable": false,
    "editable": false,
    "nbgrader": {
     "cell_type": "markdown",
     "checksum": "891b01cc98f1820bfb614a7180e9c402",
     "grade": false,
     "grade_id": "cell-a38e6cd1fcfd59ac",
     "locked": true,
     "schema_version": 3,
     "solution": false,
     "task": false
    }
   },
   "source": [
    "## TODO 7: explain the results you got (max 10 lines)\n",
    "\n",
    "1-D dataset:\n",
    "- Compare plots in Todo 4 with the ones in Todo 6, what has changed? Is EM providing us a meaningful clustering? \n",
    "\n",
    "2-D dataset:\n",
    "- Why is the log likelihood monotonically increasing? Is this what you expect from the theory? Compare both log likelihood trajectory and 2-d plots.\n",
    "- Is delta log likelihood monotonically going to zero?  \n",
    "- Which termination criterion is met first?\n",
    "\n",
    "(Answer in the next cell, no need to add code)"
   ]
  },
  {
   "cell_type": "markdown",
   "metadata": {
    "deletable": false,
    "nbgrader": {
     "cell_type": "markdown",
     "checksum": "36232bc968e20dc21d4c56751cb6d524",
     "grade": true,
     "grade_id": "cell-e10ffa66c2c2b400",
     "locked": false,
     "points": 4,
     "schema_version": 3,
     "solution": true,
     "task": false
    }
   },
   "source": [
    "YOUR ANSWER HERE"
   ]
  },
  {
   "cell_type": "code",
   "execution_count": null,
   "metadata": {
    "deletable": false,
    "editable": false,
    "nbgrader": {
     "cell_type": "code",
     "checksum": "16908754c0232846ef61fd08b5c9aefb",
     "grade": false,
     "grade_id": "cell-1f73c822599f4488",
     "locked": true,
     "schema_version": 3,
     "solution": false,
     "task": false
    }
   },
   "outputs": [],
   "source": [
    "# What is the effect of choosing a different number of classes?\n",
    "centers = [[-2, 0], [0, 3], [2, -1]]\n",
    "X, Y = make_blobs(cluster_std=clusters_cov, centers=centers, random_state=20, n_samples=150, shuffle=True)\n",
    "\n",
    "Ks = [2, 3, 4, 5, 6]\n",
    "results = []\n",
    "for k in Ks:\n",
    "    results.append(run_EM_on_GMM(X, k, 150, plot_intermediate=False))"
   ]
  },
  {
   "cell_type": "code",
   "execution_count": null,
   "metadata": {
    "deletable": false,
    "editable": false,
    "nbgrader": {
     "cell_type": "code",
     "checksum": "42cf07ba079d38555ef7116d2987459c",
     "grade": false,
     "grade_id": "cell-c6374009b619ac3c",
     "locked": true,
     "schema_version": 3,
     "solution": false,
     "task": false
    }
   },
   "outputs": [],
   "source": [
    "# Let's plot the log likelihood trajectories and the final 2-d Clustering\n",
    "plt.figure(figsize=(15,10))\n",
    "for res, k in zip(results, Ks): \n",
    "    plt.plot(np.array(res[-1]), label=f'# of classes: {k}')\n",
    "plt.legend()\n",
    "plt.xlabel('Iterations')\n",
    "plt.ylabel('Log likelihood')\n",
    "\n",
    "x_max, y_max = np.max(np.abs(X[:,0])), np.max(np.abs(X[:,1]))\n",
    "x, y = np.mgrid[-x_max:x_max:.01, -y_max:y_max:.01]\n",
    "pos = np.dstack((x, y))\n",
    "\n",
    "fig, axes = plt.subplots(3, 2, figsize=(15,12))\n",
    "# Plot scatter plot of training data and corresponding clusters    \n",
    "for (_, pi, means, covs, _), K, ax in zip(results, Ks, axes.reshape(-1,)): \n",
    "    for k in range(K):\n",
    "        ax.contour(x, y, multivariate_normal(means[k], covs[k]).pdf(pos), )\n",
    "    ax.scatter(X[0:,0], X[0:,1])\n",
    "    ax.set_title(f'# of classes: {K}')"
   ]
  },
  {
   "cell_type": "markdown",
   "metadata": {
    "deletable": false,
    "editable": false,
    "nbgrader": {
     "cell_type": "markdown",
     "checksum": "6b4925f5917eb06d28e13471cc3de379",
     "grade": false,
     "grade_id": "cell-852e1d469ec2e6fe",
     "locked": true,
     "schema_version": 3,
     "solution": false,
     "task": false
    }
   },
   "source": [
    "# MNIST clustering\n",
    "\n",
    "Let's apply GMM to a slightly more complex dataset: MNIST (which we already encountered in the last homework).\n",
    "\n",
    "In the following we shall use the sklearn implementation of the EM.\n",
    "\n",
    "Once we fit the GMM we shall visualize the centers in order to evaluate whether the clustering algorithm came up with a meaningful solution (in an ideal scenario we would expect to have each center representing one single digit)."
   ]
  },
  {
   "cell_type": "code",
   "execution_count": null,
   "metadata": {
    "deletable": false,
    "editable": false,
    "nbgrader": {
     "cell_type": "code",
     "checksum": "aee84f86ff998e67909e18820bdd15ca",
     "grade": false,
     "grade_id": "cell-f330906f5bdf8101",
     "locked": true,
     "schema_version": 3,
     "solution": false,
     "task": false
    }
   },
   "outputs": [],
   "source": [
    "from sklearn.datasets import fetch_openml\n",
    "from sklearn.mixture import GaussianMixture\n",
    "import sklearn\n",
    "\n",
    "X, Y = fetch_openml('mnist_784', version=1, return_X_y=True, as_frame=True)\n",
    "    \n",
    "X = X / 255.\n",
    "\n",
    "from sklearn.model_selection import train_test_split\n",
    "\n",
    "m_t = 5000\n",
    "x_train, x_test, y_train, y_test = train_test_split(X, Y, train_size=m_t/len(Y), random_state=ID_number, \n",
    "                                                    stratify=Y)\n",
    "\n",
    "# Function to plot a digit and print the corresponding label\n",
    "def plot_digit(vect_img, ax, cluster_id=None):\n",
    "    ax.set_title(f'Cluster ID: {cluster_id}')\n",
    "    ax.imshow(\n",
    "        vect_img.reshape(28,28),\n",
    "        cmap          = 'gray',\n",
    "        interpolation = \"nearest\"\n",
    "    )"
   ]
  },
  {
   "cell_type": "code",
   "execution_count": null,
   "metadata": {
    "deletable": false,
    "nbgrader": {
     "cell_type": "code",
     "checksum": "eb3366a4b46112ecb815b11184045b92",
     "grade": false,
     "grade_id": "cell-84752eb78affb4c3",
     "locked": false,
     "schema_version": 3,
     "solution": true,
     "task": false
    }
   },
   "outputs": [],
   "source": [
    "# TODO 8: use GaussianMixture from skelearn to cluster x_train and then predict the labels.\n",
    "import matplotlib.pyplot as plt\n",
    "from sklearn.mixture import GaussianMixture\n",
    "\n",
    "K = 10\n",
    "# When you initialize the GaussianMixture object set random_state=ID_number\n",
    "gmm = None\n",
    "gmm_pred = None\n",
    "# YOUR CODE HERE\n",
    "raise NotImplementedError() # Remove this line\n",
    "\n",
    "plt1, axes = plt.subplots(2, K // 2, figsize=(15,7))\n",
    "for k, ax in zip(range(K), axes.reshape(-1,)):\n",
    "    plot_digit(gmm.means_[k], ax, cluster_id=k)   "
   ]
  },
  {
   "cell_type": "code",
   "execution_count": null,
   "metadata": {
    "deletable": false,
    "editable": false,
    "nbgrader": {
     "cell_type": "code",
     "checksum": "f6715214cc3d019e8f8d0d2fce0c1270",
     "grade": true,
     "grade_id": "cell-4fcfeefc8d942d6c",
     "locked": true,
     "points": 1,
     "schema_version": 3,
     "solution": false,
     "task": false
    }
   },
   "outputs": [],
   "source": [
    "assert gmm_pred.shape == (m_t,)"
   ]
  },
  {
   "cell_type": "code",
   "execution_count": null,
   "metadata": {
    "deletable": false,
    "editable": false,
    "nbgrader": {
     "cell_type": "code",
     "checksum": "a67a155e53900d49957838f7769209b0",
     "grade": false,
     "grade_id": "cell-1e3dbe1b5ea032f0",
     "locked": true,
     "schema_version": 3,
     "solution": false,
     "task": false
    }
   },
   "outputs": [],
   "source": [
    "# let's try to initialize the means of the gmm using the first instance of each digit (0-9) present in the training set.\n",
    "\n",
    "means = np.zeros((10, x_train.iloc[0].to_numpy().reshape(1,-1).shape[1]))\n",
    "weights = np.ones((1,10))[0]*1/K\n",
    "\n",
    "for k in range(10):\n",
    "    first_numb = 0\n",
    "    while not (int(y_train.iloc[first_numb]) == k):\n",
    "        first_numb = first_numb+1\n",
    "    means[k,:] = x_train.iloc[first_numb].to_numpy().reshape(1,-1)\n",
    "\n",
    "# print the digits used for initialization\n",
    "plt2, axes = plt.subplots(2, K // 2,figsize=(15,7))\n",
    "for k, ax in zip(range(K), axes.reshape(-1,)):\n",
    "    plot_digit(means[k], ax, cluster_id=k)\n",
    "\n",
    "# print the weights used for initialization    \n",
    "print(f'The weight used for initialization are {weights}')"
   ]
  },
  {
   "cell_type": "code",
   "execution_count": null,
   "metadata": {
    "deletable": false,
    "editable": false,
    "nbgrader": {
     "cell_type": "code",
     "checksum": "2906f3d7bd3ca0e52676e53cd1a21030",
     "grade": false,
     "grade_id": "cell-e02e0a15a4353c10",
     "locked": true,
     "schema_version": 3,
     "solution": false,
     "task": false
    }
   },
   "outputs": [],
   "source": [
    "# training the gmm\n",
    "gmm = None\n",
    "gmm = GaussianMixture(n_components=K, weights_init = weights,means_init = means)\n",
    "gmm_pred = gmm.fit_predict(x_train)"
   ]
  },
  {
   "cell_type": "code",
   "execution_count": null,
   "metadata": {
    "deletable": false,
    "editable": false,
    "nbgrader": {
     "cell_type": "code",
     "checksum": "88cb456d7fe3e3da187e45e47b15da3a",
     "grade": false,
     "grade_id": "cell-1444a5ac8607aa0e",
     "locked": true,
     "schema_version": 3,
     "solution": false,
     "task": false
    }
   },
   "outputs": [],
   "source": [
    "# plotting the means\n",
    "plt3, axes = plt.subplots(2, K // 2,figsize=(15,7))\n",
    "for k, ax in zip(range(K), axes.reshape(-1,)):\n",
    "    plot_digit(gmm.means_[k], ax, cluster_id=k)"
   ]
  },
  {
   "cell_type": "markdown",
   "metadata": {
    "deletable": false,
    "editable": false,
    "nbgrader": {
     "cell_type": "markdown",
     "checksum": "5fba5281e0ca2973ef587164aa230f16",
     "grade": false,
     "grade_id": "cell-f138cfd6ab919322",
     "locked": true,
     "schema_version": 3,
     "solution": false,
     "task": false
    }
   },
   "source": [
    "# Comparison with supervised models: \n",
    "In the next cell we shall compare Unsupervised methods (Kmeans and GMM) with a\n",
    "Supervised method (NNs) on MNIST. \n",
    "Note that supervised methods cannot be applied in the unsupervised setting (i.e. we do not have any label). \n",
    "Nonetheless we can apply an unsupervised method to a supervised problem (we just need to neglect the extra piece \n",
    "of information we have: the labels). \n",
    "In the following we shall train both Kmeans and GMM as if we do not have labels and then we shall compare their\n",
    "predictions to the ground truth labels. \n",
    "\n",
    "NOTE: in an unsupervised scenario we are not able to compare model predictions with ground truth labels since \n",
    "labels are not part of the problem statement."
   ]
  },
  {
   "cell_type": "code",
   "execution_count": null,
   "metadata": {
    "deletable": false,
    "editable": false,
    "nbgrader": {
     "cell_type": "code",
     "checksum": "01de10cd11d29fd245966353dc8b0690",
     "grade": false,
     "grade_id": "cell-0de27cc7733af71c",
     "locked": true,
     "schema_version": 3,
     "solution": false,
     "task": false
    }
   },
   "outputs": [],
   "source": [
    "y_train = y_train.to_numpy().astype(int)\n",
    "y_test = y_test.to_numpy().astype(int)"
   ]
  },
  {
   "cell_type": "code",
   "execution_count": null,
   "metadata": {
    "deletable": false,
    "nbgrader": {
     "cell_type": "code",
     "checksum": "435273d6509bdb22adb6b98424ded7ee",
     "grade": false,
     "grade_id": "cell-2a78e9ea14ec9ea8",
     "locked": false,
     "schema_version": 3,
     "solution": true,
     "task": false
    }
   },
   "outputs": [],
   "source": [
    "# TODO 9: \n",
    "# Remember in ANY unsupervised clustering algorithm the name of the cluster DOES NOT possess any meaning. \n",
    "# The first class of the GMM model trained on the MNIST dataset does not necessarily represent the digits \"0\". \n",
    "# You can see this on the previous plots (plots of the centers of each component).\n",
    "# Therefore we need to find a way to convert model clusters (predictions) to ground truth labels. Several choices \n",
    "# are possible, in the following we shall use a very simple and straightforward rule: \n",
    "# 1- Find all the indeces of the data belonging to the same cluster predicted by the clustering model\n",
    "# 2- Use these indeces (in the dataset) to gather the true labels\n",
    "# 3- Compute the mode on the choosen true labels\n",
    "# 4- Assign the mode as the new name of the cluster.\n",
    "# In this way we are able to compare model predictions with the true labels (ground truth labels) and we can \n",
    "# compute the number of missclassified examples (as we did in previous Classification HWs). \n",
    "\n",
    "from scipy.stats import mode\n",
    "def convert_prediction_labels(targets : np.ndarray, predictions : np.ndarray, num_clusters : int) -> np.ndarray:\n",
    "    '''\n",
    "    Function to assign a different label to the predictions of a clustering algorithm. Use the 4 steps described \n",
    "    earlier.\n",
    "    :param targets: True labels (of shape (N,))\n",
    "    :param predictions: Labels predicted by the clustering algorithm (of shape (N,))\n",
    "    :param num_clusters: # of clusters in the training dataset\n",
    "    :returns: \n",
    "        pred_labels: new labels for each datum (of shape (N,))\n",
    "    '''\n",
    "    pred_labels = np.zeros_like(targets)\n",
    "    for k in range(num_clusters):\n",
    "        # YOUR CODE HERE\n",
    "        raise NotImplementedError() # Remove this line\n",
    "    return pred_labels\n",
    "\n",
    "def compute_score(targets, predictions, num_clusters):\n",
    "    pred_labels = convert_prediction_labels(targets, predictions, num_clusters)\n",
    "    errors = sum(pred_labels == targets)\n",
    "    return (1 - errors / len(targets))"
   ]
  },
  {
   "cell_type": "code",
   "execution_count": null,
   "metadata": {
    "deletable": false,
    "editable": false,
    "nbgrader": {
     "cell_type": "code",
     "checksum": "9e4ecd692ee806f9d5544c68d605a3c4",
     "grade": true,
     "grade_id": "cell-9bdbfa61f569e2de",
     "locked": true,
     "points": 2,
     "schema_version": 3,
     "solution": false,
     "task": false
    }
   },
   "outputs": [],
   "source": [
    "assert convert_prediction_labels(y_train, gmm_pred, 10).shape == (m_t,)"
   ]
  },
  {
   "cell_type": "code",
   "execution_count": null,
   "metadata": {
    "deletable": false,
    "nbgrader": {
     "cell_type": "code",
     "checksum": "c99e7fc4067ec3abdf917a0029103a98",
     "grade": false,
     "grade_id": "cell-cace38829f2fd261",
     "locked": false,
     "schema_version": 3,
     "solution": true,
     "task": false
    }
   },
   "outputs": [],
   "source": [
    "# TODO 10: Use sklearn GaussianMixture and KMeans to cluster x_train. Then evaluate the errors using the groud \n",
    "# truth labels (y_train) using the functions we built in the previous cell. Eventually we compare clustering \n",
    "# error rates with a supervised classification method: MLP.\n",
    "\n",
    "# When you initialize the GaussianMixture and KMeans objects set random_state=ID_number\n",
    "gmm, gmm_pred_train, gmm_pred_test = None, None, None\n",
    "# YOUR CODE HERE\n",
    "raise NotImplementedError() # Remove this line\n",
    "gmm_tr_err   = compute_score(y_train, gmm_pred_train, K)\n",
    "gmm_test_err = compute_score(y_test, gmm_pred_test, K)\n",
    "print(f'GMM Training err    {gmm_tr_err:.4f}, Test err {gmm_test_err:.4f}')\n",
    "\n",
    "from sklearn.cluster import KMeans\n",
    "kmeans, kmeans_pred_train, kmeans_pred_test = None, None, None\n",
    "# YOUR CODE HERE\n",
    "raise NotImplementedError() # Remove this line\n",
    "kmeans_tr_err   = compute_score(y_train, kmeans_pred_train, K)\n",
    "kmeans_test_err = compute_score(y_test, kmeans_pred_test, K)\n",
    "print(f'Kmeans Training err {kmeans_tr_err:.4f}, Test err {kmeans_test_err:.4f}')\n",
    "\n",
    "\n",
    "from sklearn.neural_network import MLPClassifier\n",
    "best_mlp_large = MLPClassifier(hidden_layer_sizes=(50, 50), max_iter=1000, alpha=1e-4, solver='sgd', tol=1e-4, \n",
    "                               random_state=ID_number, learning_rate_init=.1)\n",
    "best_mlp_large.fit(x_train, y_train)\n",
    "training_error = 1. - best_mlp_large.score(x_train, y_train)\n",
    "test_error = 1. - best_mlp_large.score(x_test, y_test)\n",
    "\n",
    "print(f'MLP Training err {training_error:.4f}, Test err {test_error:.4f}')"
   ]
  },
  {
   "cell_type": "code",
   "execution_count": null,
   "metadata": {
    "deletable": false,
    "editable": false,
    "nbgrader": {
     "cell_type": "code",
     "checksum": "1faea6742a98ae568f2d6fb96c4fac99",
     "grade": true,
     "grade_id": "cell-7310ff7ba1261970",
     "locked": true,
     "points": 2,
     "schema_version": 3,
     "solution": false,
     "task": false
    }
   },
   "outputs": [],
   "source": [
    "assert gmm_pred_train.shape == (m_t,)\n",
    "assert gmm_pred_test.shape == (70000 - m_t,)\n",
    "assert kmeans_pred_train.shape == (m_t,)\n",
    "assert kmeans_pred_test.shape == (70000 - m_t,)"
   ]
  },
  {
   "cell_type": "markdown",
   "metadata": {
    "deletable": false,
    "editable": false,
    "nbgrader": {
     "cell_type": "markdown",
     "checksum": "ba638a64e4339e8e975a05d366416d05",
     "grade": false,
     "grade_id": "cell-6886b82a7d10a737",
     "locked": true,
     "schema_version": 3,
     "solution": false,
     "task": false
    }
   },
   "source": [
    "## TODO 11 (max 10 lines)\n",
    "\n",
    "- What is the effect of a wrong choice of the number of clusters? Briefly describe both log-likelihood as a function of iterations and optimal clustering (depicted on the 2-D plot). \n",
    "- What does the 10 different plots in TODO 8 represent, with respect to the GMM approach? Would you expect that they may change depending on the initialization?\n",
    "- The number of errors using GMM on MNIST is quite high, could have you predicted such a behaviour looking only at the plots in TODO 8? Why? Could they be better changing initialization?\n",
    "- Compare GMM, Kmeans and NN. Which is the best model? Why? Did you expect the result? \n",
    "\n",
    "\n",
    "(Answer in the next cell, no need to add code)"
   ]
  },
  {
   "cell_type": "markdown",
   "metadata": {
    "deletable": false,
    "nbgrader": {
     "cell_type": "markdown",
     "checksum": "b8d0805a0ce8511f8392db551edbee51",
     "grade": true,
     "grade_id": "cell-8296f5476cfb4142",
     "locked": false,
     "points": 6,
     "schema_version": 3,
     "solution": true,
     "task": false
    }
   },
   "source": [
    "YOUR ANSWER HERE"
   ]
  }
 ],
 "metadata": {
  "kernelspec": {
   "display_name": "venv",
   "language": "python",
   "name": "python3"
  },
  "language_info": {
   "codemirror_mode": {
    "name": "ipython",
    "version": 3
   },
   "file_extension": ".py",
   "mimetype": "text/x-python",
   "name": "python",
   "nbconvert_exporter": "python",
   "pygments_lexer": "ipython3",
   "version": "3.7.6"
  }
 },
 "nbformat": 4,
 "nbformat_minor": 4
}
