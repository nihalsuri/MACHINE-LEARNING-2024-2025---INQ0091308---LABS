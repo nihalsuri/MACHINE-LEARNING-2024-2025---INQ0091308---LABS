{
 "cells": [
  {
   "cell_type": "markdown",
   "metadata": {},
   "source": [
    "Before you turn this problem in, make sure everything runs as expected. First, **restart the kernel** (in the menubar, select Kernel$\\rightarrow$Restart) and then **run all cells** (in the menubar, select Cell$\\rightarrow$Run All).\n",
    "\n",
    "Make sure you fill in any place that says `YOUR CODE HERE` or \"YOUR ANSWER HERE\" and remove every line containing the expression: \"raise ...\" (if you leave such a line your code will not run).\n",
    "\n",
    "Do not remove any cell from the notebook you downloaded. You can add any number of cells (and remove them if not more necessary).\n",
    "\n",
    "Do not leave any variable initialized to None.\n",
    "\n",
    "## IMPORTANT: make sure to rerun all the code from the beginning to obtain the results for the final version of your notebook, since this is the way we will do it before evaluating your notebook!!!\n",
    "\n",
    "## Make sure to name your notebook file (.ipynb) correctly:\n",
    "### - HW1_LC_NAMESURNAME_ID (E.g. : HW1_LC_MARIOROSSI_2204567)\n",
    "\n",
    "## Fill in your name, surname and id number (numero matricola) below:"
   ]
  },
  {
   "cell_type": "code",
   "execution_count": 1,
   "metadata": {},
   "outputs": [],
   "source": [
    "NAME = \"NIHAL SURI\"\n",
    "ID_number = int(\"2141819\")\n",
    "\n",
    "import IPython\n",
    "assert IPython.version_info[0] >= 3, \"Your version of IPython is too old, please update it.\""
   ]
  },
  {
   "cell_type": "markdown",
   "metadata": {},
   "source": [
    "---"
   ]
  },
  {
   "cell_type": "markdown",
   "metadata": {
    "deletable": false,
    "editable": false,
    "nbgrader": {
     "cell_type": "markdown",
     "checksum": "4ef6a856bf6996469a4cfb2175d6df79",
     "grade": false,
     "grade_id": "cell-0b45e876b590deca",
     "locked": true,
     "schema_version": 3,
     "solution": false,
     "task": false
    }
   },
   "source": [
    "# Classification on Wine Dataset\n",
    "\n",
    "### Dataset description\n",
    "\n",
    "We will be working with a dataset on wines from the UCI machine learning repository\n",
    "(http://archive.ics.uci.edu/ml/datasets/Wine ). It contains data for 178 instances. \n",
    "The dataset is the results of a chemical analysis of wines grown in the same region\n",
    "in Italy but derived from three different cultivars. The analysis determined the\n",
    "quantities of 13 constituents found in each of the three types of wines. \n",
    "\n",
    "### The features in the dataset are:\n",
    "\n",
    "- Alcohol\n",
    "- Malic acid\n",
    "- Ash\n",
    "- Alcalinity of ash\n",
    "- Magnesium\n",
    "- Total phenols\n",
    "- Flavanoids\n",
    "- Nonflavanoid phenols\n",
    "- Proanthocyanins\n",
    "- Color intensity\n",
    "- Hue\n",
    "- OD280/OD315 of diluted wines\n",
    "-Proline\n",
    "\n",
    "\n"
   ]
  },
  {
   "cell_type": "markdown",
   "metadata": {
    "deletable": false,
    "editable": false,
    "nbgrader": {
     "cell_type": "markdown",
     "checksum": "de27abe278eac61bd289180959f88630",
     "grade": false,
     "grade_id": "cell-12773fe6d001aa0d",
     "locked": true,
     "schema_version": 3,
     "solution": false,
     "task": false
    }
   },
   "source": [
    "We first import all the packages that are needed"
   ]
  },
  {
   "cell_type": "code",
   "execution_count": 2,
   "metadata": {
    "deletable": false,
    "editable": false,
    "nbgrader": {
     "cell_type": "code",
     "checksum": "cac4e812d0b4c16407f1db5130872c5f",
     "grade": false,
     "grade_id": "cell-18fb2059facb1757",
     "locked": true,
     "schema_version": 3,
     "solution": false,
     "task": false
    }
   },
   "outputs": [],
   "source": [
    "%matplotlib inline\n",
    "import matplotlib.pyplot as plt\n",
    "import numpy as np\n",
    "import scipy as sp\n",
    "from scipy import stats\n",
    "from sklearn import datasets\n",
    "from sklearn import linear_model\n",
    "import copy"
   ]
  },
  {
   "cell_type": "code",
   "execution_count": 3,
   "metadata": {
    "deletable": false,
    "editable": false,
    "nbgrader": {
     "cell_type": "code",
     "checksum": "66c1ac60874c5ce72ce214211c19bb3f",
     "grade": false,
     "grade_id": "cell-ecb42095dd5d61b9",
     "locked": true,
     "schema_version": 3,
     "solution": false,
     "task": false
    }
   },
   "outputs": [],
   "source": [
    "np.random.seed(ID_number)"
   ]
  },
  {
   "cell_type": "markdown",
   "metadata": {
    "deletable": false,
    "editable": false,
    "nbgrader": {
     "cell_type": "markdown",
     "checksum": "ef16821f9da27091d8ede41df14b6cbc",
     "grade": false,
     "grade_id": "cell-7e0a653355f6eaf6",
     "locked": true,
     "schema_version": 3,
     "solution": false,
     "task": false
    }
   },
   "source": [
    "# Perceptron\n",
    "We will implement the perceptron and use it to learn a halfspace with 0-1 loss."
   ]
  },
  {
   "cell_type": "markdown",
   "metadata": {
    "deletable": false,
    "editable": false,
    "nbgrader": {
     "cell_type": "markdown",
     "checksum": "3b82d7bc9cf6d8a1a756094ba3e077e9",
     "grade": false,
     "grade_id": "cell-afd6e34f8a3801f7",
     "locked": true,
     "schema_version": 3,
     "solution": false,
     "task": false
    }
   },
   "source": [
    "Load the dataset from scikit learn and then split in training set and test set (50%-50%) after applying a random permutation to the dataset."
   ]
  },
  {
   "cell_type": "code",
   "execution_count": 4,
   "metadata": {},
   "outputs": [],
   "source": [
    "# Load the dataset from scikit learn\n",
    "wine = datasets.load_wine()\n",
    "# Get input and output data from the dataset\n",
    "X = wine.data\n",
    "Y = wine.target\n",
    "# Create new labels\n",
    "Y = np.where(Y == 0, -1, Y)\n",
    "Y = np.where(Y == 2, -1, Y)\n",
    "# Let's get the number of features\n",
    "d = X.shape[1]"
   ]
  },
  {
   "cell_type": "code",
   "execution_count": 5,
   "metadata": {
    "deletable": false,
    "editable": false,
    "nbgrader": {
     "cell_type": "code",
     "checksum": "3023be6ded1eedf05fe1893475b2a9bc",
     "grade": false,
     "grade_id": "cell-ec8c87debd43b523",
     "locked": true,
     "schema_version": 3,
     "solution": false,
     "task": false
    }
   },
   "outputs": [],
   "source": [
    "##### Helper functions, do not modify them. You will need them for the first TODO\n",
    "def check_constraints(labels, all_possibile_labels, min_num_istances):\n",
    "    # Count the number of occurrences using numpy\n",
    "    unique, counts = np.unique(labels, return_counts=True)\n",
    "    if len(all_possibile_labels) != len(unique):\n",
    "        return True  #there are not all the labels\n",
    "    if (counts >= min_num_istances).all():\n",
    "        return False #there are enough istances of each label\n",
    "    else:\n",
    "        return True  #there are not enough istances of each label\n",
    "    \n",
    "def need_new_shuffle(y_train, y_test, all_possibile_labels, min_num_istances):    #understands if the training and test are ok  \n",
    "    return (check_constraints(y_train, all_possibile_labels, min_num_istances) or #train set not ok \n",
    "            check_constraints(y_test, all_possibile_labels, min_num_istances))    #test set not ok"
   ]
  },
  {
   "cell_type": "code",
   "execution_count": 6,
   "metadata": {
    "deletable": false,
    "nbgrader": {
     "cell_type": "code",
     "checksum": "394673618083313a64f9332b39ba380f",
     "grade": false,
     "grade_id": "cell-d02ac71a8713e5a9",
     "locked": false,
     "schema_version": 3,
     "solution": true,
     "task": false
    }
   },
   "outputs": [],
   "source": [
    "# TODO 1\n",
    "# Write a function (create_train_val_test_datasets) which takes as input a dataset and returns 2 datasets: \n",
    "# S_t and S_test (different runs are supposed to return different datasets).\n",
    "# Write a function (create_train_val_test_datasets_with_constraints) which splits our data in S_t and S_test with \n",
    "# the additional constraint that in each dataset we MUST have more than min_num_istances per class.\n",
    "# Each dataset is represented as a matrix m \\times d (numpy ndarray), where m is the number of data and d is the \n",
    "# number of features.\n",
    "# To solve this TODO use the functions we provide you: need_new_shuffle (and therefore check_constraints)\n",
    "\n",
    "def create_train_val_test_datasets(features : np.ndarray, labels: np.ndarray, m_t : int, m_test : int):\n",
    "    '''\n",
    "    Create training (S_t) and test (S_test) sets starting from a dataset. \n",
    "    This function shuffles the complete dataset before creating the subsets. \n",
    "    If you call this function twice it is expected to get different S_t, S_test. \n",
    "    \n",
    "    :param features: NumPy ndarray containing all the input data data we can use\n",
    "    :param labels: NumPy ndarray containing all the labels we have\n",
    "    :param m_t: Number of samples for the training dataset\n",
    "    :param m_test: Number of samples for the test dataset\n",
    "    \n",
    "    :returns: (x_train, y_train, x_test, y_test)\n",
    "    :rtype: tuple\n",
    "        WHERE\n",
    "        x_train : np.ndarray features in the training dataset\n",
    "        y_train : np.ndarray labels in the training dataset\n",
    "        x_test : np.ndarray features in the test dataset\n",
    "        y_test : np.ndarray labels in the test dataset\n",
    "    '''\n",
    "    # SUGGESTION: Use the function np.random.permutation (see the documentation) to create a permutation of the \n",
    "    #             dataset indexes. Then use these shuffled indexes to create S_t, S_val, S_test\n",
    "    # YOUR CODE HERE\n",
    "\n",
    "    # First Method\n",
    "    # dataset = np.column_stack((features, labels.T))\n",
    "    # permuted_dataset = np.random.permutation(dataset)\n",
    "    # S_t = permuted_dataset[0:m_t]\n",
    "    # S_test = permuted_dataset[m_t:m_t + m_test]\n",
    "\n",
    "    # y_train = S_t[:, -1]\n",
    "    # x_train = S_t[:, :-1]\n",
    "\n",
    "    # y_test = S_test[:, -1]\n",
    "    # x_test = S_test[:, :-1]\n",
    "    \n",
    "    # Second method: \n",
    "    random_indices = np.random.choice(features.shape[0], features.shape[0], replace=False)\n",
    "\n",
    "    features = features[random_indices]\n",
    "    labels = labels[random_indices]\n",
    "\n",
    "    x_train = features[0:m_t]\n",
    "    y_train = labels[0:m_t]\n",
    "\n",
    "    x_test = features[m_t: m_t + m_test]\n",
    "    y_test = labels[m_t: m_t + m_test]\n",
    "\n",
    "    return x_train, y_train, x_test, y_test\n",
    "\n",
    "\n",
    "def create_train_val_test_datasets_with_constraints(features : np.ndarray, labels: np.ndarray, m_t : int, \n",
    "                                                    m_test : int, min_num_istances : int):\n",
    "    '''\n",
    "    Same as function above but now we are imposing the constraints: the splitted datasets are assumed to contain \n",
    "    at least min_num_istances per class.\n",
    "    \n",
    "    ...\n",
    "    :param min_num_istances: Minimum number of istances per class in each of the splitted datasets\n",
    "    ...\n",
    "    \n",
    "    '''\n",
    "    all_possibile_labels = np.unique(labels)\n",
    "    # YOUR CODE HERE\n",
    "    \n",
    "    while True:\n",
    "        x_train, y_train, x_test, y_test = create_train_val_test_datasets(features=features, labels=labels, m_t=m_t, m_test=m_test)\n",
    "        if not need_new_shuffle(y_train, y_test, all_possibile_labels, min_num_istances):\n",
    "            break \n",
    "\n",
    "    return x_train, y_train, x_test, y_test\n",
    "\n",
    "m_t = 80\n",
    "x_train, y_train, x_test, y_test = create_train_val_test_datasets_with_constraints(X, Y, m_t, len(Y)-m_t, 25)"
   ]
  },
  {
   "cell_type": "code",
   "execution_count": 7,
   "metadata": {
    "deletable": false,
    "editable": false,
    "nbgrader": {
     "cell_type": "code",
     "checksum": "838724b9559e75799f3fe903aafc9b85",
     "grade": true,
     "grade_id": "cell-e51332c46f70a2fd",
     "locked": true,
     "points": 3,
     "schema_version": 3,
     "solution": false,
     "task": false
    }
   },
   "outputs": [],
   "source": [
    "assert x_train.shape == (m_t,       x_train.shape[1]) # here we are comparing two tuples (it is an element wise comparison)\n",
    "assert x_test.shape  == (len(Y)-m_t, x_test.shape[1])"
   ]
  },
  {
   "cell_type": "code",
   "execution_count": 8,
   "metadata": {},
   "outputs": [
    {
     "name": "stdout",
     "output_type": "stream",
     "text": [
      "{-1: 47, 1: 33}\n",
      "{-1: 60, 1: 38}\n"
     ]
    }
   ],
   "source": [
    "# to check if the function with constraints worked as expected \n",
    "unique_t, counts_t = np.unique(y_train, return_counts=True)\n",
    "unique_test, counts_test = np.unique(y_test, return_counts=True)\n",
    "\n",
    "print(dict(zip(unique_t, counts_t)))\n",
    "print(dict(zip(unique_test, counts_test)))"
   ]
  },
  {
   "cell_type": "code",
   "execution_count": 9,
   "metadata": {
    "deletable": false,
    "editable": false,
    "nbgrader": {
     "cell_type": "code",
     "checksum": "7d64cc58d083d2f6bc0c623724411155",
     "grade": false,
     "grade_id": "cell-ac04c6e54551b392",
     "locked": true,
     "schema_version": 3,
     "solution": false,
     "task": false
    }
   },
   "outputs": [],
   "source": [
    "# Let's add a 1 in front of each sample so that we can use a vector to describe all the coefficients of the model.\n",
    "# Do not run this cell multiple times otherwise you will continue adding ones... \n",
    "# (we add the assert to avoid such issue)\n",
    "\n",
    "assert x_train.shape[1] == d\n",
    "assert x_test.shape[1] == d \n",
    "\n",
    "x_train = np.hstack((np.ones((x_train.shape[0],1)), x_train))\n",
    "x_test  = np.hstack((np.ones((x_test.shape[0],1)),  x_test))"
   ]
  },
  {
   "cell_type": "markdown",
   "metadata": {
    "deletable": false,
    "editable": false,
    "nbgrader": {
     "cell_type": "markdown",
     "checksum": "9329d626c90b0ccbd3273123517cf702",
     "grade": false,
     "grade_id": "cell-e62f679cad1d169b",
     "locked": true,
     "schema_version": 3,
     "solution": false,
     "task": false
    }
   },
   "source": [
    "## TO DO 2\n",
    "\n",
    "Now complete the function `perceptron`. Since the perceptron does not terminate if the data is not linearly separable, your implementation should return the desired output (see below) if it reached the termination condition seen in class or if a maximum number of iterations have already been run, where 1 iteration corresponds to 1 update of the perceptron weights. If the perceptron returns because the maximum number of iterations has been reached, you should return an appropriate model (the best seen along the iterations). \n",
    "\n",
    "The input parameters to pass are:\n",
    "- `X`: the matrix of input features, one row for each sample\n",
    "- `Y`: the vector of labels for the input features matrix X\n",
    "- `max_num_iterations`: the maximum number of iterations for running the perceptron\n",
    "\n",
    "The output values are:\n",
    "- `best_w`: the vector with the coefficients of the best model.\n",
    "- `best_error`: the fraction of missclassified samples for the best model. (# missclassified/# possible errors)\n",
    "\n",
    "- `w_iters`: a list of the coefficients found by the algorithm at each iteration. This is an 'auxiliary output' (it is not needed for the actual algorithm) that will allows us to have a better insight on the algorithm's behaviour.\n",
    "- `error_iters`: a list containing the fraction of missclassified samples at each iteration. (Again an auxiliary output).\n",
    "\n",
    "- `w_bestIters`: a list of the current best coefficients selected by the algorithm at each iteration (Again an auxiliary output) \n",
    "- `error_bestIters`: a list of the fraction of missclassified samples for current best model at each iteration. (Again an auxiliary output).\n",
    "\n",
    "Note that `w_iters`, `error_iters`, `w_bestIters` and `error_bestIters` contain the history/evolution of the algorithm and must be of the same length.\n",
    "\n",
    "---\n",
    "\n",
    "**Auxiliary functions**\n",
    "\n",
    "In order to correctly complete the perceptron function it is warmly recommended to define some auxiliary functions (`find_missclassified` and `choose_missclassified`). \n",
    "\n",
    ".\n",
    "\n",
    "\n",
    "`find_missclassified`: This function looks for missclassified data points in the dataset `X`.\n",
    "\n",
    "The input parameters to pass are:\n",
    "- `X`: the matrix of input features, one row for each sample\n",
    "- `Y`: the vector of labels for the input features matrix X\n",
    "- `curr_w`: the current value of the parameter vector *w*\n",
    "\n",
    "The output value is:\n",
    "- `missclassified_indeces`: a numpy array cointaining all the missclassified indeces  \n",
    "\n",
    ".\n",
    "\n",
    "\n",
    "`choose_missclassified`: This function returns one single index choosen from a array of indeces. If the array is empty it returns a non valid index: -1. \n",
    "\n",
    "The input parameters to pass are:\n",
    "- `missclassified_indeces`: numpy array containing missclassified indeces\n",
    "\n",
    "The output value is:\n",
    "- `index`: Integer (or np.int64) containing the choosen index\n"
   ]
  },
  {
   "cell_type": "code",
   "execution_count": 10,
   "metadata": {
    "deletable": false,
    "nbgrader": {
     "cell_type": "code",
     "checksum": "421cbbc91dfcafc140082ff020831da5",
     "grade": false,
     "grade_id": "cell-3a616874d5d69312",
     "locked": false,
     "schema_version": 3,
     "solution": true,
     "task": false
    }
   },
   "outputs": [],
   "source": [
    "# TODO 2\n",
    "\n",
    "def find_missclassified(X,Y,curr_w):\n",
    "    # Here you can use np.argwhere to find which model predictions are correct (this is faster than a for loop)\n",
    "    # but be careful on the dimensions of your predictions vector and Y vector.\n",
    "    # YOUR CODE HERE\n",
    "\n",
    "    # all values from the multiplication of y[w*x]\n",
    "    values = Y*np.matmul(curr_w,X.T)\n",
    "    \n",
    "    # all values that are lesser than or equal to 0\n",
    "    missclassified_indeces = np.argwhere(values <= 0)\n",
    "\n",
    "    # get all the indeces of these values from the original array\n",
    "    # missclassified_indeces = np.where(np.isin(values, missclassified_values))[0]\n",
    "\n",
    "    ##########################################################################\n",
    "    # values = []\n",
    "    # for i in range(Y):\n",
    "    #     values[i] = Y[i]*np.matmul(curr_w, X[i].T)\n",
    "    ########################################################################\n",
    "    return missclassified_indeces.reshape(-1,)\n",
    "\n",
    "def choose_missclassified(missclassified_indeces):\n",
    "    # YOUR CODE HERE\n",
    "    if len(missclassified_indeces) == 0: \n",
    "        index = -1\n",
    "    else: \n",
    "        index = missclassified_indeces[0]\n",
    "    return index\n",
    "\n",
    "def perceptron(X,Y,max_num_iterations):\n",
    "    #INITIALIZATION\n",
    "    curr_w = np.zeros(X.shape[1])\n",
    "    best_w = curr_w\n",
    "    num_samples = X.shape[0]\n",
    "    best_num_of_missclassified = num_samples+1\n",
    "    w_iters = []\n",
    "    error_iters = []\n",
    "    w_bestIters = []\n",
    "    error_bestIters = []\n",
    "    \n",
    "    missclassified_indeces = find_missclassified(X,Y,curr_w)\n",
    "    num_missclassified = len(missclassified_indeces)\n",
    "    index_missclassified = choose_missclassified(missclassified_indeces)\n",
    "    \n",
    "        \n",
    "    num_iter = 1  \n",
    "    best_error = 1\n",
    "    while num_missclassified > 0 and num_iter <= max_num_iterations:\n",
    "        # Write the update rule\n",
    "        # YOUR CODE HERE\n",
    "        num_iter += 1\n",
    "        curr_w = curr_w + Y[index_missclassified]*X[index_missclassified]\n",
    "        \n",
    "        # Update missclassified data points and choose a new missclassified data point\n",
    "        # YOUR CODE HERE\n",
    "        missclassified_indeces = find_missclassified(X, Y, curr_w)\n",
    "        num_missclassified = len(missclassified_indeces)\n",
    "        index_missclassified = choose_missclassified(missclassified_indeces)\n",
    "        error = num_missclassified/num_samples\n",
    "\n",
    "        # Update (if necessary) the best error achieved together with the best parameter up to now. \n",
    "        # Use copy.copy(curr_w) to copy your current w on \"best_w\"\n",
    "        # (since these are arrays you would be copying only the pointer if you do not use copy.copy)\n",
    "        # and to append curr_w, best_w, error_iters, best_error to the above mentioned lists\n",
    "        # YOUR CODE HERE\n",
    "        if error < best_error: \n",
    "            best_error = num_missclassified/num_samples\n",
    "            best_w = copy.copy(curr_w)\n",
    "\n",
    "        w_iters.append(curr_w)\n",
    "        error_iters.append(error)\n",
    "        w_bestIters.append(best_w)\n",
    "        error_bestIters.append(best_error)\n",
    "\n",
    "    return best_w, best_error, w_bestIters, error_bestIters, w_iters, error_iters\n"
   ]
  },
  {
   "cell_type": "code",
   "execution_count": 11,
   "metadata": {
    "deletable": false,
    "editable": false,
    "nbgrader": {
     "cell_type": "code",
     "checksum": "78aeac2af26684247116035a659abb0d",
     "grade": true,
     "grade_id": "cell-f8a90f0c3f9aecb7",
     "locked": true,
     "points": 6,
     "schema_version": 3,
     "solution": false,
     "task": false
    }
   },
   "outputs": [],
   "source": [
    "index = choose_missclassified(np.array(list(range(100))))\n",
    "assert type(index) == np.int64 or type(index) == int or type(index) == np.int32\n"
   ]
  },
  {
   "cell_type": "code",
   "execution_count": 12,
   "metadata": {
    "deletable": false,
    "editable": false,
    "nbgrader": {
     "cell_type": "code",
     "checksum": "e11bc004803ddd64a20c5a879aa861b8",
     "grade": false,
     "grade_id": "cell-095ff4deafd22d73",
     "locked": true,
     "schema_version": 3,
     "solution": false,
     "task": false
    }
   },
   "outputs": [
    {
     "name": "stdout",
     "output_type": "stream",
     "text": [
      "Training error with 100 iterations: 0.4125\n"
     ]
    }
   ],
   "source": [
    "# Now run the perceptron for 100 iterations\n",
    "# We want just to see the output of the algorithm, so we can avoid assigning the auxiliary outputs to actual variables\n",
    "w_found, training_error, _, _, _,_ = perceptron(x_train, y_train, 100)\n",
    "print(\"Training error with 100 iterations: \" + str(training_error))\n"
   ]
  },
  {
   "cell_type": "code",
   "execution_count": 13,
   "metadata": {
    "deletable": false,
    "nbgrader": {
     "cell_type": "code",
     "checksum": "dd52801a2855959c2064975314d1543d",
     "grade": false,
     "grade_id": "cell-a9cd59af4f855da0",
     "locked": false,
     "schema_version": 3,
     "solution": true,
     "task": false
    }
   },
   "outputs": [],
   "source": [
    "# TODO 3 \n",
    "# Write a function to compute the fraction of missclassified samples given two nd.array vectors of shape number of \n",
    "# data times 1 (column vectors)\n",
    "def classification_loss(y_target : np.ndarray, predictions : np.ndarray) -> float:\n",
    "    '''\n",
    "    This function computes the fraction of missclassified samples given two vectors: true labels and predictions. \n",
    "    :param y_target: output labels\n",
    "    :param predictions: predictions\n",
    "    \n",
    "    :return: Fraction of missclassified samples\n",
    "    '''\n",
    "    # YOUR CODE HERE\n",
    "    missclassified_indeces = np.where(y_target != predictions)[0]\n",
    "    return missclassified_indeces.shape[0] / y_target.shape[0]\n",
    "\n",
    "# Write a function to compute the fraction of missclassified samples for a generic dataset given inputs, targets and \n",
    "# a vector w. Hint: you can use the function classification_loss defined above\n",
    "def compute_fraction_missclassified(X : np.ndarray, Y : np.ndarray, w : np.ndarray) -> float:\n",
    "    '''\n",
    "    This function computes the fraction of missclassified samples of model parametrized by w on the data X w.r.t. \n",
    "    targets Y. \n",
    "    :param X: input locations\n",
    "    :param Y: targets\n",
    "    :param w: parameters of the model to be tested\n",
    "    \n",
    "    :return: Fraction of missclassified samples\n",
    "    '''\n",
    "    # YOUR CODE HERE\n",
    "    values = np.matmul(w,X.T)\n",
    "    values[values > 0] = 1\n",
    "    values[values < 0] = -1\n",
    "    fraction_missclass = classification_loss(Y, values)\n",
    "    return fraction_missclass"
   ]
  },
  {
   "cell_type": "code",
   "execution_count": 14,
   "metadata": {
    "deletable": false,
    "editable": false,
    "nbgrader": {
     "cell_type": "code",
     "checksum": "35607e8fa3a23c1c961161be3f18fa51",
     "grade": true,
     "grade_id": "cell-37188909eff59ebb",
     "locked": true,
     "points": 2,
     "schema_version": 3,
     "solution": false,
     "task": false
    }
   },
   "outputs": [],
   "source": [
    "assert classification_loss(np.array([[1],[3]]), np.array([[1],[3]])) == 0\n",
    "assert classification_loss(np.array([[1],[2]]), np.array([[1],[3]])) == 0.5\n",
    "y_labels, y_predictions = np.random.choice(10, 1000000), np.random.choice(10, 1000000)\n",
    "assert np.isclose(classification_loss(y_labels, y_predictions), 0.9, atol=0.01)\n",
    "assert training_error == compute_fraction_missclassified(x_train, y_train, w_found)\n"
   ]
  },
  {
   "cell_type": "code",
   "execution_count": 15,
   "metadata": {
    "deletable": false,
    "editable": false,
    "nbgrader": {
     "cell_type": "code",
     "checksum": "0ed3a5ac8197ebb88d9bf5fa7521ef41",
     "grade": false,
     "grade_id": "cell-cc7f13766f7358b1",
     "locked": true,
     "schema_version": 3,
     "solution": false,
     "task": false
    }
   },
   "outputs": [
    {
     "name": "stdout",
     "output_type": "stream",
     "text": [
      "Training Error for 1000000 iterations is 0.0375\n",
      "Test Error for 1000000 iterations is 0.0510\n"
     ]
    }
   ],
   "source": [
    "# now run the perceptron for 1000000 iterations\n",
    "w_found, training_error, w_listBest, error_list_trainBest, w_list, error_list_train = perceptron(x_train, y_train, 1000000)\n",
    "print(f\"Training Error for 1000000 iterations is {compute_fraction_missclassified(x_train, y_train, w_found):.4f}\")\n",
    "print(f\"Test Error for 1000000 iterations is {compute_fraction_missclassified(x_test, y_test, w_found):.4f}\")"
   ]
  },
  {
   "cell_type": "markdown",
   "metadata": {
    "deletable": false,
    "editable": false,
    "nbgrader": {
     "cell_type": "markdown",
     "checksum": "7dcd2af34f897a6116e24e9c0e82e313",
     "grade": false,
     "grade_id": "cell-4d2439df9a3690f9",
     "locked": true,
     "schema_version": 3,
     "solution": false,
     "task": false
    }
   },
   "source": [
    "**TO DO 4**: We want to have a better understanding of the hidden behaviour of perceptron algorithm. We indeed defined four auxiliary outputs that should allow us to inspect the training process in more depth. In particular, we want to check if the sequence of models' errors found through the different iterations is characterized by a decreasing trend, with respect to both training and test datasets.\n",
    "\n",
    "The function `perceptron` already returns the sequence of errors, which is ready to be plotted. However, the errors for the test set aren not immediately available: we nonetheless have all different models, thus we can easily compute them! "
   ]
  },
  {
   "cell_type": "code",
   "execution_count": 16,
   "metadata": {
    "deletable": false,
    "nbgrader": {
     "cell_type": "code",
     "checksum": "73d6db134d6cf16fa69c14f7394773ec",
     "grade": false,
     "grade_id": "cell-1b31c939aaccbfcf",
     "locked": false,
     "schema_version": 3,
     "solution": true,
     "task": false
    }
   },
   "outputs": [],
   "source": [
    "# TODO 4\n",
    "# Write a function 'error_models' which takes as input a list of models (each of which is a numpy ndarray) and returns\n",
    "# a list of corresponding errors for a generic dataset\n",
    "# Suggestion: you can use 'compute_fraction_missclassified' from above to solve this TODO\n",
    "\n",
    "def error_models(X : np.ndarray, Y : np.ndarray, w_l : list) -> list:\n",
    "    '''\n",
    "    This function computes the fraction of missclassified samples of model parametrized by w on the data X w.r.t. \n",
    "    targets Y. \n",
    "    :param X: input locations\n",
    "    :param Y: targets\n",
    "    :param w: list of arrays (models) to be tested\n",
    "    \n",
    "    :return: List of fraction of missclassified samples for each model\n",
    "    '''\n",
    "    errors = []\n",
    "    errors = [compute_fraction_missclassified(X, Y, w) for w in w_l]\n",
    "    return errors"
   ]
  },
  {
   "cell_type": "code",
   "execution_count": 17,
   "metadata": {
    "deletable": false,
    "editable": false,
    "nbgrader": {
     "cell_type": "code",
     "checksum": "17fb0122dbf7130f91b98558e4d73393",
     "grade": true,
     "grade_id": "cell-35cfce3521a586e5",
     "locked": true,
     "points": 2,
     "schema_version": 3,
     "solution": false,
     "task": false
    }
   },
   "outputs": [],
   "source": [
    "assert len(error_models(x_test, y_test, w_list)) == len(error_list_train)\n",
    "assert len(error_models(x_test, y_test, w_listBest)) == len(error_list_trainBest)\n",
    "assert len(error_models(x_test, y_test, w_list)) <= 1000000\n",
    "assert len(error_models(x_test, y_test, w_listBest)) <= 1000000\n"
   ]
  },
  {
   "cell_type": "code",
   "execution_count": 18,
   "metadata": {
    "deletable": false,
    "editable": false,
    "nbgrader": {
     "cell_type": "code",
     "checksum": "a18ec1cd831174cb64b3a990bcf712d0",
     "grade": false,
     "grade_id": "cell-91232f80b209e445",
     "locked": true,
     "schema_version": 3,
     "solution": false,
     "task": false
    }
   },
   "outputs": [
    {
     "data": {
      "text/plain": [
       "Text(0.5, 1.0, 'Test Error using the w found at the current iteration')"
      ]
     },
     "execution_count": 18,
     "metadata": {},
     "output_type": "execute_result"
    },
    {
     "data": {
      "image/png": "[encoded data removed]",
      "text/plain": [
       "<Figure size 1500x1000 with 4 Axes>"
      ]
     },
     "metadata": {},
     "output_type": "display_data"
    }
   ],
   "source": [
    "error_list_testBest = error_models(x_test, y_test, w_listBest)\n",
    "error_list_test = error_models(x_test, y_test, w_list)\n",
    "fig, axes = plt.subplots(2,2, figsize=(15,10))\n",
    "axes[0][0].plot([i for i in range(len(w_listBest))], error_list_trainBest, linewidth=2)\n",
    "axes[0][0].set_xlabel('Iterations')\n",
    "axes[0][0].set_ylabel('Perceptron training error')\n",
    "axes[0][0].set_title('Error using the best w found at the current iteration ')\n",
    "axes[0][1].plot([i for i in range(len(w_list))], error_list_testBest, linewidth=2)\n",
    "axes[0][1].set_xlabel('Iterations')\n",
    "axes[0][1].set_ylabel('Perceptron test error')\n",
    "axes[0][1].set_title('Test Error using the best w found at the current iteration')\n",
    "axes[1][0].plot([i for i in range(len(w_list))], error_list_train, linewidth=2)\n",
    "axes[1][0].set_xlabel('Iterations')\n",
    "axes[1][0].set_ylabel('Perceptron training error')\n",
    "axes[1][0].set_title('Error using the w found at the current iteration ')\n",
    "axes[1][1].plot([i for i in range(len(w_list))], error_list_test, linewidth=2)\n",
    "axes[1][1].set_xlabel('Iterations')\n",
    "axes[1][1].set_ylabel('Perceptron test error')\n",
    "axes[1][1].set_title('Test Error using the w found at the current iteration')"
   ]
  },
  {
   "cell_type": "markdown",
   "metadata": {
    "deletable": false,
    "editable": false,
    "nbgrader": {
     "cell_type": "markdown",
     "checksum": "a3b4b9628a3dedefd0476d61d8d03f90",
     "grade": false,
     "grade_id": "cell-3f70a09649060ece",
     "locked": true,
     "schema_version": 3,
     "solution": false,
     "task": false
    }
   },
   "source": [
    "**TO DO 5**: Answer in the next cell:\n",
    "\n",
    "Consider the plots above. How do the errors compare? Can you identify a some particular property? "
   ]
  },
  {
   "cell_type": "markdown",
   "metadata": {
    "deletable": false,
    "nbgrader": {
     "cell_type": "markdown",
     "checksum": "0c3b1b8817b584472c6fa67e5721dc31",
     "grade": true,
     "grade_id": "cell-5g8a6b5a5434d45a",
     "locked": false,
     "points": 5,
     "schema_version": 3,
     "solution": true,
     "task": false
    }
   },
   "source": [
    "- The general trend of all the four subplots is that the error is decreasing after each and every iteration, this is due to the fact that the weights of our parameter w are constantly getting more advanced as the perceptron algorithm visits more missclassified points. We can say that the plot[0][0] for the **best w** is **monotonically non-increasing**, as these are those weights that satisfied the condition that the current error must be lower than the previous best one, whereas plot [0][1] is in some sense similar but not monotonically decreasing the entire time as these are datapoints that the model has never seen before and is predicting on, but the overall performance is one that is acceptable. \n",
    "\n",
    "- The bottom two plots depict the errors also decreasing as the iterations increase, but not for the best parameters, but just for the general current one of the iteration. "
   ]
  },
  {
   "cell_type": "markdown",
   "metadata": {
    "deletable": false,
    "editable": false,
    "nbgrader": {
     "cell_type": "markdown",
     "checksum": "7ee804dacb6dc36e52aa75ef49bd0823",
     "grade": false,
     "grade_id": "cell-ceceb8d79bdbb44c",
     "locked": true,
     "schema_version": 3,
     "solution": false,
     "task": false
    }
   },
   "source": [
    "# Logistic Regression\n",
    "Now we use logistic regression, as implemented in Scikit-learn, to predict labels. We first do it for 2 labels and then for 3 labels. We will also plot the decision region of logistic regression.\n",
    "\n",
    "We first load the dataset again."
   ]
  },
  {
   "cell_type": "code",
   "execution_count": 19,
   "metadata": {
    "deletable": false,
    "editable": false,
    "nbgrader": {
     "cell_type": "code",
     "checksum": "d15a2507bc251893238517c7981be906",
     "grade": false,
     "grade_id": "cell-f0438d3eda59cd16",
     "locked": true,
     "schema_version": 3,
     "solution": false,
     "task": false
    }
   },
   "outputs": [
    {
     "name": "stdout",
     "output_type": "stream",
     "text": [
      "Dataset with constraints successfully created\n"
     ]
    }
   ],
   "source": [
    "import random\n",
    "# Let's reinitialize the random seed \n",
    "random.seed(1)\n",
    "np.random.seed(1)\n",
    "\n",
    "# In the following we will keep the dataset with only two classes (which we aggregated before)\n",
    "m_t = 80\n",
    "x_train, y_train, x_test, y_test = create_train_val_test_datasets_with_constraints(X, Y, m_t, len(Y)-m_t, 25)\n",
    "print('Dataset with constraints successfully created')"
   ]
  },
  {
   "cell_type": "markdown",
   "metadata": {
    "deletable": false,
    "editable": false,
    "nbgrader": {
     "cell_type": "markdown",
     "checksum": "22dad01907f54c0b0bef916d60bfc151",
     "grade": false,
     "grade_id": "cell-2ac0dfd0d9156863",
     "locked": true,
     "schema_version": 3,
     "solution": false,
     "task": false
    }
   },
   "source": [
    "To define a logistic regression model in Scikit-learn use the instruction\n",
    "\n",
    "`linear_model.LogisticRegression(C=1e5, max_iter=?)`\n",
    "\n",
    "`C` is the inverse of the regularization strength. We well see more about regularization later in the course. Setting `C` to a high value is almost as ignoring regularization, so the instruction above corresponds to the logistic regression you have seen in class. Choose the proper number of iterations: max_iter.\n",
    "\n",
    "To learn the model you need to use the `fit(...)` instruction and to predict you need to use the `predict(...)` function. See the Scikit-learn documentation for how to use it (have a look at the logreg.score method too).\n",
    "\n",
    "**TO DO** Define the logistic regression model, then learn the model using the training set and predict on the test set. Then print the fraction of samples missclassified in the training set and in the test set."
   ]
  },
  {
   "cell_type": "code",
   "execution_count": 20,
   "metadata": {
    "deletable": false,
    "nbgrader": {
     "cell_type": "code",
     "checksum": "d95f9f7fb9fa6d94aff29a0f0e2fcd00",
     "grade": false,
     "grade_id": "cell-1319502bf0c222b4",
     "locked": false,
     "schema_version": 3,
     "solution": true,
     "task": false
    }
   },
   "outputs": [
    {
     "name": "stdout",
     "output_type": "stream",
     "text": [
      "Error rate on training set: 0.0\n",
      "Error rate on test set: 0.09183673469387756\n",
      "Compare the estimate of generalization with the sklearn implementation 0.09183673469387754\n"
     ]
    }
   ],
   "source": [
    "# TODO 6\n",
    "# Logistic regression for 2 classes\n",
    "# To compute the error rate (classification loss you can use the function \"classification_loss\" you built before)\n",
    "max_iterations = 1000\n",
    "error_rate_training = 0\n",
    "error_rate_test = 0\n",
    "error_rate_test_sklearn = 0\n",
    "\n",
    "# YOUR CODE HERE\n",
    "logreg = linear_model.LogisticRegression(C=1e5, max_iter=max_iterations).fit(x_train, y_train)\n",
    "y_predictions_test = logreg.predict(x_test)\n",
    "y_predictions_train = logreg.predict(x_train)\n",
    "\n",
    "# Perceptron comparison with logreg (out of curiosity)\n",
    "# w_new, _, _, _, _ , _ = perceptron(x_train, y_train, max_iterations)\n",
    "\n",
    "# error_rate_training = compute_fraction_missclassified(x_train, y_train, w_new)\n",
    "# error_rate_test = compute_fraction_missclassified(x_test, y_test, w_new)\n",
    "# error_rate_test_sklearn = classification_loss(y_test, y_predictions_test)\n",
    "\n",
    "error_rate_training = classification_loss(y_train, y_predictions_train)\n",
    "error_rate_test = classification_loss(y_test, y_predictions_test)\n",
    "error_rate_test_sklearn = 1 - logreg.score(x_test, y_test)\n",
    "\n",
    "\n",
    "print(\"Error rate on training set: \"+str(error_rate_training))\n",
    "print(\"Error rate on test set: \"+str(error_rate_test))\n",
    "print(f\"Compare the estimate of generalization with the sklearn implementation {error_rate_test_sklearn}\")"
   ]
  },
  {
   "cell_type": "code",
   "execution_count": 21,
   "metadata": {
    "deletable": false,
    "editable": false,
    "nbgrader": {
     "cell_type": "code",
     "checksum": "5b4c7bd126df457d4e6b716058b14d67",
     "grade": true,
     "grade_id": "cell-f61fd1d382c5083b",
     "locked": true,
     "points": 3,
     "schema_version": 3,
     "solution": false,
     "task": false
    }
   },
   "outputs": [],
   "source": [
    "assert np.isclose(error_rate_test, error_rate_test_sklearn)"
   ]
  },
  {
   "cell_type": "markdown",
   "metadata": {
    "deletable": false,
    "editable": false,
    "nbgrader": {
     "cell_type": "markdown",
     "checksum": "7ff08138880be75c3fed6f33c1e56025",
     "grade": false,
     "grade_id": "cell-a43468bc0e155db7",
     "locked": true,
     "schema_version": 3,
     "solution": false,
     "task": false
    }
   },
   "source": [
    "**TO DO 7**: Answer in the next cell:\n",
    "\n",
    "- If you get a zero training error using the logistic regression, what can you say about data separability?\n",
    "\n",
    "- In such case, would the perceptron be able to stop even without a number of maximum iterations? If yes, can we find an upperbound for the number of iterations required by the perceptron in order to stop?"
   ]
  },
  {
   "cell_type": "markdown",
   "metadata": {
    "deletable": false,
    "nbgrader": {
     "cell_type": "markdown",
     "checksum": "afe09c3e3ade70025d68baa76a1c23b7",
     "grade": true,
     "grade_id": "cell-5c8a6b5a5434d45a",
     "locked": false,
     "points": 5,
     "schema_version": 3,
     "solution": true,
     "task": false
    }
   },
   "source": [
    "1. Yes, we do get 0 training error for the logistic regression approach, if this is the case we can say that there is definetly one, if not many hyperplanes that can seperate our data in $\\mathbb{R}^{n}$ n being the number of dimensions of each datapoint in **x_train**, the data is **linearly seperable** ,what is intersting to note is that this holds true only to the training dataset, when the model visits unseen data this may not be the case everytime. \n",
    "\n",
    "2. Yes, the perceptron would be able to stop even without a maximum number of iterations as the data is linearly seperable and it can find a set of feasible parameters that will completely seperate the datapoints. The perceptron algorithm stops in a finite number of steps K, where it is defined as ${K}={M}^{2}{B}^{2}$, where M is the infimum norm over the parameters and B is the maximum norm of the datapoints in X. The value that we obtain from K can be thought as an upper bound on the number of interations. "
   ]
  },
  {
   "cell_type": "markdown",
   "metadata": {
    "deletable": false,
    "editable": false,
    "nbgrader": {
     "cell_type": "markdown",
     "checksum": "099b53cc9e2cbe7c50fec03aff1bf16e",
     "grade": false,
     "grade_id": "cell-77a29c1bdccfc175",
     "locked": true,
     "schema_version": 3,
     "solution": false,
     "task": false
    }
   },
   "source": [
    "**TO DO 8**:\n",
    "\n",
    "Consider the perceptron algorithm and allow it to run for an unlimited number of iterations. Complete the following function `bound_K_perceptron()`:\n",
    "\n",
    "Input:\n",
    "- a data matrix $X \\in \\mathbb{R}^{m \\times d}$\n",
    "- the response vector $Y\\in \\mathbb{R}^m$\n",
    "- the extended coefficient vector $w \\in \\mathbb{R}^{d+1}$ (whose first element is the intercept) of the linear model\n",
    "\n",
    "Output: \n",
    "- an upper bound $K$ on the number of iterations needed by the perceptron to stop. If the input data does not allow to obtain such bound, return $K=-1$."
   ]
  },
  {
   "cell_type": "code",
   "execution_count": 22,
   "metadata": {
    "deletable": false,
    "nbgrader": {
     "cell_type": "code",
     "checksum": "a3fa68d485fa7bd9713f8014b1d34512",
     "grade": false,
     "grade_id": "cell-6a38bfff2f915743",
     "locked": false,
     "schema_version": 3,
     "solution": true,
     "task": false
    }
   },
   "outputs": [],
   "source": [
    "def bound_K_perceptron(x_train : np.ndarray, y_train : np.ndarray, w : np.ndarray):\n",
    "    \"\"\"\n",
    "    :param x_train: training data, each row is a data sample (m \\times d)\n",
    "    :param y_train: vector of labels\n",
    "    :param w: model coefficients, the first element is the intercept\n",
    "    \n",
    "    :return: A scalar K that bounds the number of iterations needed by the perceptron to stop.\n",
    "             If w does not allow to compute the bound, return K = -1\n",
    "    \"\"\"\n",
    "    # remember to add a column of ones\n",
    "    assert x_train.shape[1] == d\n",
    "    x_train = np.hstack((np.ones((x_train.shape[0],1)), x_train))\n",
    "\n",
    "    # first check if data is all linearly seperable or not \n",
    "    if np.all (y_train*np.matmul(w,x_train.T) > 0): \n",
    "        B = max([np.linalg.norm(datapoint) for datapoint in x_train])\n",
    "        M = np.linalg.norm(w)\n",
    "        K = (M**2)*(B**2)\n",
    "    else: \n",
    "        K = -1\n",
    "    return K"
   ]
  },
  {
   "cell_type": "code",
   "execution_count": 23,
   "metadata": {
    "deletable": false,
    "editable": false,
    "nbgrader": {
     "cell_type": "code",
     "checksum": "2b913be0db414437589633aada0cc6b1",
     "grade": true,
     "grade_id": "cell-5e269d0be5787d65",
     "locked": true,
     "points": 2,
     "schema_version": 3,
     "solution": false,
     "task": false
    }
   },
   "outputs": [
    {
     "name": "stdout",
     "output_type": "stream",
     "text": [
      "K = 2869820040.815864\n"
     ]
    }
   ],
   "source": [
    "# check what happens using the model found by the logistic regression\n",
    "w_logreg = np.concatenate((logreg.intercept_, np.ndarray.flatten(logreg.coef_)))\n",
    "K = bound_K_perceptron(x_train, y_train, w_logreg)\n",
    "print('K =', K)\n"
   ]
  },
  {
   "cell_type": "markdown",
   "metadata": {
    "deletable": false,
    "editable": false,
    "nbgrader": {
     "cell_type": "markdown",
     "checksum": "06fc67cd6c1561737cca0900743ac5d0",
     "grade": false,
     "grade_id": "cell-1bc78d30e45a1810",
     "locked": true,
     "schema_version": 3,
     "solution": false,
     "task": false
    }
   },
   "source": [
    "Now we do logistic regression for classification with 3 classes."
   ]
  },
  {
   "cell_type": "code",
   "execution_count": 24,
   "metadata": {
    "deletable": false,
    "editable": false,
    "nbgrader": {
     "cell_type": "code",
     "checksum": "26283659f5d1552eb93488ca62c3d827",
     "grade": false,
     "grade_id": "cell-a50c4e9d48fc99b8",
     "locked": true,
     "schema_version": 3,
     "solution": false,
     "task": false
    }
   },
   "outputs": [
    {
     "name": "stdout",
     "output_type": "stream",
     "text": [
      "Dataset with constraints successfully created\n"
     ]
    }
   ],
   "source": [
    "random.seed(ID_number)\n",
    "np.random.seed(ID_number)\n",
    "\n",
    "X = wine.data\n",
    "Y = wine.target\n",
    "\n",
    "m_t = 80\n",
    "x_train, y_train, x_test, y_test = create_train_val_test_datasets_with_constraints(X, Y, m_t, len(Y)-m_t, 20)\n",
    "print('Dataset with constraints successfully created')\n",
    "\n",
    "_, counts = np.unique(y_train, return_counts=True)\n",
    "assert (counts >= 20).all()\n",
    "_, counts = np.unique(y_test, return_counts=True)\n",
    "assert (counts >= 20).all()"
   ]
  },
  {
   "cell_type": "code",
   "execution_count": 25,
   "metadata": {
    "deletable": false,
    "nbgrader": {
     "cell_type": "code",
     "checksum": "1693cceaa88efe2a4ce1fe8a6ea45dbd",
     "grade": false,
     "grade_id": "cell-a5bafa4e2faa3712",
     "locked": false,
     "schema_version": 3,
     "solution": true,
     "task": false
    }
   },
   "outputs": [
    {
     "name": "stdout",
     "output_type": "stream",
     "text": [
      "Error rate on training set: 0.0\n",
      "Error rate on test set: 0.08163265306122448\n",
      "Compare the estimate of generalization with the sklearn implementation 0.08163265306122447\n"
     ]
    }
   ],
   "source": [
    "# TODO 9\n",
    "# Logistic regression for 3 classes\n",
    "# To compute the error rate (classification loss you can use the function \"classification_loss\" you built before)\n",
    "# Choose the proper number of iterations: max_iter.\n",
    "# Very similar to TODO 6\n",
    "max_iter = 1000\n",
    "error_rate_training = 0\n",
    "error_rate_test = 0\n",
    "error_rate_test_sklearn = 0\n",
    "# YOUR CODE HERE\n",
    "\n",
    "logreg = linear_model.LogisticRegression(C=1e5, max_iter=max_iterations).fit(x_train, y_train)\n",
    "y_predictions_test = logreg.predict(x_test)\n",
    "y_predictions_train = logreg.predict(x_train)\n",
    "\n",
    "error_rate_training = classification_loss(y_train, y_predictions_train)\n",
    "error_rate_test = classification_loss(y_test, y_predictions_test)\n",
    "error_rate_test_sklearn = 1 - logreg.score(x_test, y_test)\n",
    "\n",
    "print(\"Error rate on training set: \"+str(error_rate_training))\n",
    "print(\"Error rate on test set: \"+str(error_rate_test))\n",
    "print(f\"Compare the estimate of generalization with the sklearn implementation {error_rate_test_sklearn}\")"
   ]
  },
  {
   "cell_type": "code",
   "execution_count": 26,
   "metadata": {
    "deletable": false,
    "editable": false,
    "nbgrader": {
     "cell_type": "code",
     "checksum": "3c389e0a9443246776714b7d8bfadea3",
     "grade": true,
     "grade_id": "cell-32dd959d8191b244",
     "locked": true,
     "points": 1,
     "schema_version": 3,
     "solution": false,
     "task": false
    }
   },
   "outputs": [],
   "source": [
    "assert np.isclose(error_rate_test, error_rate_test_sklearn)"
   ]
  },
  {
   "cell_type": "markdown",
   "metadata": {
    "deletable": false,
    "editable": false,
    "nbgrader": {
     "cell_type": "markdown",
     "checksum": "4f5affdbc445a3273e40253ac9555318",
     "grade": false,
     "grade_id": "cell-8100034bd6b75005",
     "locked": true,
     "schema_version": 3,
     "solution": false,
     "task": false
    }
   },
   "source": [
    "We now are going to plot prediction boundaries of a logistic regression model, in order to plot them we need to reduce the number of features to 2: pick two features and restrict the dataset to include only two features, whose indices are specified in the `features` vector below. Then split into training and test."
   ]
  },
  {
   "cell_type": "code",
   "execution_count": 27,
   "metadata": {},
   "outputs": [
    {
     "name": "stdout",
     "output_type": "stream",
     "text": [
      "[1 0 2 1 1 0 1 1 1 0 0 0 2 0 0 1 2 0 0 1 0 0 0 0 1 1 0 1 0 1 0 0 2 1 2 1 1\n",
      " 2 1 1 2 0 2 0 1 1 2 0 2 2 2 0 2 2 2 1 0 0 0 0 2 2 0 1 1 2 1 1 0 2 1 1 1 0\n",
      " 2 1 1 0 1 1]\n"
     ]
    }
   ],
   "source": [
    "print(y_train)"
   ]
  },
  {
   "cell_type": "code",
   "execution_count": 28,
   "metadata": {
    "deletable": false,
    "nbgrader": {
     "cell_type": "code",
     "checksum": "2799be7007abad65910346d1117daff6",
     "grade": false,
     "grade_id": "cell-61db43ed3e1ffada",
     "locked": false,
     "schema_version": 3,
     "solution": true,
     "task": false
    }
   },
   "outputs": [],
   "source": [
    "# TODO 10\n",
    "# to make the plot we need to reduce the data to 2D, so we choose two features\n",
    "features_list = ['Alcohol', 'Malic acid', 'Ash', 'Alcalinity of ash', 'Magnesium', 'Total phenols', 'Flavanoids',\n",
    "                 'Nonflavanoid phenols', 'Proanthocyanins', 'Color intensity', 'Hue', 'OD280/OD315 of diluted wines',\n",
    "                 'Proline']\n",
    "labels_list = ['class_0', 'class_1', 'class_2']\n",
    "\n",
    "index_feature1 = 0  # You can choose the feature you prefer here\n",
    "index_feature2 = 9 # You can choose the feature you prefer here\n",
    "features = [index_feature1, index_feature2]\n",
    "\n",
    "feature_name0 = features_list[features[0]]\n",
    "feature_name1 = features_list[features[1]]\n",
    "\n",
    "X = X[:,features]\n",
    "\n",
    "# In the following we will keep the dataset with 3 classes\n",
    "m_t = 80\n",
    "x_train, y_train, x_test, y_test = create_train_val_test_datasets_with_constraints(X, Y, m_t, len(Y)-m_t, 20)\n",
    "\n",
    "# Fit a model on the reduced set of fetures (use again Scikit-learn to define the logistic regression model)\n",
    "# YOUR CODE HERE\n",
    "logreg = linear_model.LogisticRegression(C=1e5, max_iter=max_iterations).fit(x_train, y_train)\n",
    "\n"
   ]
  },
  {
   "cell_type": "code",
   "execution_count": 29,
   "metadata": {
    "deletable": false,
    "editable": false,
    "nbgrader": {
     "cell_type": "code",
     "checksum": "f9afbdb7ca58f2157c4f16eb060f8ae0",
     "grade": true,
     "grade_id": "cell-6e35e0afddc4eb55",
     "locked": true,
     "points": 1,
     "schema_version": 3,
     "solution": false,
     "task": false
    }
   },
   "outputs": [],
   "source": [
    "assert logreg.predict(x_test).shape == (x_test.shape[0], )"
   ]
  },
  {
   "cell_type": "markdown",
   "metadata": {
    "deletable": false,
    "editable": false,
    "nbgrader": {
     "cell_type": "markdown",
     "checksum": "f8287fc1443432cde3c63af3c6d075db",
     "grade": false,
     "grade_id": "cell-e052804bd400c9d7",
     "locked": true,
     "schema_version": 3,
     "solution": false,
     "task": false
    }
   },
   "source": [
    "The code below uses the model in `logreg` to plot the decision region for the two features chosen above, with colors denoting the predicted value. It also plots the points (with correct labels) in the training set. It makes a similar plot for the test set."
   ]
  },
  {
   "cell_type": "code",
   "execution_count": 30,
   "metadata": {
    "deletable": false,
    "editable": false,
    "nbgrader": {
     "cell_type": "code",
     "checksum": "7566787c36035f441f6f4226af7abe76",
     "grade": false,
     "grade_id": "cell-0c8b1f9de040f7cf",
     "locked": true,
     "schema_version": 3,
     "solution": false,
     "task": false
    }
   },
   "outputs": [
    {
     "data": {
      "text/plain": [
       "Text(0.5, 1.0, 'Test set')"
      ]
     },
     "execution_count": 30,
     "metadata": {},
     "output_type": "execute_result"
    },
    {
     "data": {
      "text/plain": [
       "<Figure size 400x300 with 0 Axes>"
      ]
     },
     "metadata": {},
     "output_type": "display_data"
    },
    {
     "data": {
      "image/png": "[encoded data removed]",
      "text/plain": [
       "<Figure size 1000x500 with 2 Axes>"
      ]
     },
     "metadata": {},
     "output_type": "display_data"
    }
   ],
   "source": [
    "# Plot the decision boundary. For that, we will assign a color to each\n",
    "# point in the mesh [x_min, x_max]x[y_min, y_max].\n",
    "h = .02  # step size in the mesh\n",
    "x_min, x_max = X[:, 0].min() - .5, X[:, 0].max() + .5\n",
    "y_min, y_max = X[:, 1].min() - .5, X[:, 1].max() + .5\n",
    "xx, yy = np.meshgrid(np.arange(x_min, x_max, h), np.arange(y_min, y_max, h))\n",
    "\n",
    "Z = logreg.predict(np.c_[xx.ravel(), yy.ravel()])\n",
    "\n",
    "# Put the result into a color plot\n",
    "Z = Z.reshape(xx.shape)\n",
    "\n",
    "plt.figure(1, figsize=(4, 3))\n",
    "fig, axes = plt.subplots(1,2, figsize=(10,5))\n",
    "axes[0].pcolormesh(xx, yy, Z[:-1,:-1], cmap=plt.cm.Paired)\n",
    "\n",
    "# Plot also the training points\n",
    "axes[0].scatter(x_train[:, 0], x_train[:, 1], c=y_train, edgecolors='k', cmap=plt.cm.Paired)\n",
    "axes[0].set_xlabel(feature_name0)\n",
    "axes[0].set_ylabel(feature_name1)\n",
    "\n",
    "axes[0].set_xlim(xx.min(), xx.max())\n",
    "axes[0].set_ylim(yy.min(), yy.max())\n",
    "axes[0].set_title('Training set')\n",
    "\n",
    "# Put the result into a color plot\n",
    "Z = Z.reshape(xx.shape)\n",
    "axes[1].pcolormesh(xx, yy, Z[:-1,:-1], cmap=plt.cm.Paired)\n",
    "\n",
    "# Plot also the test points \n",
    "axes[1].scatter(x_test[:, 0], x_test[:, 1], c=y_test, edgecolors='k', cmap=plt.cm.Paired, marker='s')\n",
    "axes[1].set_xlabel(feature_name0)\n",
    "axes[1].set_ylabel(feature_name1)\n",
    "\n",
    "axes[1].set_xlim(xx.min(), xx.max())\n",
    "axes[1].set_ylim(yy.min(), yy.max())\n",
    "axes[1].set_title('Test set')"
   ]
  },
  {
   "cell_type": "markdown",
   "metadata": {
    "deletable": false,
    "editable": false,
    "nbgrader": {
     "cell_type": "markdown",
     "checksum": "52e2d602db5255fa9410166d31759688",
     "grade": false,
     "grade_id": "cell-acdf2d40b719572c",
     "locked": true,
     "schema_version": 3,
     "solution": false,
     "task": false
    }
   },
   "source": [
    "**TO DO 11**: Answer in the next cell (you do not need more than 5-7 lines):\n",
    "\n",
    "- What is the shape of the decision boundaries in the higher dimensional space ($\\mathbb{R}^d$)? Why?\n",
    "\n",
    "- In this lower dimensional space, are the features linearly separable? What if you consider the entire feature vector (without any dimensionality reduction)?  \n"
   ]
  },
  {
   "cell_type": "markdown",
   "metadata": {
    "deletable": false,
    "nbgrader": {
     "cell_type": "markdown",
     "checksum": "73a023e7e2714dd35c92f77ec982d640",
     "grade": true,
     "grade_id": "cell-5a2bb524ef017bac",
     "locked": false,
     "points": 2,
     "schema_version": 3,
     "solution": true,
     "task": false
    }
   },
   "source": [
    "1. The shape of the decision boundries in $\\mathbb{R}^d$ depend on the **number of classes we're classifying between and union of the subsets of the hyperplanes** that form the overall structure of the decision boundries, these are those hyperplanes that seperate one class from the other. If we're talking only about binary classification then the hyperplane and the decision boundry is the same. When it comes to the number of hyperplanes required that can vary on the approach, but the **minimum number of hyperplanes required in our case with 3 labels would be 2 hyperplanes of** $\\mathbb{R}^{d-1}$, the reason to have 2 hyperplanes as a minimum is because these two hyperplanes can arrange each other in such a way so that they seperate the three classes. \n",
    "\n",
    "2. No, in this lower dimensional space the features are **not linearly seperable**, we can visualize the same from the plot above as well. If we consider the entire feature vector, consisting of all d features, then **yes all the datapoints are linearly seperable in our problem for the datapoints in the train set**, we've proved the same earlier by getting training error 0 and also by finding an upper bound on the finite number of steps required for the perceptron to stop at. It's important to note that this is not generally true for all kinds of classification problems but in our case it is, and only for the training data, and one must conduct the checks, for example calculating error and seeing if its 0, to proove that the data that they're working with is linearly seperable or not. "
   ]
  }
 ],
 "metadata": {
  "kernelspec": {
   "display_name": "venv",
   "language": "python",
   "name": "python3"
  },
  "language_info": {
   "codemirror_mode": {
    "name": "ipython",
    "version": 3
   },
   "file_extension": ".py",
   "mimetype": "text/x-python",
   "name": "python",
   "nbconvert_exporter": "python",
   "pygments_lexer": "ipython3",
   "version": "3.7.6"
  }
 },
 "nbformat": 4,
 "nbformat_minor": 4
}
