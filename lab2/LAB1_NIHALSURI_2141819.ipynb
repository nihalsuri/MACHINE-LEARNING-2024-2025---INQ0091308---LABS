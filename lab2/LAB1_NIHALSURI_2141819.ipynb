{
 "cells": [
  {
   "cell_type": "markdown",
   "metadata": {},
   "source": [
    "Before you turn this problem in, make sure everything runs as expected. First, **restart the kernel** (in the menubar, select Kernel$\\rightarrow$Restart) and then **run all cells** (in the menubar, select Cell$\\rightarrow$Run All).\n",
    "\n",
    "Make sure you fill in any place that says `YOUR CODE HERE` or \"YOUR ANSWER HERE\" and remove every line containing the expression: \"raise ...\" (if you leave such a line your code will not run).\n",
    "\n",
    "Do not remove any cell from the notebook you downloaded. You can add any number of cells (and remove them if not more necessary).\n",
    "\n",
    "Do not leave any variable initialized to None.\n",
    "\n",
    "## IMPORTANT: make sure to rerun all the code from the beginning to obtain the results for the final version of your notebook, since this is the way we will do it before evaluating your notebook!!!\n",
    "\n",
    "## Make sure to name your notebook file (.ipynb) correctly:\n",
    "### - LAB1_NAMESURNAME_ID (E.g. : LAB1_MARIOROSSI_2204567)\n",
    "\n",
    "## Fill in your name, surname and id number (numero matricola) below:"
   ]
  },
  {
   "cell_type": "code",
   "execution_count": 38,
   "metadata": {},
   "outputs": [],
   "source": [
    "NAME = \"NIHALSURI\"\n",
    "ID_number = int(\"2141819\")\n",
    "\n",
    "import IPython\n",
    "assert IPython.version_info[0] >= 3, \"Your version of IPython is too old, please update it.\""
   ]
  },
  {
   "cell_type": "markdown",
   "metadata": {},
   "source": [
    "---"
   ]
  },
  {
   "cell_type": "markdown",
   "metadata": {
    "deletable": false,
    "editable": false,
    "nbgrader": {
     "cell_type": "markdown",
     "checksum": "1139838df1554d8417b4eedcb4f4e644",
     "grade": false,
     "grade_id": "cell-215ce875d270849c",
     "locked": true,
     "schema_version": 3,
     "solution": false,
     "task": false
    }
   },
   "source": [
    "### Probability review: \n",
    "In this lab you are going to write some simple Python code and explore basic concepts about discrete and continuous random variables. \n",
    "\n",
    "__Probability__\n",
    "\n",
    "You are going to play with:\n",
    "- discrete r.v. \n",
    "- expected value vs empirical mean (Law of Large Numbers - LLN)\n",
    "- continuous r.v.\n",
    "- Central Limit Theorem - CLT\n",
    "\n",
    "__Python__\n",
    "\n",
    "You are going to use/see examples of:\n",
    "- classes and objects\n",
    "- f-strings\n",
    "- lambda functions\n",
    "- decorators\n",
    "- fast vs slow code"
   ]
  },
  {
   "cell_type": "markdown",
   "metadata": {
    "deletable": false,
    "editable": false,
    "nbgrader": {
     "cell_type": "markdown",
     "checksum": "2689da6efe22eebab1909c6416483f7d",
     "grade": false,
     "grade_id": "cell-d2f675ef89c13b01",
     "locked": true,
     "schema_version": 3,
     "solution": false,
     "task": false
    }
   },
   "source": [
    "Here are some very useful references (you can have a look at them later):  \n",
    "- Sci-kit complete documentation:\n",
    "    - [https://scikit-learn.org/stable/user_guide.html](https://scikit-learn.org/stable/user_guide.html)\n",
    "- Sci-kit tutorials:\n",
    "    - [https://scikit-learn.org/stable/tutorial/index.html](https://scikit-learn.org/stable/tutorial/index.html)\n",
    "- Sci-kit cheat sheet (which algorithm to choose):\n",
    "    - [https://scikit-learn.org/stable/tutorial/machine_learning_map/](https://scikit-learn.org/stable/tutorial/machine_learning_map/)\n",
    "- other cheat sheets:\n",
    "    - https://drive.google.com/drive/folders/0B4mZL0N1f9staUNOUi1RZ3hOdW8"
   ]
  },
  {
   "cell_type": "code",
   "execution_count": 39,
   "metadata": {
    "deletable": false,
    "editable": false,
    "nbgrader": {
     "cell_type": "code",
     "checksum": "4197879663af682fe7d79dddeed55726",
     "grade": false,
     "grade_id": "cell-ef418fbec3db1df7",
     "locked": true,
     "schema_version": 3,
     "solution": false,
     "task": false
    }
   },
   "outputs": [],
   "source": [
    "import numpy as np\n",
    "import matplotlib.pyplot as plt"
   ]
  },
  {
   "cell_type": "markdown",
   "metadata": {
    "deletable": false,
    "editable": false,
    "nbgrader": {
     "cell_type": "markdown",
     "checksum": "4568c20a46a2c3d317d9836fa9bcc38f",
     "grade": false,
     "grade_id": "cell-cdf42f0bb21180ac",
     "locked": true,
     "schema_version": 3,
     "solution": false,
     "task": false
    }
   },
   "source": [
    "In this notebook we will use simple random variables: dice rolls.\n",
    "Let's create a class `Dice()`."
   ]
  },
  {
   "cell_type": "code",
   "execution_count": 40,
   "metadata": {
    "deletable": false,
    "editable": false,
    "nbgrader": {
     "cell_type": "code",
     "checksum": "61543a2098fc6576eda9b54ae6c2a499",
     "grade": false,
     "grade_id": "cell-a17aec9dc711c512",
     "locked": true,
     "schema_version": 3,
     "solution": false,
     "task": false
    }
   },
   "outputs": [
    {
     "name": "stdout",
     "output_type": "stream",
     "text": [
      "This is a 6 faces dice: {faces}\n",
      "This is a 6 faces dice: [1, 2, 3, 4, 5, 6]\n"
     ]
    }
   ],
   "source": [
    "faces = [x for x in range(1, 7)]\n",
    "\n",
    "# note the difference\n",
    "print(\"This is a 6 faces dice: {faces}\")\n",
    "print(f\"This is a 6 faces dice: {faces}\")"
   ]
  },
  {
   "cell_type": "markdown",
   "metadata": {
    "deletable": false,
    "editable": false,
    "nbgrader": {
     "cell_type": "markdown",
     "checksum": "fd79ede5bff092cf9dfa5a9087d5ea7f",
     "grade": false,
     "grade_id": "cell-aad7ad8c4669709d",
     "locked": true,
     "schema_version": 3,
     "solution": false,
     "task": false
    }
   },
   "source": [
    "Python remarks:\n",
    "- Please note the inline `for`.\n",
    "- The ones above are 'formatted string literals' (also called f-strings for short), that let you include the value of Python expressions (such as variables and functions) inside a string by prefixing the string with `f` or `F` and writing expressions within curly brackets as `{expression}`."
   ]
  },
  {
   "cell_type": "code",
   "execution_count": 41,
   "metadata": {
    "deletable": false,
    "editable": false,
    "nbgrader": {
     "cell_type": "code",
     "checksum": "eeee038210b0c8dee10d289c1102225f",
     "grade": false,
     "grade_id": "cell-ec0c152eb80776b2",
     "locked": true,
     "schema_version": 3,
     "solution": false,
     "task": false
    }
   },
   "outputs": [],
   "source": [
    "fair_distribution = np.array([1 for _ in range(len(faces))])\n",
    "not_fair_distribution = np.array([i for i in range(len(faces))])\n",
    "# normalize the distributions (sum = 1)\n",
    "\n",
    "fair_distribution = fair_distribution / sum(fair_distribution)\n",
    "not_fair_distribution = not_fair_distribution / sum(not_fair_distribution)\n",
    "\n",
    "class Dice():\n",
    "    def __init__(self, faces, distribution=None):\n",
    "        self.faces = faces \n",
    "        if distribution is not None:\n",
    "            if distribution.size != len(faces):\n",
    "                raise Exception('Uncompatible faces and distribution!')\n",
    "            self.distribution = distribution / sum(distribution)\n",
    "        else:\n",
    "            # default to fair distribution\n",
    "            self.distribution = np.array([1 for _ in range(len(faces))]) / len(faces)\n",
    "            \n",
    "    def throw(self, n_throws=1):\n",
    "        return np.random.choice(self.faces, n_throws, replace=True, p=self.distribution)\n",
    "    \n",
    "fair_dice = Dice(faces, fair_distribution)\n",
    "not_fair_dice = Dice(faces, not_fair_distribution)"
   ]
  },
  {
   "cell_type": "markdown",
   "metadata": {
    "deletable": false,
    "editable": false,
    "nbgrader": {
     "cell_type": "markdown",
     "checksum": "4c4045b32811055f05d4fdaee2d7164d",
     "grade": false,
     "grade_id": "cell-8368b0ebf6b15468",
     "locked": true,
     "schema_version": 3,
     "solution": false,
     "task": false
    }
   },
   "source": [
    "Python remarks:\n",
    "- Note the structure of the simple class `Dice()`. `__init__` is the initializer method (the constructor): each instance of the class will have fields `faces` and `distribution`."
   ]
  },
  {
   "cell_type": "code",
   "execution_count": 42,
   "metadata": {
    "deletable": false,
    "editable": false,
    "nbgrader": {
     "cell_type": "code",
     "checksum": "cc077cefcd7489150e142e8440aa8c6a",
     "grade": false,
     "grade_id": "cell-4460c19cf09a24f4",
     "locked": true,
     "schema_version": 3,
     "solution": false,
     "task": false
    }
   },
   "outputs": [
    {
     "data": {
      "text/plain": [
       "array([3])"
      ]
     },
     "execution_count": 42,
     "metadata": {},
     "output_type": "execute_result"
    }
   ],
   "source": [
    "fair_dice.throw()"
   ]
  },
  {
   "cell_type": "code",
   "execution_count": 43,
   "metadata": {
    "deletable": false,
    "editable": false,
    "nbgrader": {
     "cell_type": "code",
     "checksum": "7dc2be912cd0952d133f9a0baf647c30",
     "grade": false,
     "grade_id": "cell-61b0d30e7c25feb3",
     "locked": true,
     "schema_version": 3,
     "solution": false,
     "task": false
    }
   },
   "outputs": [
    {
     "data": {
      "text/plain": [
       "array([3, 5, 4, 5, 3, 1, 5, 6, 4, 1])"
      ]
     },
     "execution_count": 43,
     "metadata": {},
     "output_type": "execute_result"
    }
   ],
   "source": [
    "fair_dice.throw(10)"
   ]
  },
  {
   "cell_type": "code",
   "execution_count": 44,
   "metadata": {
    "deletable": false,
    "editable": false,
    "nbgrader": {
     "cell_type": "code",
     "checksum": "79c196d2a627006630e371d25c7d9094",
     "grade": false,
     "grade_id": "cell-bd607d25a9f16f07",
     "locked": true,
     "schema_version": 3,
     "solution": false,
     "task": false
    }
   },
   "outputs": [
    {
     "data": {
      "text/plain": [
       "array([5, 6, 6, 5, 4, 6, 2, 5, 5, 4])"
      ]
     },
     "execution_count": 44,
     "metadata": {},
     "output_type": "execute_result"
    }
   ],
   "source": [
    "not_fair_dice.throw(10)"
   ]
  },
  {
   "cell_type": "markdown",
   "metadata": {
    "deletable": false,
    "editable": false,
    "nbgrader": {
     "cell_type": "markdown",
     "checksum": "67d5c8b0f10a0ad511e7cb1b82c4f51a",
     "grade": false,
     "grade_id": "cell-d4dfb8289b853d0c",
     "locked": true,
     "schema_version": 3,
     "solution": false,
     "task": false
    }
   },
   "source": [
    "### Computing the expected value when probabilities are known\n",
    "For ease of notation let's define the probability of obtaining the $i$-th face of the dice as $p(X=i)$, therefore the event \"we throw the dice and get the $i$-th face\" is described by $p(X=i)$ (we use $i$ to describe the possible outcomes of the random variable $X$).\n",
    "By definition of expected value we have:\n",
    "\n",
    "\\begin{equation}\n",
    "\\mathbf{E}[X] := \\mu := \\sum_{i=1}^F\n",
    "p(X=i) \\cdot i\n",
    "\\end{equation}\n",
    "\n",
    "__Note:__  This holds for any number of faces ($F$)"
   ]
  },
  {
   "cell_type": "markdown",
   "metadata": {
    "deletable": false,
    "editable": false,
    "jp-MarkdownHeadingCollapsed": true,
    "nbgrader": {
     "cell_type": "markdown",
     "checksum": "921ae5023b52651297977d72a9af98a2",
     "grade": false,
     "grade_id": "cell-970e48ccfedc7d9b",
     "locked": true,
     "schema_version": 3,
     "solution": false,
     "task": false
    }
   },
   "source": [
    "### Estimating the expected value when probabilities are unknown\n",
    "\n",
    "Say that we can roll the dice $m$ times, call each single realization $x_j$ with $j=1,2,...,m$. We can approximate the expected value using the empirical average:\n",
    "\n",
    "\\begin{align}\n",
    "\\hat{\\mu} &:= \\frac{1}{m} \\sum_{j=1}^m x_j & (1) \\\\\n",
    "          &= \\frac{1}{m} \\sum_{i=1}^F \\Big[ \\sum_{z=1}^{m_i} x_{i , z} \\Big] & (2) \\\\\n",
    "          &= \\frac{1}{m} \\sum_{i=1}^F \\Big[ \\sum_{z=1}^{m_i} \\mathbb{1}[x_{i,z}==i] * i \\Big] & (3) \\\\\n",
    "          &= \\sum_{i=1}^F \\Big[ \\frac{i}{m}  \\sum_{z=1}^{m_i} \\mathbb{1}[x_{i,z}==i] \\Big] \\\\\n",
    "          &= \\sum_{i=1}^F  \\frac{m_i}{m} i & (4) \\\\\n",
    "          &= \\sum_{i=1}^F  \\hat{p}(X=i)\\cdot i & (5) \\\\\n",
    "\\end{align}\n",
    "\n",
    "What are we doing here? \n",
    "\n",
    "$(1)$ This is the definition of empirical average.\n",
    "\n",
    "$(2)$ We switch to a double indexing: each realization is now $x_{i, z}$, where $i \\in \\{1,...,F\\}$ indicates the face, and $z \\in \\{1,...,m_i\\}$ is an incremental index used to distinguish the $m_i$ realizations with the same $i$. In other words, we put the realizations inside $F$ bins: $i$ is the index of the bin, $z$ is the subindex used inside the bin. For example:\n",
    "\n",
    "\\begin{equation*}\n",
    "     \\begin{bmatrix}\n",
    "     2 & 3 & 2 & 2 & 5 & 3 & \\\\\n",
    "     x_1 & x_2 & x_3 & x_4 & x_5 & x_6 \\\\ \n",
    "     x_{2,1} & x_{3,1} & x_{2,2} & x_{2,3} & x_{5,1} & x_{3,2}\n",
    "     \\end{bmatrix}\n",
    "     \\begin{aligned}\n",
    "     & \\leftarrow \\text{sequence of realizations} \\\\\n",
    "     & \\leftarrow \\text{indexing with } j \\\\ \n",
    "     & \\leftarrow \\text{indexing with } i,z\n",
    "     \\end{aligned}\n",
    "\\end{equation*}\n",
    "\n",
    "\n",
    "$(3)$ Since all the realizations inside bin $i$ have the same value ($i$), we can use indicator variables:\n",
    "\n",
    "\\begin{equation*}\n",
    "\\mathbb{1}[\\text{condition}] = \\begin{cases} 1 \\quad \\text{if condition is True} \\\\ 0 \\quad \\text{otherwise} \\end{cases}\n",
    "\\end{equation*}\n",
    "\n",
    "\\begin{equation*}\n",
    "\\mathbb{1}[x_{i,z}==i] = 1 \\quad \\forall z \\in \\{1, ..., m_i\\},\n",
    "\\qquad\n",
    "x_{i, z} = \\mathbb{1}[x_{i,z}==i] * i.\n",
    "\\end{equation*}\n",
    "\n",
    "\n",
    "$(4),(5)$ We see that the sample average is approximating the probability of each possible outcome: $$\\frac{m_i}{m} = \\hat{p}(X=i) \\approx p(X=i)$$\n",
    "\n",
    "Therefore we are approximating the true average $\\mathbb{E}[X]$ using the definition of expected value replacing the unknown true distribution $p(X=i)$ with its empirical approximation $\\frac{m_i}{m}$.\n",
    "\n",
    "\\begin{equation}\n",
    "\\mu = \\sum_{i=1}^F p(X=i) i \\approx \\sum_{i=1}^F \\frac{m_i}{m} i = \\hat{\\mu}\n",
    "\\end{equation}\n",
    "\n",
    "__Final remark__: Under the assumption that we have enough outcomes (and that the sampling mechanism is not \"degenerate\") we can expect the approximation to become increasingly better (this is a straighforward application of LLN). "
   ]
  },
  {
   "cell_type": "markdown",
   "metadata": {
    "deletable": false,
    "editable": false,
    "nbgrader": {
     "cell_type": "markdown",
     "checksum": "5d800a8aaf46b59af1810e7c99b242c2",
     "grade": false,
     "grade_id": "cell-79f0e61898ef3055",
     "locked": true,
     "schema_version": 3,
     "solution": false,
     "task": false
    }
   },
   "source": [
    "### Hands-on! \n",
    "Let's now see how the approximation works by means of a simulation:"
   ]
  },
  {
   "cell_type": "code",
   "execution_count": 45,
   "metadata": {
    "deletable": false,
    "nbgrader": {
     "cell_type": "code",
     "checksum": "a774f23c74f94e2fb6b5362b7fd79053",
     "grade": false,
     "grade_id": "cell-aefb09661a14821b",
     "locked": false,
     "schema_version": 3,
     "solution": true,
     "task": false
    }
   },
   "outputs": [],
   "source": [
    "# TODO 1\n",
    "# Assume you are given a Dice object and you know the probability of each face.\n",
    "# Write a function that computes the true expected value of the Dice object.\n",
    "def E(dice : Dice): # the colon after the arguments is used to specify the type of object\n",
    "    '''\n",
    "    Computes the expected value of a dice with faces from 1 to F. Implemented using the class Dice.\n",
    "    :param dice: Dice object. You can access the field 'distribution'\n",
    "    :return average: true expected value of the dice.\n",
    "    '''\n",
    "    # YOUR CODE HERE\n",
    "    avg = sum(dice.distribution*dice.faces)\n",
    "    # raise NotImplementedError() # Remove this line\n",
    "    return avg"
   ]
  },
  {
   "cell_type": "code",
   "execution_count": 46,
   "metadata": {
    "deletable": false,
    "editable": false,
    "nbgrader": {
     "cell_type": "code",
     "checksum": "2db21300ceaed382b3b365be4461ed96",
     "grade": true,
     "grade_id": "cell-146225c54b7b23ce",
     "locked": true,
     "points": 2,
     "schema_version": 3,
     "solution": false,
     "task": false
    }
   },
   "outputs": [],
   "source": [
    "# In the following test we are assuming the fair_dice has not been overwritten (6 faces and uniform distribution)\n",
    "assert np.isclose(E(fair_dice), 3.5)"
   ]
  },
  {
   "cell_type": "code",
   "execution_count": 47,
   "metadata": {
    "deletable": false,
    "editable": false,
    "nbgrader": {
     "cell_type": "code",
     "checksum": "3afb215a27d0de24270c46915c74d0cf",
     "grade": false,
     "grade_id": "cell-a1811a3fa3f60c61",
     "locked": true,
     "schema_version": 3,
     "solution": false,
     "task": false
    }
   },
   "outputs": [
    {
     "name": "stdout",
     "output_type": "stream",
     "text": [
      "Expected value of the fair dice is     : 3.50\n",
      "Expected value of the not fair dice is : 4.67\n"
     ]
    }
   ],
   "source": [
    "# In the following we are formatting the f-string using :.2f (this is standard and common with other languages).\n",
    "# In particular we are saying: display only 2 decimal digits from the float variable\n",
    "print(f\"Expected value of the fair dice is     : {E(fair_dice):.2f}\")\n",
    "print(f\"Expected value of the not fair dice is : {E(not_fair_dice):.2f}\")"
   ]
  },
  {
   "cell_type": "code",
   "execution_count": 48,
   "metadata": {
    "deletable": false,
    "nbgrader": {
     "cell_type": "code",
     "checksum": "8eb3408d1f656c6e39fff6b13a5b782f",
     "grade": false,
     "grade_id": "cell-f678f98a2b1696cc",
     "locked": false,
     "schema_version": 3,
     "solution": true,
     "task": false
    }
   },
   "outputs": [],
   "source": [
    "# TODO 2\n",
    "# Assume you are given a black-box Dice object, i.e. you don't known the probability of each face.\n",
    "# Write a function that estimates the expected value of the Dice object:\n",
    "# simulate m outcomes and evaluate the sample average.\n",
    "def empirical_E(dice : Dice, m): \n",
    "    '''\n",
    "    Approximates the expected value of a dice with faces from 1 to F using sample average. \n",
    "    Implemeted using the class Dice \n",
    "    :param dice: Dice object. You cannot access the field 'distribution'\n",
    "    :param m: number of dice rolls\n",
    "    :return average: sample average of the dice\n",
    "    '''\n",
    "    # YOUR CODE HERE\n",
    "    mean = 0\n",
    "    results = dice.throw(m)\n",
    "    for i in dice.faces:\n",
    "        mean += np.count_nonzero(results == i)*i/m\n",
    "    # raise NotImplementedError() # Remove this line\n",
    "    return mean"
   ]
  },
  {
   "cell_type": "code",
   "execution_count": 49,
   "metadata": {
    "deletable": false,
    "editable": false,
    "nbgrader": {
     "cell_type": "code",
     "checksum": "b9248510237c3c6996d437df97a5baa9",
     "grade": true,
     "grade_id": "cell-a54cd209b6fbc923",
     "locked": true,
     "points": 2,
     "schema_version": 3,
     "solution": false,
     "task": false
    }
   },
   "outputs": [
    {
     "name": "stdout",
     "output_type": "stream",
     "text": [
      "3.50277\n"
     ]
    }
   ],
   "source": [
    "empirical_avg = empirical_E(fair_dice, 100000)\n",
    "print(empirical_avg)\n",
    "assert np.isclose(empirical_avg, 3.5, atol=0.1)"
   ]
  },
  {
   "cell_type": "code",
   "execution_count": 50,
   "metadata": {
    "deletable": false,
    "editable": false,
    "nbgrader": {
     "cell_type": "code",
     "checksum": "045e59f07225a65aec2d613d22595f2c",
     "grade": false,
     "grade_id": "cell-debd863d2fc64f6a",
     "locked": true,
     "schema_version": 3,
     "solution": false,
     "task": false
    }
   },
   "outputs": [
    {
     "name": "stdout",
     "output_type": "stream",
     "text": [
      "The sample mean of the fair dice is     : 3.62\n",
      "The sample mean of the not fair dice is : 4.72\n"
     ]
    }
   ],
   "source": [
    "n_throws = 100\n",
    "print(f\"The sample mean of the fair dice is     : {empirical_E(fair_dice, m=n_throws):.2f}\")\n",
    "print(f\"The sample mean of the not fair dice is : {empirical_E(not_fair_dice, m=n_throws):.2f}\")"
   ]
  },
  {
   "cell_type": "code",
   "execution_count": 51,
   "metadata": {
    "deletable": false,
    "nbgrader": {
     "cell_type": "code",
     "checksum": "1c87e36a10d668124c38e9209f6bb956",
     "grade": true,
     "grade_id": "cell-3040721cb1f655f3",
     "locked": false,
     "points": 1,
     "schema_version": 3,
     "solution": true,
     "task": false
    }
   },
   "outputs": [
    {
     "data": {
      "text/plain": [
       "<matplotlib.legend.Legend at 0x278467ba748>"
      ]
     },
     "execution_count": 51,
     "metadata": {},
     "output_type": "execute_result"
    },
    {
     "data": {
      "image/png": "[encoded data removed]",
      "text/plain": [
       "<Figure size 1500x1000 with 1 Axes>"
      ]
     },
     "metadata": {},
     "output_type": "display_data"
    }
   ],
   "source": [
    "# TODO 3\n",
    "# Let's compare the approximation error as a function of the number of dice rolls (to see the LLN in action).\n",
    "# Create a plot with number of dice rolls (n_samples) on x-axis and sample average value (sample_averages) on y-axis. \n",
    "# Plot the sample average of multiple sequences of throws in the same figure.\n",
    "# Show the convergence towards the true expected value (plotting a constant horizontal line). \n",
    "# To plot use the matplotlib.pyplot module, more precisely look at the documentation of plt.plot(...).\n",
    "\n",
    "plt.figure(figsize=(15, 10)) # creates an empty figure\n",
    "\n",
    "# we want to plot 5 independent sequences containing 1000 realizations (dice rolls) each.\n",
    "n_samples = range(1, 1000)\n",
    "n_trials = 5\n",
    "\n",
    "for i in range(n_trials):\n",
    "    outcomes, sample_averages = [], []\n",
    "    for i_th_sample in n_samples:\n",
    "        outcomes.append(fair_dice.throw(1)[0]) # we access the first element of the numpy array fair_dice.throw(1)\n",
    "        sample_averages.append(sum(outcomes) / len(outcomes))\n",
    "\n",
    "\n",
    "    # YOUR CODE HERE\n",
    "    plt.plot(n_samples, sample_averages, label=f\"Trials{i + 1}\")\n",
    "\n",
    "plt.axhline(y = 3.5, color = 'g', linestyle = '-', label=\"Expected Value\")\n",
    "plt.legend()\n",
    "\n",
    "    # raise NotImplementedError() # Remove this line"
   ]
  },
  {
   "cell_type": "code",
   "execution_count": 67,
   "metadata": {
    "deletable": false,
    "nbgrader": {
     "cell_type": "code",
     "checksum": "0a931adc5eaaaa7c848766851fbab740",
     "grade": true,
     "grade_id": "cell-3efec61711a64d85",
     "locked": false,
     "points": 3,
     "schema_version": 3,
     "solution": true,
     "task": false
    }
   },
   "outputs": [
    {
     "data": {
      "text/plain": [
       "<matplotlib.legend.Legend at 0x27846df2d88>"
      ]
     },
     "execution_count": 67,
     "metadata": {},
     "output_type": "execute_result"
    },
    {
     "data": {
      "image/png": "[encoded data removed]",
      "text/plain": [
       "<Figure size 1500x1000 with 1 Axes>"
      ]
     },
     "metadata": {},
     "output_type": "display_data"
    }
   ],
   "source": [
    "# TODO 4\n",
    "# Let's compare the bin's distribution \n",
    "m = 100\n",
    "# Have a look at the documentation and complete the following lines\n",
    "# bins = np.linspace(#Add code)\n",
    "# binning_count, bins = np.histogram(#Add code)\n",
    "\n",
    "# try to modify the value of m (number of throws) and observe what happens\n",
    "\n",
    "# YOUR CODE HERE\n",
    "# raise NotImplementedError() # Remove this line\n",
    "bins = np.linspace(0, 7, num=7)\n",
    "binning_count, bins = np.histogram(fair_dice.throw(m), bins)\n",
    "# Normalize the counts to get approximate probabilities (since this is a discrete probability)\n",
    "binning_count = binning_count / sum(binning_count)\n",
    "plt.figure(figsize=(15, 10))\n",
    "plt.bar(fair_dice.faces, fair_dice.distribution, alpha=0.5, label='True dice distribution')\n",
    "plt.bar(fair_dice.faces, binning_count, alpha=0.5, label='Empirical distribution approximation')\n",
    "plt.legend(fontsize=20)"
   ]
  },
  {
   "attachments": {
    "index-2.png": {
     "image/png": "[encoded data removed]"
    }
   },
   "cell_type": "markdown",
   "metadata": {
    "deletable": false,
    "editable": false,
    "nbgrader": {
     "cell_type": "markdown",
     "checksum": "171cffe442d432ca3a09a664996e2948",
     "grade": false,
     "grade_id": "cell-8c25cf0ff89350bb",
     "locked": true,
     "schema_version": 3,
     "solution": false,
     "task": false
    }
   },
   "source": [
    "# General approach for continuous densities\n",
    "\n",
    "In order to represent a continuous random variable in the discrete, first we need to define $M$ partitions of its density domain. For example, if we consider a continuous scalar distribution $p(s)$ on the real line then we divide $\\mathbb{R}$ in $M$ disjoint partitons $R_i$ s.t. $\\bigcup_{i=1}^MR_i=\\mathbb{R}$. There are no further particular restrictions on the regions $R_i$ (e.g. they do not have to be equally spaced). \n",
    "\n",
    "At this point, we can approximate a continuous probability distribution with a discrete one that has: \n",
    "\n",
    "$$P[ s \\in R_i] = \\int_{R_i} p(s) ds$$ \n",
    "\n",
    "### E.g. Gaussian r.v.\n",
    "\n",
    "![index-2.png](attachment:index-2.png)\n",
    "\n",
    "## Empirical density functions (histogram)\n",
    "\n",
    "Now, suppose we have access to $m$ samples $s_1, s_2, \\dots, s_m$ from an unknown continuous distribution $p(s)$. Since the distribution is unknown, we also don't know the shape of the density function. The density function is however a useful representation, since it often makes easy to get an understanding of the distribution, i.e. what are the values we can expect when sampling it. Therefore we are now interested in drawing an approximation of the density function for the unknown distribution. Of course the only information we have about the latter distribution is given by the $m$ samples, so how can we exploit them to draw a meaningful approximation of the density function?\n",
    "\n",
    "Again, we need to divide the density domain of the unknown continuous distribution in $M$ regions. To ease the intuition we assume to deal with a r.v. on $\\mathbb{R}$ and therefore we want $\\bigcup_{i=1}^MR_i=\\mathbb{R}$. \n",
    "\n",
    "Then, for each sample $s_i, \\ i=1, \\dots, m$ in our collection, we check which region it belongs to, and we add a discrete probability mass of $1/m$ to the corresponding region. This procedure result in a frequentist approximation (a histogram!) of the unknown density function, which is more and more \"fine-grained\" (i.e. it will look more and more like a continuous function) as $M$ increases. Be aware however that if $M$ is big we need many many samples (indeed it must hold that $m >> M$) to have an accurate estimation of the relative frequency for each region!\n",
    "\n",
    "Let $f_m(R_i)$ be the relative frequency of the region $R_i$ (i.e. area of the corresponding rectangle in the histogram). Then we know that by the Law of Large numbers as $m$ goes to infinity we have:\n",
    "\n",
    "$$f_m(R_i) \\rightarrow  P[ s \\in R_i] = \\int_{R_i} p(s) ds$$ "
   ]
  },
  {
   "cell_type": "code",
   "execution_count": 70,
   "metadata": {
    "deletable": false,
    "editable": false,
    "nbgrader": {
     "cell_type": "code",
     "checksum": "a2ba7437ff412317e564fb89f7f61fb6",
     "grade": false,
     "grade_id": "cell-2daa1e5cd2889c87",
     "locked": true,
     "schema_version": 3,
     "solution": false,
     "task": false
    }
   },
   "outputs": [
    {
     "data": {
      "image/png": "[encoded data removed]",
      "text/plain": [
       "<Figure size 1500x500 with 2 Axes>"
      ]
     },
     "metadata": {},
     "output_type": "display_data"
    }
   ],
   "source": [
    "import scipy.stats as stats # for visualizing an \"unknown\" distribution\n",
    "\n",
    "# Generate m samples from an \"unknown\" distribution (normal gaussian), think of them as given!\n",
    "m = 1000\n",
    "S = np.random.normal(0, 1, m)\n",
    "\n",
    "# We define two sets of bins equally spaced between -10 and 10.\n",
    "# The other two intervals are [-inf, -10] and [10, inf] and we will assign to them 0 probability.\n",
    "bins_1 = np.linspace(-10, 10, 20)  # 19 bins\n",
    "bins_2 = np.linspace(-10, 10, 100) # 99 bins\n",
    "\n",
    "# Draw the empirical density function (the histogram)\n",
    "fig, axs = plt.subplots(1, 2, figsize=(15, 5))\n",
    "axs[0].hist(S, bins=bins_1, edgecolor='k', color='orange', density=True)\n",
    "axs[1].hist(S, bins=bins_2, edgecolor='k', color='orange', density=True)\n",
    "\n",
    "# Draw true \"unknown\" distribution\n",
    "x_plot = np.linspace(-10, 10, 1000)\n",
    "axs[0].plot(x_plot, stats.norm.pdf(x_plot, 0, 1), linewidth=2)\n",
    "axs[0].title.set_text(f'M={bins_1.size-1}')\n",
    "axs[1].plot(x_plot, stats.norm.pdf(x_plot, 0, 1), linewidth=2)\n",
    "axs[1].title.set_text(f'M={bins_2.size-1}')\n",
    "plt.show()"
   ]
  },
  {
   "cell_type": "markdown",
   "metadata": {
    "deletable": false,
    "editable": false,
    "nbgrader": {
     "cell_type": "markdown",
     "checksum": "ad0ec060a172386ee1dd20581be7d3a0",
     "grade": false,
     "grade_id": "cell-cd4492a3f2390aee",
     "locked": true,
     "schema_version": 3,
     "solution": false,
     "task": false
    }
   },
   "source": [
    "As you can see from the figure above, the more regions we use to devide the domain of the unknown density, the better we can visualize the distribution (assuming $m \\gg M$)."
   ]
  },
  {
   "cell_type": "markdown",
   "metadata": {
    "deletable": false,
    "editable": false,
    "nbgrader": {
     "cell_type": "markdown",
     "checksum": "c5467cadf9fc38a96040d02f09b26f39",
     "grade": false,
     "grade_id": "cell-c9fe4d86eae449a4",
     "locked": true,
     "schema_version": 3,
     "solution": false,
     "task": false
    }
   },
   "source": [
    "## Central Limit Theorem\n",
    "\n",
    "Let $X_1, ..., X_m$ be a sequence of i.i.d. random variables $\\sim \\mathcal{D}$ (where $\\mathcal{D}$ is a generic distribution, in our case the dice distribution) with expected value $\\mu$ and finite variance $\\sigma^2$. Consider the sample average\n",
    "$$ \\hat{\\mu}(X_1, ..., X_m) = \\frac{1}{m} \\sum_{i=1}^m X_i $$\n",
    "\n",
    "The Law of Large Numbers tells us that $\\hat{\\mu}(X_1, ..., X_m)$ converges almost surely to $\\mu$, the expectation of the underlying distribution.\n",
    "\n",
    "The Central Limit Theorem allows us to say something more about the distribution of the sample average: averaging over infinitely many random variables one converges to a Gaussian distribution.\n",
    "\n",
    "$$ \\hat{\\mu}(X_1,...,X_m) \\simeq \\mathcal{N} \\left( \\mu, \\frac{\\sigma^2}{m} \\right) \\quad \\text{when} \\ m \\rightarrow \\infty $$"
   ]
  },
  {
   "cell_type": "markdown",
   "metadata": {
    "deletable": false,
    "editable": false,
    "nbgrader": {
     "cell_type": "markdown",
     "checksum": "e0adea9e8bbeedcb3249bf267822dde1",
     "grade": false,
     "grade_id": "cell-7ed10648e4098d29",
     "locked": true,
     "schema_version": 3,
     "solution": false,
     "task": false
    }
   },
   "source": [
    "### Sample average randomness\n",
    "\n",
    "Remember the sample average $\\hat{\\mu}(X_1,...,X_m)$ is a random variable too. Therefore we can study its distribution, first moment, etc. \n",
    "\n",
    "Consider the following experiment: roll a dice $m$ times and repeat this procedure for $T$ times. We can compute the sample average on each batch composed by $m$ rolls (this is a random variable) and then we can look at the $T$ realizations of it.\n",
    "\n",
    "The empirical average $\\hat{\\mu}(X_1,...,X_m)$ is a statistics of $(X_1,...,X_m)$, i.e. a function of the outcomes $(x_1, ..., x_m)$. With different realizations $(X_1=x_1, ..., X_m=x_m)$ we get different values of $\\hat{\\mu}$. Therefore we can write $\\hat{\\mu}$ as a random variable depending on the sequence of the i.i.d. random variables $(X_1, ..., X_m)$.\n",
    "\n",
    "It is legitimate to ask ourself what is the distribution of $\\hat{\\mu}(X_1,...,X_m)$. The answer to that simple question is not trivial at all and depends on $\\mathcal{D}$. A closed form expression for $\\hat{\\mu}(X_1,...,X_m)$ might not be easy to compute. Luckily for us $\\hat{\\mu}$ is a sum of i.i.d. r.v. and therefore we can apply the Central Limit Theorem we have seen in class (many other versions exist!). We can approximate its distribution using a gaussian random variable whose mean $a$ and variance $b$ are given by the following:\n",
    "\n",
    "$$a = \\mathbb{E}[\\hat{\\mu}(X_1,...,X_m)] \\qquad b = Var [\\hat{\\mu}(X_1,...,X_m)]$$\n",
    "\n",
    "Fortunately we can easily compute such quantities using basic properties of expected value and variance:\n",
    "\n",
    "$$a = \\mathbb{E}\\Big[\\frac{1}{m}\\sum_{i=1}^m X_i\\Big] = \\frac{1}{m}\\sum_{i=1}^m \\mathbb{E}[X_i] = \\mu$$\n",
    "$$b = Var \\Big[\\frac{1}{m}\\sum_{i=1}^m X_i\\Big] = \\frac{1}{m^2}\\sum_{i=1}^m Var \\Big[X_i\\Big] = \\frac{\\sigma^2}{m}$$"
   ]
  },
  {
   "cell_type": "markdown",
   "metadata": {
    "deletable": false,
    "editable": false,
    "nbgrader": {
     "cell_type": "markdown",
     "checksum": "8fb610edc3af93c4f82a5d5fab5d989f",
     "grade": false,
     "grade_id": "cell-949b5af5eba23e72",
     "locked": true,
     "schema_version": 3,
     "solution": false,
     "task": false
    }
   },
   "source": [
    "We want to plot the limit distribution $\\mathcal{N}(a,b)$. In order to compute $b$ we need $\\sigma^2 = \\mathbb{E}[(X - \\mu)^2] = \\mathbb{E}[X^2] - (\\mathbb{E}[X])^2$. We now write a function that returns the $p$-th moment of the input random variable, and we use it to compute $\\mathbb{E}[X^2]$."
   ]
  },
  {
   "cell_type": "code",
   "execution_count": null,
   "metadata": {
    "deletable": false,
    "nbgrader": {
     "cell_type": "code",
     "checksum": "b54723f904bdf34bd119efcb7ca8fdbb",
     "grade": false,
     "grade_id": "cell-f2882c72a1703966",
     "locked": false,
     "schema_version": 3,
     "solution": true,
     "task": false
    }
   },
   "outputs": [],
   "source": [
    "# TODO 5\n",
    "# Write a function that returns the p-th moment of a Dice object with known face distribution.\n",
    "def moment(order : int, dice : Dice):\n",
    "    '''\n",
    "    Computes the p-th moment of a dice with faces from 1 to F. Implemeted using the class Dice\n",
    "    :param order: integer representing the moment order\n",
    "    :param dice: Dice object. You can access the field 'distribution'\n",
    "    :return moment: the computed moment\n",
    "    '''\n",
    "    # YOUR CODE HERE\n",
    "    # moment is E[x^2]\n",
    "    moment = sum(dice.distribution*(dice.face)^order)\n",
    "    return moment\n",
    "\n",
    "# TODO 6\n",
    "# Write a function that computes the expected value of a generic function f applied to an object Dice.\n",
    "# We will use it to test the above function 'moment()'.\n",
    "def expected_value_f(f, dice : Dice):\n",
    "    '''\n",
    "    Computing expected value of a general function applied to the faces (from 1 to F) of a dice. Implemeted using the \n",
    "    class Dice\n",
    "    :param f: function to be applied to the random variable\n",
    "    :param dice: Dice object \n",
    "    :return average: expected value of the dice\n",
    "    '''\n",
    "    # YOUR CODE HERE\n",
    "    \n",
    "    return summation"
   ]
  },
  {
   "cell_type": "code",
   "execution_count": null,
   "metadata": {
    "deletable": false,
    "editable": false,
    "nbgrader": {
     "cell_type": "code",
     "checksum": "6ae4616e7d6807d6c35b388fea11f499",
     "grade": false,
     "grade_id": "cell-a5eb6d2f9433b23b",
     "locked": true,
     "schema_version": 3,
     "solution": false,
     "task": false
    }
   },
   "outputs": [],
   "source": [
    "# Let's generate the random variable X\n",
    "n_faces, m, T = 6, 100, 10000\n",
    "dice = Dice([x for x in range(1, n_faces + 1)])"
   ]
  },
  {
   "cell_type": "code",
   "execution_count": null,
   "metadata": {
    "deletable": false,
    "editable": false,
    "nbgrader": {
     "cell_type": "code",
     "checksum": "cc7ae001df06ef0d498eeef75e7600cf",
     "grade": true,
     "grade_id": "cell-e69bfa3b420c4af5",
     "locked": true,
     "points": 4,
     "schema_version": 3,
     "solution": false,
     "task": false
    }
   },
   "outputs": [],
   "source": [
    "# Let's compare the two functions (see the use of the lambda function).\n",
    "# Lambda functions are as other functions but they can be defined using a compact synthax (one line long).\n",
    "# If you need more than one line to define your function it probably means you should not be using a lambda\n",
    "print(moment(0, dice), expected_value_f(lambda x : x**0, dice))\n",
    "print(moment(1, dice), expected_value_f(lambda x : x**1, dice))\n",
    "print(moment(2, dice), expected_value_f(lambda x : x**2, dice))\n",
    "print(expected_value_f(lambda x : np.log(x), dice))\n",
    "\n",
    "assert np.isclose(moment(0, dice),                         1., atol=0.01)\n",
    "assert np.isclose(expected_value_f(lambda x : x**0, dice), 1., atol=0.01)\n",
    "assert np.isclose(moment(1, dice),                         3.5, atol=0.01)\n",
    "assert np.isclose(expected_value_f(lambda x : x**1, dice), 3.5, atol=0.01)\n",
    "assert np.isclose(moment(2, dice),                         15.166, atol=0.01)\n",
    "assert np.isclose(expected_value_f(lambda x : x**2, dice), 15.166, atol=0.01)\n",
    "assert np.isclose(expected_value_f(lambda x : np.log(x), dice), 1.096, atol=0.01)"
   ]
  },
  {
   "cell_type": "markdown",
   "metadata": {
    "deletable": false,
    "editable": false,
    "nbgrader": {
     "cell_type": "markdown",
     "checksum": "91bdd3a539e09de171855b174e2f5d4f",
     "grade": false,
     "grade_id": "cell-6e9ddab375f732f5",
     "locked": true,
     "schema_version": 3,
     "solution": false,
     "task": false
    }
   },
   "source": [
    "We now want to empirically verify the CLT.\n",
    "\n",
    "To do so, we estimate the probability distribution of the sample average $\\hat{\\mu}(X_1,...,X_m)$ using the same approach as before. Recall the experiment described above: roll a dice $m$ times and repeat this procedure for $T$ times. We can compute the sample average on each batch composed by $m$ rolls (this is a realization of $\\hat{\\mu}$) and then we can use the $T$ realizations to build an histogram."
   ]
  },
  {
   "cell_type": "code",
   "execution_count": null,
   "metadata": {
    "deletable": false,
    "editable": false,
    "nbgrader": {
     "cell_type": "code",
     "checksum": "1adf24b003b388050391219f1bed9820",
     "grade": false,
     "grade_id": "cell-ecc1c6acd695a56b",
     "locked": true,
     "schema_version": 3,
     "solution": false,
     "task": false
    }
   },
   "outputs": [],
   "source": [
    "# Let's generate some realization of the random variable $\\hat{\\mu}$\n",
    "sample_average_realizations = []\n",
    "for t in range(T):\n",
    "    sample_average_realizations.append(empirical_E(dice, m=m))"
   ]
  },
  {
   "cell_type": "code",
   "execution_count": null,
   "metadata": {
    "deletable": false,
    "nbgrader": {
     "cell_type": "code",
     "checksum": "917c68185e0e238b92a67a91e57771d5",
     "grade": true,
     "grade_id": "cell-e3deb2c6ccded2c3",
     "locked": false,
     "points": 2,
     "schema_version": 3,
     "solution": true,
     "task": false
    }
   },
   "outputs": [],
   "source": [
    "# TODO 7\n",
    "# Let's plot the distribution of the sample average random variable. Consider for example 100 bins\n",
    "# Browse the documentation and complete the following 2 lines.\n",
    "# > bins = np.linspace(Add your code here)\n",
    "# > plt.hist(Add your code here)\n",
    "# Set the argument'density'=True so that we can compare it with a gaussian distribution with mean a and variance b\n",
    "\n",
    "# YOUR CODE HERE\n",
    "raise NotImplementedError() # Remove this line\n",
    "\n",
    "# Let's compare the empirical distribution of the sample average with the Central Limit Theorem distribution (gaussian)\n",
    "x = np.linspace(min(bins), max(bins), 100)\n",
    "a = E(dice)\n",
    "b = np.sqrt((moment(2, dice) - moment(1, dice)**2) / m)\n",
    "plt.plot(x, stats.norm.pdf(x, a, b))\n",
    "plt.title(f'Averaging {m} dice rolls and repeating it for {T} times')"
   ]
  },
  {
   "cell_type": "markdown",
   "metadata": {
    "deletable": false,
    "editable": false,
    "nbgrader": {
     "cell_type": "markdown",
     "checksum": "2cddb9c96e700c81854f79a00a7a7178",
     "grade": false,
     "grade_id": "cell-2ac1f830e2ba79a5",
     "locked": true,
     "schema_version": 3,
     "solution": false,
     "task": false
    }
   },
   "source": [
    "Play a little bit with $m$ and $T$ and see how this affects the shape of the distribution, its mean and variance."
   ]
  },
  {
   "cell_type": "code",
   "execution_count": null,
   "metadata": {
    "deletable": false,
    "editable": false,
    "nbgrader": {
     "cell_type": "code",
     "checksum": "3257d6e9c08982a10cacb8bea4fc1980",
     "grade": false,
     "grade_id": "cell-e353d14a739114ff",
     "locked": true,
     "schema_version": 3,
     "solution": false,
     "task": false
    }
   },
   "outputs": [],
   "source": [
    "# What is the mean and variance of the empirical distribution showed in the histogram?\n",
    "print(f\"Average from the histogram realizations:  {np.array(sample_average_realizations).mean():.5f}\")\n",
    "print(f\"Variance from the histogram realizations: {np.array(sample_average_realizations).var():.5f}\")"
   ]
  },
  {
   "cell_type": "code",
   "execution_count": null,
   "metadata": {
    "deletable": false,
    "editable": false,
    "nbgrader": {
     "cell_type": "code",
     "checksum": "0c36085e9c600c862e2ad83edef607f5",
     "grade": false,
     "grade_id": "cell-ffe83e8befe19b8f",
     "locked": true,
     "schema_version": 3,
     "solution": false,
     "task": false
    }
   },
   "outputs": [],
   "source": [
    "print(f\"Expected value of hat{{mu}}: a = {E(dice)}\")\n",
    "print(f\"Variance value of hat{{mu}}: b = {(moment(2, dice) - moment(1, dice)**2) / m}\")\n",
    "print(f\"Variance value of hat{{mu}}: b = {expected_value_f(lambda x: (x - E(dice))**2, dice) / m}\")\n",
    "# Note these values are very close the their empirical counterparts estimated using the histogram"
   ]
  },
  {
   "cell_type": "markdown",
   "metadata": {
    "deletable": false,
    "editable": false,
    "nbgrader": {
     "cell_type": "markdown",
     "checksum": "397a4e3f99b1098269cd315789cfe691",
     "grade": false,
     "grade_id": "cell-3c7717b4858fd243",
     "locked": true,
     "schema_version": 3,
     "solution": false,
     "task": false
    }
   },
   "source": [
    "We now want to visualize the convergence of the sample average $\\hat{\\mu}(X_1,...,X_m)$ to $\\mathcal{N} \\left( \\mu, \\frac{\\sigma^2}{m} \\right)$ as a function of the number of samples $m$.\n",
    "\n",
    "Do the same as in TODO 3, but: 1) use the unfair dice, 2) plot also the confidence interval $\\pm 2 \\sqrt{b}$."
   ]
  },
  {
   "cell_type": "code",
   "execution_count": null,
   "metadata": {
    "deletable": false,
    "nbgrader": {
     "cell_type": "code",
     "checksum": "e62578645e1c5fc5473d1f4bf644081f",
     "grade": true,
     "grade_id": "cell-1a0aa1f0bab7034a",
     "locked": false,
     "points": 0,
     "schema_version": 3,
     "solution": true,
     "task": false
    }
   },
   "outputs": [],
   "source": [
    "# TODO 8\n",
    "# Let's plot the mean and variance of the sample average $\\hat{\\mu}$ as a function of the number of samples m.\n",
    "# Same as TODO 3:\n",
    "#    Create a plot with number of dice rolls (n_samples) on x-axis and sample average value (sample_averages) on y-axis. \n",
    "#    Plot the sample average of multiple sequences of throws in the same figure.\n",
    "#    Show the convergence towards the true expected value (plotting a constant horizontal line).\n",
    "# New:\n",
    "#    Plot also the 2*\\sqrt{b} confidence interval.\n",
    "\n",
    "plt.figure(figsize=(15, 10))\n",
    "\n",
    "# we want to plot 5 independent sequences containing 1000 realizations (dice rolls) each.\n",
    "n_samples = range(1, 1000)\n",
    "n_trials = 5\n",
    "\n",
    "# edit the code of TODO 3:\n",
    "# - use not_fair_dice\n",
    "# - plot also the confidence interval [\\mu - 2*\\sqrt{b}, \\mu + 2*\\sqrt{b}] \n",
    "\n",
    "# YOUR CODE HERE\n",
    "raise NotImplementedError() # Remove this line"
   ]
  },
  {
   "cell_type": "markdown",
   "metadata": {
    "deletable": false,
    "editable": false,
    "nbgrader": {
     "cell_type": "markdown",
     "checksum": "21317d3e81f2aa5cfa98ebc784ade237",
     "grade": false,
     "grade_id": "cell-ad240ca01a145a00",
     "locked": true,
     "schema_version": 3,
     "solution": false,
     "task": false
    }
   },
   "source": [
    "# Extra exercises\n",
    "\n",
    "In the following some small variations of the above exercises are proposed to practice with python."
   ]
  },
  {
   "cell_type": "markdown",
   "metadata": {
    "deletable": false,
    "editable": false,
    "nbgrader": {
     "cell_type": "markdown",
     "checksum": "cef463ff453e42f37a3ecb899b295123",
     "grade": false,
     "grade_id": "cell-7692c88902936074",
     "locked": true,
     "schema_version": 3,
     "solution": false,
     "task": false
    }
   },
   "source": [
    "### Dice with high number of edges"
   ]
  },
  {
   "cell_type": "code",
   "execution_count": null,
   "metadata": {
    "deletable": false,
    "editable": false,
    "nbgrader": {
     "cell_type": "code",
     "checksum": "ba975dc55c81f0d32c62666c1fe88dec",
     "grade": false,
     "grade_id": "cell-025216eefc67bfa0",
     "locked": true,
     "schema_version": 3,
     "solution": false,
     "task": false
    }
   },
   "outputs": [],
   "source": [
    "# Let's now create a dice to play D&D (20 faces)\n",
    "n_faces = 20\n",
    "DandDdice = Dice([x for x in range(1, n_faces + 1)])"
   ]
  },
  {
   "cell_type": "code",
   "execution_count": null,
   "metadata": {
    "deletable": false,
    "editable": false,
    "nbgrader": {
     "cell_type": "code",
     "checksum": "121fa7c1a7d5ffd028917ec1aec0364c",
     "grade": false,
     "grade_id": "cell-b9382383b529619e",
     "locked": true,
     "schema_version": 3,
     "solution": false,
     "task": false
    }
   },
   "outputs": [],
   "source": [
    "print(f\"Expected value of the fair dice is     : {E(DandDdice):.2f}\")\n",
    "n_throws = 100\n",
    "print(f\"Sample average of the fair dice is     : {empirical_E(DandDdice, m=n_throws):.2f}\")"
   ]
  },
  {
   "cell_type": "code",
   "execution_count": null,
   "metadata": {
    "deletable": false,
    "nbgrader": {
     "cell_type": "code",
     "checksum": "8677eabec75c58778acdf52678cba0c4",
     "grade": true,
     "grade_id": "cell-07dca166b7574aaf",
     "locked": false,
     "points": 1,
     "schema_version": 3,
     "solution": true,
     "task": false
    }
   },
   "outputs": [],
   "source": [
    "# TODO 9\n",
    "# Let's copy the code from above and create a function to plot the sample average approximation error\n",
    "# as a function of the number of throws\n",
    "def plot_approximation_error(dice : Dice, m):\n",
    "    '''\n",
    "    Plot empirical average approximation error for a given dice and number of throws.\n",
    "    This function does not create a new plt.figure() so that we can plot multiple realizations on the same plot\n",
    "    :param m: Number of throws\n",
    "    '''\n",
    "    # Let's compare the approximation error as a function of the number of throws (to see the LLN in action)\n",
    "\n",
    "    # YOUR CODE HERE\n",
    "    raise NotImplementedError() # Remove this line"
   ]
  },
  {
   "cell_type": "code",
   "execution_count": null,
   "metadata": {
    "deletable": false,
    "editable": false,
    "nbgrader": {
     "cell_type": "code",
     "checksum": "ea571801c6286773226a05b8987c76a4",
     "grade": false,
     "grade_id": "cell-8609e79bcc00800b",
     "locked": true,
     "schema_version": 3,
     "solution": false,
     "task": false
    }
   },
   "outputs": [],
   "source": [
    "# Compare different realizations of the sample average \n",
    "plt.figure(figsize=(15, 10))\n",
    "plot_approximation_error(DandDdice, m=1000)\n",
    "plot_approximation_error(DandDdice, m=1000)\n",
    "plot_approximation_error(DandDdice, m=1000)\n",
    "plot_approximation_error(DandDdice, m=1000)\n",
    "# You can do the same using the following more compact expression\n",
    "# [plot_approximation_error(DandDdice, m=1000) for _ in range(4)]"
   ]
  },
  {
   "cell_type": "code",
   "execution_count": null,
   "metadata": {
    "deletable": false,
    "editable": false,
    "nbgrader": {
     "cell_type": "code",
     "checksum": "a5f51f88a25df61a9a05f9b41ef53a89",
     "grade": false,
     "grade_id": "cell-de3e7c6f5ccb74c3",
     "locked": true,
     "schema_version": 3,
     "solution": false,
     "task": false
    }
   },
   "outputs": [],
   "source": [
    "DandDdice = Dice([x for x in range(1, 100 + 1)])\n",
    "plt.figure(figsize=(15, 10))\n",
    "plot_approximation_error(DandDdice, m=1000)"
   ]
  },
  {
   "cell_type": "markdown",
   "metadata": {
    "deletable": false,
    "editable": false,
    "nbgrader": {
     "cell_type": "markdown",
     "checksum": "437ba39d1cb6f6eef5483398b78e35e5",
     "grade": false,
     "grade_id": "cell-595236e6c086cdbc",
     "locked": true,
     "schema_version": 3,
     "solution": false,
     "task": false
    }
   },
   "source": [
    "Now try to create a not fair dice (try with different number of faces, e.g. 50, 100, ...) and plot the convergence of the empirical approximation of the expected value to the expected value."
   ]
  },
  {
   "cell_type": "code",
   "execution_count": null,
   "metadata": {
    "deletable": false,
    "nbgrader": {
     "cell_type": "code",
     "checksum": "6bd09fe895e228ce012e787d4050de7b",
     "grade": true,
     "grade_id": "cell-d17311a7bd4f720f",
     "locked": false,
     "points": 2,
     "schema_version": 3,
     "solution": true,
     "task": false
    }
   },
   "outputs": [],
   "source": [
    "# TODO 10\n",
    "n_faces = 100\n",
    "# YOUR CODE HERE\n",
    "raise NotImplementedError() # Remove this line"
   ]
  },
  {
   "cell_type": "code",
   "execution_count": null,
   "metadata": {
    "deletable": false,
    "editable": false,
    "nbgrader": {
     "cell_type": "code",
     "checksum": "0b4f44e361d08536c69796b496b915ce",
     "grade": false,
     "grade_id": "cell-ba003b0542328149",
     "locked": true,
     "schema_version": 3,
     "solution": false,
     "task": false
    }
   },
   "outputs": [],
   "source": [
    "# Let's compare the bin's distribution \n",
    "m = 1000\n",
    "bins = np.linspace(dice.faces[0] - 0.5, dice.faces[-1] + 0.5, len(dice.faces) + 1)\n",
    "binning_count, bins = np.histogram(dice.throw(m), bins)\n",
    "\n",
    "# Normalize the counts to get approximate probabilities (since this is a discrete probability)\n",
    "binning_count = binning_count / sum(binning_count)\n",
    "plt.figure(figsize=(15, 10))\n",
    "\n",
    "plt.bar(dice.faces, dice.distribution, alpha=0.5, label='True dice distribution')\n",
    "plt.bar(dice.faces, binning_count, alpha=0.5, label='Empirical distribution approximation')\n",
    "plt.legend(fontsize=20)\n",
    "\n",
    "print(f\"Expected value of the fair dice is     : {E(dice):.2f}\")\n",
    "n_throws = 1000\n",
    "print(f\"Empirical average of the fair dice is     : {empirical_E(dice, m=n_throws):.2f}\")"
   ]
  },
  {
   "cell_type": "markdown",
   "metadata": {
    "deletable": false,
    "editable": false,
    "nbgrader": {
     "cell_type": "markdown",
     "checksum": "28ea33420c2ddd79030d09f6633de486",
     "grade": false,
     "grade_id": "cell-3c7af91dd217d6e0",
     "locked": true,
     "schema_version": 3,
     "solution": false,
     "task": false
    }
   },
   "source": [
    "### Lambda functions"
   ]
  },
  {
   "cell_type": "code",
   "execution_count": null,
   "metadata": {
    "deletable": false,
    "nbgrader": {
     "cell_type": "code",
     "checksum": "1b97704feac55eafddbf858ae31e9db0",
     "grade": false,
     "grade_id": "cell-4569cba42dd94678",
     "locked": false,
     "schema_version": 3,
     "solution": true,
     "task": false
    }
   },
   "outputs": [],
   "source": [
    "# TODO 11\n",
    "# Create your own lambda function which applies cosine to a numpy array and return it\n",
    "# Test the lambda function printing some values and plot cos(x) using plt.plot and your lambda\n",
    "# function = # Add your code here\n",
    "# YOUR CODE HERE\n",
    "raise NotImplementedError() # Remove this line"
   ]
  },
  {
   "cell_type": "code",
   "execution_count": null,
   "metadata": {
    "deletable": false,
    "editable": false,
    "nbgrader": {
     "cell_type": "code",
     "checksum": "e1eee4cbe40040e6d35f6abe147735c9",
     "grade": true,
     "grade_id": "cell-72b4fd1a64cc0cd3",
     "locked": true,
     "points": 1,
     "schema_version": 3,
     "solution": false,
     "task": false
    }
   },
   "outputs": [],
   "source": [
    "assert np.isclose(function(0.), 1.)\n",
    "assert np.isclose(function(np.pi/2), 0.)"
   ]
  },
  {
   "cell_type": "markdown",
   "metadata": {
    "deletable": false,
    "editable": false,
    "nbgrader": {
     "cell_type": "markdown",
     "checksum": "779faecb0a7d67828879db861c3234aa",
     "grade": false,
     "grade_id": "cell-50404ff2c3a4a4d6",
     "locked": true,
     "schema_version": 3,
     "solution": false,
     "task": false
    }
   },
   "source": [
    "### Fast and slow code "
   ]
  },
  {
   "cell_type": "markdown",
   "metadata": {
    "deletable": false,
    "editable": false,
    "nbgrader": {
     "cell_type": "markdown",
     "checksum": "ba5e69ffdf8c2b7ef62d4ceda482498e",
     "grade": false,
     "grade_id": "cell-b5e2f9f3f06c506d",
     "locked": true,
     "schema_version": 3,
     "solution": false,
     "task": false
    }
   },
   "source": [
    "Below we show how to use decorators to increase the functionalities of a function without implementing it from scratch. Say you have built your own complex function, call it F. Unfortunately you forgot to implement a marginal functionality such as a time or memory consumption meter (or e.g. some data preprocessing). Using a decorator you can extend the functionalities of your function wihtout changing its implementation nor its signature (inputs). You can simply specify what are the new lines of code that must be performed before and/or after your function and place them into a decorator. Then you just need to add the decorator syntax when you define the function F. This comes handy in the case you are not willing to change your function implementation to preserve compatibility with an old codebase.\n",
    "\n",
    "This is an 'advanced' python topic, we do not require you to know what is happening under the hood. Nonetheless try to remember the existence of decorators since we will need them later in the labs.\n",
    "\n",
    "`*args` is used to pass a non-keyworded, variable-length argument list, for example `('1', '2', '3')`.\n",
    "\n",
    "`**kwargs ` is used to pass a keyworded, variable-length argument list, for example `(a='1', b='2', c='3')`."
   ]
  },
  {
   "cell_type": "code",
   "execution_count": null,
   "metadata": {
    "deletable": false,
    "editable": false,
    "nbgrader": {
     "cell_type": "code",
     "checksum": "717c7473d21ed52d9153ac065a60bff0",
     "grade": false,
     "grade_id": "cell-14b3536f950cd4c0",
     "locked": true,
     "schema_version": 3,
     "solution": false,
     "task": false
    }
   },
   "outputs": [],
   "source": [
    "# Check time needed to run the 2 functions.\n",
    "\n",
    "def measure_time(function):\n",
    "    def wrapper(*args, **kw):\n",
    "        import time \n",
    "        t_start = time.time()\n",
    "        result = function(*args, **kw)\n",
    "        t_end = time.time()\n",
    "        print(f\"Function: {function.__name__} \\nwith args: [{args}, {kw}], \\ntook {t_end - t_start:.5f} seconds\")\n",
    "        return result\n",
    "    return wrapper\n",
    "\n",
    "\n",
    "@measure_time\n",
    "def expected_value_f_py(f, dice : Dice):\n",
    "    '''Same doc string as before'''\n",
    "    return sum([f(i)*p for i, p in zip(dice.faces, dice.distribution)])\n",
    "\n",
    "# the same as: expected_value_f_py = measure_time(expected_value_f_py)\n",
    "\n",
    "\n",
    "@measure_time\n",
    "def expected_value_f_np(f, dice : Dice):\n",
    "    '''Same doc string as before'''\n",
    "    return np.dot(f(np.array(dice.faces)), dice.distribution)\n",
    "\n",
    "\n",
    "# To wrap up, say someone gave you a python decorator, in order to use it you only need to place it before the \n",
    "# function definition (using the proper python syntax)"
   ]
  },
  {
   "cell_type": "code",
   "execution_count": null,
   "metadata": {
    "deletable": false,
    "nbgrader": {
     "cell_type": "code",
     "checksum": "77562d8b0088b99b68cd594eae98cb55",
     "grade": true,
     "grade_id": "cell-8473e2bbf0593f56",
     "locked": false,
     "points": 2,
     "schema_version": 3,
     "solution": true,
     "task": false
    }
   },
   "outputs": [],
   "source": [
    "# TODO 12\n",
    "# Use the decorator to decorate your own implementation of 'expected_value_f' and compare it with the running time of \n",
    "# functions defined in the previous cell\n",
    "\n",
    "# YOUR CODE HERE\n",
    "raise NotImplementedError() # Remove this line"
   ]
  },
  {
   "cell_type": "code",
   "execution_count": null,
   "metadata": {
    "deletable": false,
    "editable": false,
    "nbgrader": {
     "cell_type": "code",
     "checksum": "2a723bce0959aadc71b135b7522b7d69",
     "grade": false,
     "grade_id": "cell-db77a14ecc5dfe08",
     "locked": true,
     "schema_version": 3,
     "solution": false,
     "task": false
    }
   },
   "outputs": [],
   "source": [
    "# Let's measure the time it takes to run the functions we wrote \n",
    "n_faces, N, T = 600000, 100, 10000\n",
    "dice = Dice([x for x in range(1, n_faces + 1)])"
   ]
  },
  {
   "cell_type": "code",
   "execution_count": null,
   "metadata": {
    "deletable": false,
    "editable": false,
    "nbgrader": {
     "cell_type": "code",
     "checksum": "83cdc4726d15b7877d7589a5ace32c8f",
     "grade": false,
     "grade_id": "cell-792ccafc3e32e491",
     "locked": true,
     "schema_version": 3,
     "solution": false,
     "task": false
    }
   },
   "outputs": [],
   "source": [
    "expected_value_f(np.log, dice)"
   ]
  },
  {
   "cell_type": "code",
   "execution_count": null,
   "metadata": {
    "deletable": false,
    "editable": false,
    "nbgrader": {
     "cell_type": "code",
     "checksum": "3c8a9fd5c0fb6f028bb5bd1bf01b2043",
     "grade": false,
     "grade_id": "cell-8408d6e1b4532645",
     "locked": true,
     "schema_version": 3,
     "solution": false,
     "task": false
    }
   },
   "outputs": [],
   "source": [
    "expected_value_f_py(np.log, dice)"
   ]
  },
  {
   "cell_type": "code",
   "execution_count": null,
   "metadata": {
    "deletable": false,
    "editable": false,
    "nbgrader": {
     "cell_type": "code",
     "checksum": "0833075098aa718b63d85e508ba5a265",
     "grade": false,
     "grade_id": "cell-5994964df883c4d6",
     "locked": true,
     "schema_version": 3,
     "solution": false,
     "task": false
    }
   },
   "outputs": [],
   "source": [
    "expected_value_f_np(np.log, dice)"
   ]
  }
 ],
 "metadata": {
  "kernelspec": {
   "display_name": "venv",
   "language": "python",
   "name": "python3"
  },
  "language_info": {
   "codemirror_mode": {
    "name": "ipython",
    "version": 3
   },
   "file_extension": ".py",
   "mimetype": "text/x-python",
   "name": "python",
   "nbconvert_exporter": "python",
   "pygments_lexer": "ipython3",
   "version": "3.7.6"
  }
 },
 "nbformat": 4,
 "nbformat_minor": 4
}
